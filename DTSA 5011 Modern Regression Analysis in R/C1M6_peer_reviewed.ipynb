{
 "cells": [
  {
   "cell_type": "markdown",
   "metadata": {},
   "source": [
    "# Module 6: Peer Reviewed Assignment"
   ]
  },
  {
   "cell_type": "markdown",
   "metadata": {},
   "source": [
    "### Outline:\n",
    "The objectives for this assignment:\n",
    "\n",
    "1. Apply the processes of model selection with real datasets.\n",
    "2. Understand why and how some problems are simpler to solve with some forms of model selection, and others are more difficult.\n",
    "3. Be able to explain the balance between model power and simplicity.\n",
    "3. Observe the difference between different model selection criterion.\n",
    "\n",
    "General tips:\n",
    "\n",
    "1. Read the questions carefully to understand what is being asked.\n",
    "2. This work will be reviewed by another human, so make sure that you are clear and concise in what your explanations and answers."
   ]
  },
  {
   "cell_type": "code",
   "execution_count": 1,
   "metadata": {},
   "outputs": [
    {
     "name": "stderr",
     "output_type": "stream",
     "text": [
      "── \u001b[1mAttaching packages\u001b[22m ─────────────────────────────────────── tidyverse 1.3.0 ──\n",
      "\n",
      "\u001b[32m✔\u001b[39m \u001b[34mggplot2\u001b[39m 3.3.0     \u001b[32m✔\u001b[39m \u001b[34mpurrr  \u001b[39m 0.3.4\n",
      "\u001b[32m✔\u001b[39m \u001b[34mtibble \u001b[39m 3.0.1     \u001b[32m✔\u001b[39m \u001b[34mdplyr  \u001b[39m 0.8.5\n",
      "\u001b[32m✔\u001b[39m \u001b[34mtidyr  \u001b[39m 1.0.2     \u001b[32m✔\u001b[39m \u001b[34mstringr\u001b[39m 1.4.0\n",
      "\u001b[32m✔\u001b[39m \u001b[34mreadr  \u001b[39m 1.3.1     \u001b[32m✔\u001b[39m \u001b[34mforcats\u001b[39m 0.5.0\n",
      "\n",
      "── \u001b[1mConflicts\u001b[22m ────────────────────────────────────────── tidyverse_conflicts() ──\n",
      "\u001b[31m✖\u001b[39m \u001b[34mdplyr\u001b[39m::\u001b[32mfilter()\u001b[39m masks \u001b[34mstats\u001b[39m::filter()\n",
      "\u001b[31m✖\u001b[39m \u001b[34mdplyr\u001b[39m::\u001b[32mlag()\u001b[39m    masks \u001b[34mstats\u001b[39m::lag()\n",
      "\n"
     ]
    }
   ],
   "source": [
    "# This cell loads in the necesary packages\n",
    "library(tidyverse)\n",
    "library(leaps)\n",
    "library(ggplot2)"
   ]
  },
  {
   "cell_type": "markdown",
   "metadata": {},
   "source": [
    "## Problem 1: We Need Concrete Evidence!\n",
    "\n",
    "[Ralphie](https://en.wikipedia.org/wiki/Ralphie_the_Buffalo) is studying to become a civil engineer. That means she has to know everything about concrete, including what ingredients go in it and how they affect the concrete's properties. She's currently writting up a project about concrete flow, and has asked you to help her figure out which ingredients are the most important. Let's use our new model selection techniques to help Ralphie out!\n",
    "\n",
    "Data Source: Yeh, I-Cheng, \"Modeling slump flow of concrete using second-order regressions and \n",
    "artificial neural networks,\" Cement and Concrete Composites, Vol.29, No. 6, 474-480, \n",
    "2007."
   ]
  },
  {
   "cell_type": "code",
   "execution_count": 2,
   "metadata": {},
   "outputs": [
    {
     "data": {
      "text/html": [
       "<table>\n",
       "<caption>A data.frame: 6 × 8</caption>\n",
       "<thead>\n",
       "\t<tr><th></th><th scope=col>cement</th><th scope=col>slag</th><th scope=col>ash</th><th scope=col>water</th><th scope=col>sp</th><th scope=col>course.agg</th><th scope=col>fine.agg</th><th scope=col>flow</th></tr>\n",
       "\t<tr><th></th><th scope=col>&lt;dbl&gt;</th><th scope=col>&lt;dbl&gt;</th><th scope=col>&lt;dbl&gt;</th><th scope=col>&lt;dbl&gt;</th><th scope=col>&lt;dbl&gt;</th><th scope=col>&lt;dbl&gt;</th><th scope=col>&lt;dbl&gt;</th><th scope=col>&lt;dbl&gt;</th></tr>\n",
       "</thead>\n",
       "<tbody>\n",
       "\t<tr><th scope=row>1</th><td>273</td><td> 82</td><td>105</td><td>210</td><td> 9</td><td>904</td><td>680</td><td>62.0</td></tr>\n",
       "\t<tr><th scope=row>2</th><td>163</td><td>149</td><td>191</td><td>180</td><td>12</td><td>843</td><td>746</td><td>20.0</td></tr>\n",
       "\t<tr><th scope=row>3</th><td>162</td><td>148</td><td>191</td><td>179</td><td>16</td><td>840</td><td>743</td><td>20.0</td></tr>\n",
       "\t<tr><th scope=row>4</th><td>162</td><td>148</td><td>190</td><td>179</td><td>19</td><td>838</td><td>741</td><td>21.5</td></tr>\n",
       "\t<tr><th scope=row>5</th><td>154</td><td>112</td><td>144</td><td>220</td><td>10</td><td>923</td><td>658</td><td>64.0</td></tr>\n",
       "\t<tr><th scope=row>6</th><td>147</td><td> 89</td><td>115</td><td>202</td><td> 9</td><td>860</td><td>829</td><td>55.0</td></tr>\n",
       "</tbody>\n",
       "</table>\n"
      ],
      "text/latex": [
       "A data.frame: 6 × 8\n",
       "\\begin{tabular}{r|llllllll}\n",
       "  & cement & slag & ash & water & sp & course.agg & fine.agg & flow\\\\\n",
       "  & <dbl> & <dbl> & <dbl> & <dbl> & <dbl> & <dbl> & <dbl> & <dbl>\\\\\n",
       "\\hline\n",
       "\t1 & 273 &  82 & 105 & 210 &  9 & 904 & 680 & 62.0\\\\\n",
       "\t2 & 163 & 149 & 191 & 180 & 12 & 843 & 746 & 20.0\\\\\n",
       "\t3 & 162 & 148 & 191 & 179 & 16 & 840 & 743 & 20.0\\\\\n",
       "\t4 & 162 & 148 & 190 & 179 & 19 & 838 & 741 & 21.5\\\\\n",
       "\t5 & 154 & 112 & 144 & 220 & 10 & 923 & 658 & 64.0\\\\\n",
       "\t6 & 147 &  89 & 115 & 202 &  9 & 860 & 829 & 55.0\\\\\n",
       "\\end{tabular}\n"
      ],
      "text/markdown": [
       "\n",
       "A data.frame: 6 × 8\n",
       "\n",
       "| <!--/--> | cement &lt;dbl&gt; | slag &lt;dbl&gt; | ash &lt;dbl&gt; | water &lt;dbl&gt; | sp &lt;dbl&gt; | course.agg &lt;dbl&gt; | fine.agg &lt;dbl&gt; | flow &lt;dbl&gt; |\n",
       "|---|---|---|---|---|---|---|---|---|\n",
       "| 1 | 273 |  82 | 105 | 210 |  9 | 904 | 680 | 62.0 |\n",
       "| 2 | 163 | 149 | 191 | 180 | 12 | 843 | 746 | 20.0 |\n",
       "| 3 | 162 | 148 | 191 | 179 | 16 | 840 | 743 | 20.0 |\n",
       "| 4 | 162 | 148 | 190 | 179 | 19 | 838 | 741 | 21.5 |\n",
       "| 5 | 154 | 112 | 144 | 220 | 10 | 923 | 658 | 64.0 |\n",
       "| 6 | 147 |  89 | 115 | 202 |  9 | 860 | 829 | 55.0 |\n",
       "\n"
      ],
      "text/plain": [
       "  cement slag ash water sp course.agg fine.agg flow\n",
       "1 273     82  105 210    9 904        680      62.0\n",
       "2 163    149  191 180   12 843        746      20.0\n",
       "3 162    148  191 179   16 840        743      20.0\n",
       "4 162    148  190 179   19 838        741      21.5\n",
       "5 154    112  144 220   10 923        658      64.0\n",
       "6 147     89  115 202    9 860        829      55.0"
      ]
     },
     "metadata": {},
     "output_type": "display_data"
    }
   ],
   "source": [
    "concrete.data = read.csv(\"Concrete.data\")\n",
    "\n",
    "concrete.data = concrete.data[, c(-1, -9, -11)]\n",
    "names(concrete.data) = c(\"cement\", \"slag\", \"ash\", \"water\", \"sp\", \"course.agg\", \"fine.agg\", \"flow\")\n",
    "\n",
    "head(concrete.data)"
   ]
  },
  {
   "cell_type": "markdown",
   "metadata": {},
   "source": [
    "### 1. (a) Initial Inspections\n",
    "\n",
    "Sometimes, the best way to start is to just jump in and mess around with the model. So let's do that. Create a linear model with `flow` as the response and all other columns as predictors.\n",
    "\n",
    "Just by looking at the summary for your model, is there reason to believe that our model could be simpler?"
   ]
  },
  {
   "cell_type": "code",
   "execution_count": 3,
   "metadata": {},
   "outputs": [
    {
     "data": {
      "text/plain": [
       "\n",
       "Call:\n",
       "lm(formula = flow ~ ., data = concrete.data)\n",
       "\n",
       "Residuals:\n",
       "    Min      1Q  Median      3Q     Max \n",
       "-30.880 -10.428   1.815   9.601  22.953 \n",
       "\n",
       "Coefficients:\n",
       "              Estimate Std. Error t value Pr(>|t|)  \n",
       "(Intercept) -252.87467  350.06649  -0.722   0.4718  \n",
       "cement         0.05364    0.11236   0.477   0.6342  \n",
       "slag          -0.00569    0.15638  -0.036   0.9710  \n",
       "ash            0.06115    0.11402   0.536   0.5930  \n",
       "water          0.73180    0.35282   2.074   0.0408 *\n",
       "sp             0.29833    0.66263   0.450   0.6536  \n",
       "course.agg     0.07366    0.13510   0.545   0.5869  \n",
       "fine.agg       0.09402    0.14191   0.663   0.5092  \n",
       "---\n",
       "Signif. codes:  0 ‘***’ 0.001 ‘**’ 0.01 ‘*’ 0.05 ‘.’ 0.1 ‘ ’ 1\n",
       "\n",
       "Residual standard error: 12.84 on 95 degrees of freedom\n",
       "Multiple R-squared:  0.5022,\tAdjusted R-squared:  0.4656 \n",
       "F-statistic: 13.69 on 7 and 95 DF,  p-value: 3.915e-12\n"
      ]
     },
     "metadata": {},
     "output_type": "display_data"
    }
   ],
   "source": [
    "# Your Code Here\n",
    "concrete.lm = lm(data = concrete.data, formula = flow ~ .)\n",
    "summary(concrete.lm)"
   ]
  },
  {
   "cell_type": "markdown",
   "metadata": {},
   "source": [
    "Looking at the model summary shows that only one of the predictors has a p-value less than 0.05. Essentially, most of the predictors are not significant and so the model can be simpler if some are removed. It is likely also the case that a few of the predictors are having undesirable effects on the model as a whole. Figuring out which ones are best to remove is certainly a worthwhile task to make the model simpler and better."
   ]
  },
  {
   "cell_type": "markdown",
   "metadata": {},
   "source": [
    "### 1. (b) Backwards Selection\n",
    "Our model has $7$ predictors. That is not too many, so we can use backwards selection to narrow them down to the most impactful.\n",
    "\n",
    "Perform backwards selection on your model. You don't have to automate the backwards selection process."
   ]
  },
  {
   "cell_type": "code",
   "execution_count": 4,
   "metadata": {},
   "outputs": [
    {
     "name": "stderr",
     "output_type": "stream",
     "text": [
      "Loading required package: lattice\n",
      "\n",
      "\n",
      "Attaching package: ‘caret’\n",
      "\n",
      "\n",
      "The following object is masked from ‘package:purrr’:\n",
      "\n",
      "    lift\n",
      "\n",
      "\n"
     ]
    }
   ],
   "source": [
    "# Your Code Here\n",
    "library(tidyverse)\n",
    "library(caret)\n",
    "library(leaps)\n",
    "\n",
    "\n",
    "set.seed(91)\n",
    "train.control <- trainControl(method = \"cv\", number = 10)\n",
    "step.model <- train(flow ~., data = concrete.data,\n",
    "                    method = \"leapBackward\", \n",
    "                    tuneGrid = data.frame(nvmax = 1:7),\n",
    "                    trControl = train.control\n",
    "                    )"
   ]
  },
  {
   "cell_type": "code",
   "execution_count": 5,
   "metadata": {},
   "outputs": [
    {
     "data": {
      "text/html": [
       "<table>\n",
       "<caption>A data.frame: 7 × 7</caption>\n",
       "<thead>\n",
       "\t<tr><th></th><th scope=col>nvmax</th><th scope=col>RMSE</th><th scope=col>Rsquared</th><th scope=col>MAE</th><th scope=col>RMSESD</th><th scope=col>RsquaredSD</th><th scope=col>MAESD</th></tr>\n",
       "\t<tr><th></th><th scope=col>&lt;int&gt;</th><th scope=col>&lt;dbl&gt;</th><th scope=col>&lt;dbl&gt;</th><th scope=col>&lt;dbl&gt;</th><th scope=col>&lt;dbl&gt;</th><th scope=col>&lt;dbl&gt;</th><th scope=col>&lt;dbl&gt;</th></tr>\n",
       "</thead>\n",
       "<tbody>\n",
       "\t<tr><th scope=row>1</th><td>1</td><td>13.47424</td><td>0.4558112</td><td>11.53428</td><td>2.355786</td><td>0.2080745</td><td>2.222686</td></tr>\n",
       "\t<tr><th scope=row>2</th><td>2</td><td>13.56651</td><td>0.4444407</td><td>11.48684</td><td>2.526269</td><td>0.2245271</td><td>2.389611</td></tr>\n",
       "\t<tr><th scope=row>3</th><td>3</td><td>13.47827</td><td>0.4561530</td><td>11.53407</td><td>2.712882</td><td>0.2436323</td><td>2.657156</td></tr>\n",
       "\t<tr><th scope=row>4</th><td>4</td><td>13.10484</td><td>0.4722376</td><td>11.08751</td><td>2.758823</td><td>0.2226460</td><td>2.760766</td></tr>\n",
       "\t<tr><th scope=row>5</th><td>5</td><td>12.71436</td><td>0.5139511</td><td>10.88454</td><td>2.959819</td><td>0.2678322</td><td>3.126598</td></tr>\n",
       "\t<tr><th scope=row>6</th><td>6</td><td>12.83089</td><td>0.5070470</td><td>11.00584</td><td>2.923395</td><td>0.2699133</td><td>3.117087</td></tr>\n",
       "\t<tr><th scope=row>7</th><td>7</td><td>12.84088</td><td>0.5069901</td><td>11.03840</td><td>2.919280</td><td>0.2699540</td><td>3.106442</td></tr>\n",
       "</tbody>\n",
       "</table>\n"
      ],
      "text/latex": [
       "A data.frame: 7 × 7\n",
       "\\begin{tabular}{r|lllllll}\n",
       "  & nvmax & RMSE & Rsquared & MAE & RMSESD & RsquaredSD & MAESD\\\\\n",
       "  & <int> & <dbl> & <dbl> & <dbl> & <dbl> & <dbl> & <dbl>\\\\\n",
       "\\hline\n",
       "\t1 & 1 & 13.47424 & 0.4558112 & 11.53428 & 2.355786 & 0.2080745 & 2.222686\\\\\n",
       "\t2 & 2 & 13.56651 & 0.4444407 & 11.48684 & 2.526269 & 0.2245271 & 2.389611\\\\\n",
       "\t3 & 3 & 13.47827 & 0.4561530 & 11.53407 & 2.712882 & 0.2436323 & 2.657156\\\\\n",
       "\t4 & 4 & 13.10484 & 0.4722376 & 11.08751 & 2.758823 & 0.2226460 & 2.760766\\\\\n",
       "\t5 & 5 & 12.71436 & 0.5139511 & 10.88454 & 2.959819 & 0.2678322 & 3.126598\\\\\n",
       "\t6 & 6 & 12.83089 & 0.5070470 & 11.00584 & 2.923395 & 0.2699133 & 3.117087\\\\\n",
       "\t7 & 7 & 12.84088 & 0.5069901 & 11.03840 & 2.919280 & 0.2699540 & 3.106442\\\\\n",
       "\\end{tabular}\n"
      ],
      "text/markdown": [
       "\n",
       "A data.frame: 7 × 7\n",
       "\n",
       "| <!--/--> | nvmax &lt;int&gt; | RMSE &lt;dbl&gt; | Rsquared &lt;dbl&gt; | MAE &lt;dbl&gt; | RMSESD &lt;dbl&gt; | RsquaredSD &lt;dbl&gt; | MAESD &lt;dbl&gt; |\n",
       "|---|---|---|---|---|---|---|---|\n",
       "| 1 | 1 | 13.47424 | 0.4558112 | 11.53428 | 2.355786 | 0.2080745 | 2.222686 |\n",
       "| 2 | 2 | 13.56651 | 0.4444407 | 11.48684 | 2.526269 | 0.2245271 | 2.389611 |\n",
       "| 3 | 3 | 13.47827 | 0.4561530 | 11.53407 | 2.712882 | 0.2436323 | 2.657156 |\n",
       "| 4 | 4 | 13.10484 | 0.4722376 | 11.08751 | 2.758823 | 0.2226460 | 2.760766 |\n",
       "| 5 | 5 | 12.71436 | 0.5139511 | 10.88454 | 2.959819 | 0.2678322 | 3.126598 |\n",
       "| 6 | 6 | 12.83089 | 0.5070470 | 11.00584 | 2.923395 | 0.2699133 | 3.117087 |\n",
       "| 7 | 7 | 12.84088 | 0.5069901 | 11.03840 | 2.919280 | 0.2699540 | 3.106442 |\n",
       "\n"
      ],
      "text/plain": [
       "  nvmax RMSE     Rsquared  MAE      RMSESD   RsquaredSD MAESD   \n",
       "1 1     13.47424 0.4558112 11.53428 2.355786 0.2080745  2.222686\n",
       "2 2     13.56651 0.4444407 11.48684 2.526269 0.2245271  2.389611\n",
       "3 3     13.47827 0.4561530 11.53407 2.712882 0.2436323  2.657156\n",
       "4 4     13.10484 0.4722376 11.08751 2.758823 0.2226460  2.760766\n",
       "5 5     12.71436 0.5139511 10.88454 2.959819 0.2678322  3.126598\n",
       "6 6     12.83089 0.5070470 11.00584 2.923395 0.2699133  3.117087\n",
       "7 7     12.84088 0.5069901 11.03840 2.919280 0.2699540  3.106442"
      ]
     },
     "metadata": {},
     "output_type": "display_data"
    }
   ],
   "source": [
    "step.model$results"
   ]
  },
  {
   "cell_type": "code",
   "execution_count": 6,
   "metadata": {},
   "outputs": [
    {
     "data": {
      "text/html": [
       "<table>\n",
       "<caption>A data.frame: 1 × 1</caption>\n",
       "<thead>\n",
       "\t<tr><th></th><th scope=col>nvmax</th></tr>\n",
       "\t<tr><th></th><th scope=col>&lt;int&gt;</th></tr>\n",
       "</thead>\n",
       "<tbody>\n",
       "\t<tr><th scope=row>5</th><td>5</td></tr>\n",
       "</tbody>\n",
       "</table>\n"
      ],
      "text/latex": [
       "A data.frame: 1 × 1\n",
       "\\begin{tabular}{r|l}\n",
       "  & nvmax\\\\\n",
       "  & <int>\\\\\n",
       "\\hline\n",
       "\t5 & 5\\\\\n",
       "\\end{tabular}\n"
      ],
      "text/markdown": [
       "\n",
       "A data.frame: 1 × 1\n",
       "\n",
       "| <!--/--> | nvmax &lt;int&gt; |\n",
       "|---|---|\n",
       "| 5 | 5 |\n",
       "\n"
      ],
      "text/plain": [
       "  nvmax\n",
       "5 5    "
      ]
     },
     "metadata": {},
     "output_type": "display_data"
    }
   ],
   "source": [
    "step.model$bestTune"
   ]
  },
  {
   "cell_type": "code",
   "execution_count": 7,
   "metadata": {},
   "outputs": [
    {
     "data": {
      "text/plain": [
       "Subset selection object\n",
       "7 Variables  (and intercept)\n",
       "           Forced in Forced out\n",
       "cement         FALSE      FALSE\n",
       "slag           FALSE      FALSE\n",
       "ash            FALSE      FALSE\n",
       "water          FALSE      FALSE\n",
       "sp             FALSE      FALSE\n",
       "course.agg     FALSE      FALSE\n",
       "fine.agg       FALSE      FALSE\n",
       "1 subsets of each size up to 5\n",
       "Selection Algorithm: backward\n",
       "         cement slag ash water sp  course.agg fine.agg\n",
       "1  ( 1 ) \" \"    \" \"  \" \" \"*\"   \" \" \" \"        \" \"     \n",
       "2  ( 1 ) \" \"    \" \"  \" \" \"*\"   \" \" \" \"        \"*\"     \n",
       "3  ( 1 ) \" \"    \" \"  \" \" \"*\"   \" \" \"*\"        \"*\"     \n",
       "4  ( 1 ) \" \"    \" \"  \"*\" \"*\"   \" \" \"*\"        \"*\"     \n",
       "5  ( 1 ) \"*\"    \" \"  \"*\" \"*\"   \" \" \"*\"        \"*\"     "
      ]
     },
     "metadata": {},
     "output_type": "display_data"
    }
   ],
   "source": [
    "summary(step.model$finalModel)"
   ]
  },
  {
   "cell_type": "code",
   "execution_count": 8,
   "metadata": {},
   "outputs": [
    {
     "ename": "ERROR",
     "evalue": "Error in summary(backward.select.m): object 'backward.select.m' not found\n",
     "output_type": "error",
     "traceback": [
      "Error in summary(backward.select.m): object 'backward.select.m' not found\nTraceback:\n",
      "1. summary(backward.select.m)"
     ]
    }
   ],
   "source": [
    "backward.select.lm = lm(data = concrete.data, formula = flow ~ cement + ash + water + course.agg + fine.agg)\n",
    "summary(backward.select.m)"
   ]
  },
  {
   "cell_type": "markdown",
   "metadata": {},
   "source": [
    "### 1. (c) Objection!\n",
    "\n",
    "Stop right there! Think about what you just did. You just removed the \"worst\" features from your model. But we know that a model will become less powerful when we remove features so we should check that it's still just as powerful as the original model. Use a test to check whether the model at the end of backward selection is significantly different than the model with all the features.\n",
    "\n",
    "Describe why we want to balance explanatory power with simplicity."
   ]
  },
  {
   "cell_type": "code",
   "execution_count": null,
   "metadata": {},
   "outputs": [],
   "source": [
    "# Your Code Here\n",
    "sprintf(\"The adjusted R-squared for the backward selection model is: %s\", \n",
    "        summary(backward.select.lm)$adj.r.squared)\n",
    "sprintf(\"The adjusted R-squared for the original model is: %s\",\n",
    "        summary(concrete.lm)$adj.r.squared)"
   ]
  },
  {
   "cell_type": "markdown",
   "metadata": {},
   "source": [
    "Comparing the adjusted $R^2$ value for the original model and the backward selection model shows that the model contrived from backward selection of predictors explains the data slightly better, and most importantly not any worse, than the original model with all of the predictors. The values are above for comparison. We want to maximize the explainability of the data when we build models so that we can verify the relationship in the data via the slopes, which are more robust when $R^2$ is higher. Additionally, by balancing explanatory power with simplicity, we avoid over and under fitting of the model."
   ]
  },
  {
   "cell_type": "markdown",
   "metadata": {},
   "source": [
    "### 1. (d) Checking our Model\n",
    "\n",
    "Ralphie is nervous about her project and wants to make sure our model is correct. She's found a function called `regsubsets()` in the leaps package which allows us to see which subsets of arguments produce the best combinations. Ralphie wrote up the code for you and the documentation for the function can be found [here](https://www.rdocumentation.org/packages/leaps/versions/2.1-1/topics/regsubsets). For each of the subsets of features, calculate the AIC, BIC and adjusted $R^2$. Plot the results of each criterion, with the score on the y-axis and the number of features on the x-axis. \n",
    "\n",
    "Do all of the criterion agree on how many features make the best model? Explain why the criterion will or will not always agree on the best model.\n",
    "\n",
    "**Hint**: It may help to look at the attributes stored within the regsubsets summary using `names(rs)`."
   ]
  },
  {
   "cell_type": "code",
   "execution_count": null,
   "metadata": {},
   "outputs": [],
   "source": [
    "reg = regsubsets(flow ~ cement+slag+ash+water+sp+course.agg+fine.agg+flow, data=concrete.data, nvmax=6)\n",
    "rs = summary(reg)\n",
    "#rs$which\n",
    "\n",
    "# Your Code Here\n",
    "\n",
    "rs$outmat\n",
    "\n",
    "n = length(concrete.data$flow)\n",
    "p = apply(rs$which, 1, sum)\n",
    "aic = rs$bic - log(n) * p + 2 * p\n",
    "\n",
    "res = data.frame(x=1:6, bic=rs$bic, adjr2=rs$adjr2, aic=aic)\n",
    "\n",
    "plot(x=1:6,y=rs$bic,xlab=\"Number of Features\",ylab=\"BIC\",main=\"regsubsets results (bic)\")\n",
    "plot(x=1:6,y=rs$adjr2,xlab=\"Number of Features\",ylab=\"Adjusted R-squared\",main=\"regsubsets results (adjr2)\")\n",
    "plot(x=1:6,y=aic,xlab=\"Number of Features\",ylab=\"AIC\",main=\"regsubsets results (aic)\")"
   ]
  },
  {
   "cell_type": "markdown",
   "metadata": {},
   "source": [
    "All of the criterion agree that 2 features makes for the best model. The lowest AIC/BIC values come from models with 2 features, and the hights adjusted R-squred comes from the model with 2 features. These values are all in agreeance. It is not always the case that these criteria will always agree since they all measure something different. R-squared quantifies how well the model explains observed data, AIC quantifies how well the model is suited for predicting future values, and BIC is much like AIC but better used in situations where explanation is the goal of the model since it penalizes the addition of more features."
   ]
  },
  {
   "cell_type": "code",
   "execution_count": null,
   "metadata": {},
   "outputs": [],
   "source": []
  }
 ],
 "metadata": {
  "kernelspec": {
   "display_name": "R",
   "language": "R",
   "name": "ir"
  },
  "language_info": {
   "codemirror_mode": "r",
   "file_extension": ".r",
   "mimetype": "text/x-r-source",
   "name": "R",
   "pygments_lexer": "r",
   "version": "3.6.3"
  }
 },
 "nbformat": 4,
 "nbformat_minor": 4
}
