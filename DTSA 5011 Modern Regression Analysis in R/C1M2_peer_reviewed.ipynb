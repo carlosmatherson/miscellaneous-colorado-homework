{
 "cells": [
  {
   "cell_type": "markdown",
   "metadata": {},
   "source": [
    "# Module 2: Peer Reviewed Assignment"
   ]
  },
  {
   "cell_type": "markdown",
   "metadata": {},
   "source": [
    "### Outline:\n",
    "The objectives for this assignment:\n",
    "\n",
    "1. Mathematically derive the values of $\\hat{\\beta}_0$ and $\\hat{\\beta}_1$\n",
    "2. Enhance our skills with linear regression modeling.\n",
    "3. Learn the uses and limitations of RSS, ESS, TSS and $R^2$.\n",
    "4. Analyze and interpret nonidentifiability.\n",
    "\n",
    "General tips:\n",
    "\n",
    "1. Read the questions carefully to understand what is being asked.\n",
    "2. This work will be reviewed by another human, so make sure that you are clear and concise in what your explanations and answers."
   ]
  },
  {
   "cell_type": "code",
   "execution_count": 34,
   "metadata": {},
   "outputs": [],
   "source": [
    "# Load Required Packages\n",
    "library(RCurl) #a package that includes the function getURL(), which allows for reading data from github.\n",
    "library(tidyverse)"
   ]
  },
  {
   "cell_type": "markdown",
   "metadata": {},
   "source": [
    "## Problem 1: Maximum Likelihood Estimates (MLEs)\n",
    "\n",
    "Consider the simple linear regression model $Y_i = \\beta_0 + \\beta_1x_i + \\varepsilon_i$ for $i = 1,...,n$, $\\,\\,\\,\\varepsilon_i \\sim N(0,\\sigma^2)$. In the videos, we showed that the least squares estimator in matrix-vector form is $\\mathbf{\\widehat{\\beta}} = (\\beta_0, \\beta_1)^T = (X^TX)^{-1}X^T\\mathbf{Y}$. In this problem, you will derive the least squares estimators for simple linear regression without (explicitly) using linear algebra.\n",
    "\n",
    "Least squares requires that we minimize $$f(\\mathbf{x}; \\beta_0, \\beta_1) = \\sum^n_{i=1}\\bigg(Y_i - [\\beta_0 + \\beta_1x_i] \\bigg)^2$$ over $\\beta_0$ and $\\beta_1$. "
   ]
  },
  {
   "cell_type": "markdown",
   "metadata": {},
   "source": [
    "#### 1. (a) Taking Derivatives\n",
    "\n",
    "Find the partial derivative of $f(\\mathbf{x}; \\beta_0, \\beta_1)$ with respect to $\\beta_0$, and the partial derivative of $f(\\mathbf{x}; \\beta_0, \\beta_1)$ with respect to $\\beta_1$. Recall that the partial derivative with respect to $x$ of a multivariate function $h(x,y)$ is calculated by taking the derivative  of $h$ with respect to $x$ while treating $y$ constant."
   ]
  },
  {
   "cell_type": "markdown",
   "metadata": {},
   "source": [
    "$\\frac{\\partial{f}}{\\partial{\\beta_0}} = -2\\sum^{n}_{i=1}(\\mathbf{Y_i}-\\beta_0-\\beta_1x_i)$ and \n",
    "$\\frac{\\partial{f}}{\\partial{\\beta_1}} = -2\\sum^{n}_{i=1}(\\mathbf{Y_i}-\\beta_0-\\beta_1x_i)$"
   ]
  },
  {
   "cell_type": "markdown",
   "metadata": {},
   "source": [
    "#### 1. (b) Solving for $\\hat{\\beta}_0$ and $\\hat{\\beta}_1$\n",
    "\n",
    "Use **1. (a)** to find the minimizers,  $\\widehat{\\beta}_0$ and $\\widehat{\\beta}_1$, of $f$. That is, set each partial derivative to zero and solve for $\\beta_0$ and $\\beta_1$. In particular, show\n",
    "\n",
    "$$\n",
    "\\widehat{\\beta}_1 = \\frac{\\sum^n_{i=1}(x_i - \\bar{x})(Y_i -\\bar{Y})}{\\sum^n_{i=1}(x_i - \\bar{x})^2} \n",
    "\\qquad \\text{ and } \\qquad\n",
    "\\widehat{\\beta}_0 = \\bar{Y} - \\widehat{\\beta}_1\\bar{x}\n",
    "$$"
   ]
  },
  {
   "cell_type": "markdown",
   "metadata": {},
   "source": [
    "Solving $\\frac{\\partial{f}}{\\partial{\\beta_0}} = -2\\sum^{n}_{i=1}(\\mathbf{Y_i}-\\beta_0-\\beta_1x_i) = 0$ for $\\beta_0$ results in $n\\beta_0 + \\beta_1\\sum^{n}_{i=1}x_i = \\sum^{n}_{i=1}\\mathbf{Y_i}$. Solving $\\frac{\\partial{f}}{\\partial{\\beta_1}} = -2\\sum^{n}_{i=1}(\\mathbf{Y_i}-\\beta_0-\\beta_1x_i) = 0$ for $\\beta_1$ results in $\\beta_0\\sum^{n}_{i=1}x_i + \\beta_1\\sum^{n}_{i=1}x_i^2 = \\sum^{n}_{i=1}x_i\\mathbf{Y_i}$. Solving these equations in parallel as a system of equations results in the desired estimators above.\n"
   ]
  },
  {
   "cell_type": "markdown",
   "metadata": {},
   "source": [
    "## Problem 2: Oh My Goodness of Fit!\n",
    "\n",
    "In the US, public schools have been slowly increasing class sizes over the last 15 years [https://stats.oecd.org/Index.aspx?DataSetCode=EDU_CLASS]. The general cause for this is because it saves money to have more kids per teacher. But how much money does it save? Let's use some of our new regression skills to try and figure this out. Below is an explanation of the variables in the dataset.\n",
    "\n",
    "Variables/Columns:  \n",
    "School  \n",
    "Per-Pupil Cost  (Dollars)   \n",
    "Average daily Attendance   \n",
    "Average Monthly Teacher Salary (Dollars)  \n",
    "Percent Attendance       \n",
    "Pupil/Teacher ratio   \n",
    "\n",
    "Data Source: E.R. Enlow (1938). \"Do Small Schools Mean Large Costs?,\" Peabody Journal of Educaltion, Vol. 16, \\#1, pp. 1-11"
   ]
  },
  {
   "cell_type": "code",
   "execution_count": 35,
   "metadata": {
    "scrolled": false
   },
   "outputs": [
    {
     "name": "stderr",
     "output_type": "stream",
     "text": [
      "Parsed with column specification:\n",
      "cols(\n",
      "  Adair = \u001b[31mcol_character()\u001b[39m,\n",
      "  `66.90` = \u001b[32mcol_double()\u001b[39m,\n",
      "  `451.4` = \u001b[32mcol_double()\u001b[39m,\n",
      "  `160.22` = \u001b[32mcol_double()\u001b[39m,\n",
      "  `90.77` = \u001b[32mcol_double()\u001b[39m,\n",
      "  `33.8` = \u001b[32mcol_double()\u001b[39m\n",
      ")\n",
      "\n"
     ]
    },
    {
     "data": {
      "text/html": [
       "<table>\n",
       "<caption>A tibble: 6 × 6</caption>\n",
       "<thead>\n",
       "\t<tr><th scope=col>school</th><th scope=col>cost</th><th scope=col>avg.attendance</th><th scope=col>avg.salary</th><th scope=col>pct.attendance</th><th scope=col>pup.tch.ratio</th></tr>\n",
       "\t<tr><th scope=col>&lt;chr&gt;</th><th scope=col>&lt;dbl&gt;</th><th scope=col>&lt;dbl&gt;</th><th scope=col>&lt;dbl&gt;</th><th scope=col>&lt;dbl&gt;</th><th scope=col>&lt;dbl&gt;</th></tr>\n",
       "</thead>\n",
       "<tbody>\n",
       "\t<tr><td>Calhoun     </td><td>108.57</td><td>219.1</td><td>161.79</td><td>89.86</td><td>23.0</td></tr>\n",
       "\t<tr><td>Capitol View</td><td> 70.00</td><td>268.9</td><td>136.37</td><td>92.44</td><td>29.4</td></tr>\n",
       "\t<tr><td>Connally    </td><td> 49.04</td><td>161.7</td><td>106.86</td><td>92.01</td><td>29.4</td></tr>\n",
       "\t<tr><td>Couch       </td><td> 71.51</td><td>422.1</td><td>147.17</td><td>91.60</td><td>29.2</td></tr>\n",
       "\t<tr><td>Crew        </td><td> 61.08</td><td>440.6</td><td>146.24</td><td>89.32</td><td>36.3</td></tr>\n",
       "\t<tr><td>Davis       </td><td>105.21</td><td>139.4</td><td>159.79</td><td>86.51</td><td>22.6</td></tr>\n",
       "</tbody>\n",
       "</table>\n"
      ],
      "text/latex": [
       "A tibble: 6 × 6\n",
       "\\begin{tabular}{llllll}\n",
       " school & cost & avg.attendance & avg.salary & pct.attendance & pup.tch.ratio\\\\\n",
       " <chr> & <dbl> & <dbl> & <dbl> & <dbl> & <dbl>\\\\\n",
       "\\hline\n",
       "\t Calhoun      & 108.57 & 219.1 & 161.79 & 89.86 & 23.0\\\\\n",
       "\t Capitol View &  70.00 & 268.9 & 136.37 & 92.44 & 29.4\\\\\n",
       "\t Connally     &  49.04 & 161.7 & 106.86 & 92.01 & 29.4\\\\\n",
       "\t Couch        &  71.51 & 422.1 & 147.17 & 91.60 & 29.2\\\\\n",
       "\t Crew         &  61.08 & 440.6 & 146.24 & 89.32 & 36.3\\\\\n",
       "\t Davis        & 105.21 & 139.4 & 159.79 & 86.51 & 22.6\\\\\n",
       "\\end{tabular}\n"
      ],
      "text/markdown": [
       "\n",
       "A tibble: 6 × 6\n",
       "\n",
       "| school &lt;chr&gt; | cost &lt;dbl&gt; | avg.attendance &lt;dbl&gt; | avg.salary &lt;dbl&gt; | pct.attendance &lt;dbl&gt; | pup.tch.ratio &lt;dbl&gt; |\n",
       "|---|---|---|---|---|---|\n",
       "| Calhoun      | 108.57 | 219.1 | 161.79 | 89.86 | 23.0 |\n",
       "| Capitol View |  70.00 | 268.9 | 136.37 | 92.44 | 29.4 |\n",
       "| Connally     |  49.04 | 161.7 | 106.86 | 92.01 | 29.4 |\n",
       "| Couch        |  71.51 | 422.1 | 147.17 | 91.60 | 29.2 |\n",
       "| Crew         |  61.08 | 440.6 | 146.24 | 89.32 | 36.3 |\n",
       "| Davis        | 105.21 | 139.4 | 159.79 | 86.51 | 22.6 |\n",
       "\n"
      ],
      "text/plain": [
       "  school       cost   avg.attendance avg.salary pct.attendance pup.tch.ratio\n",
       "1 Calhoun      108.57 219.1          161.79     89.86          23.0         \n",
       "2 Capitol View  70.00 268.9          136.37     92.44          29.4         \n",
       "3 Connally      49.04 161.7          106.86     92.01          29.4         \n",
       "4 Couch         71.51 422.1          147.17     91.60          29.2         \n",
       "5 Crew          61.08 440.6          146.24     89.32          36.3         \n",
       "6 Davis        105.21 139.4          159.79     86.51          22.6         "
      ]
     },
     "metadata": {},
     "output_type": "display_data"
    },
    {
     "data": {
      "text/html": [
       "<style>\n",
       ".list-inline {list-style: none; margin:0; padding: 0}\n",
       ".list-inline>li {display: inline-block}\n",
       ".list-inline>li:not(:last-child)::after {content: \"\\00b7\"; padding: 0 .5ex}\n",
       "</style>\n",
       "<ol class=list-inline><li>43</li><li>6</li></ol>\n"
      ],
      "text/latex": [
       "\\begin{enumerate*}\n",
       "\\item 43\n",
       "\\item 6\n",
       "\\end{enumerate*}\n"
      ],
      "text/markdown": [
       "1. 43\n",
       "2. 6\n",
       "\n",
       "\n"
      ],
      "text/plain": [
       "[1] 43  6"
      ]
     },
     "metadata": {},
     "output_type": "display_data"
    }
   ],
   "source": [
    "school.data = read_table(\"school.dat\")\n",
    "names(school.data) = c(\"school\", \"cost\", \"avg.attendance\", \"avg.salary\", \"pct.attendance\", \"pup.tch.ratio\")\n",
    "head(school.data)\n",
    "dim(school.data)"
   ]
  },
  {
   "cell_type": "markdown",
   "metadata": {},
   "source": [
    "#### 2. (a) Create a model\n",
    "\n",
    "Begin by creating two figures for your model. The first with `pup.tch.ratio` on the x-axis and `cost` on the y-axis. The second with `avg.salary` on the x-axis and `cost` on the y-axis. Does there appear to be a relation between these two predictors and the response.\n",
    "\n",
    "Then fit a multiple linear regression model with `cost` as the response and `pup.tch.ratio` and `avg.salary` as predictors."
   ]
  },
  {
   "cell_type": "code",
   "execution_count": 36,
   "metadata": {},
   "outputs": [
    {
     "data": {
      "text/plain": [
       "\n",
       "Call:\n",
       "lm(formula = cost ~ pup.tch.ratio + avg.salary, data = school.data)\n",
       "\n",
       "Coefficients:\n",
       "  (Intercept)  pup.tch.ratio     avg.salary  \n",
       "     120.2376        -2.8259         0.2406  \n"
      ]
     },
     "metadata": {},
     "output_type": "display_data"
    },
    {
     "data": {
      "image/png": "[encoded data removed]",
      "text/plain": [
       "plot without title"
      ]
     },
     "metadata": {
      "image/png": {
       "height": 420,
       "width": 420
      },
      "text/plain": {
       "height": 420,
       "width": 420
      }
     },
     "output_type": "display_data"
    },
    {
     "data": {
      "image/png": "[encoded data removed]",
      "text/plain": [
       "plot without title"
      ]
     },
     "metadata": {
      "image/png": {
       "height": 420,
       "width": 420
      },
      "text/plain": {
       "height": 420,
       "width": 420
      }
     },
     "output_type": "display_data"
    }
   ],
   "source": [
    "# Your Code Here\n",
    "g1 = ggplot(school.data, aes(x=pup.tch.ratio,y=cost)) + geom_point() + geom_smooth(method=\"lm\",formula=y~x,se=FALSE)\n",
    "g2 = ggplot(school.data, aes(x=avg.salary,y=cost)) + geom_point() + geom_smooth(method=\"lm\",formula=y~x,se=FALSE)\n",
    "\n",
    "mlr_school = lm(cost ~ pup.tch.ratio + avg.salary, school.data)\n",
    "\n",
    "mlr_school\n",
    "g1\n",
    "g2\n"
   ]
  },
  {
   "cell_type": "markdown",
   "metadata": {},
   "source": [
    "#### 2. (b) RSS, ESS and TSS\n",
    "\n",
    "In the code block below, manually calculate the RSS, ESS and TSS for your MLR model. Print the results."
   ]
  },
  {
   "cell_type": "code",
   "execution_count": 63,
   "metadata": {},
   "outputs": [
    {
     "data": {
      "text/html": [
       "'RSS = 2384.59693812851'"
      ],
      "text/latex": [
       "'RSS = 2384.59693812851'"
      ],
      "text/markdown": [
       "'RSS = 2384.59693812851'"
      ],
      "text/plain": [
       "[1] \"RSS = 2384.59693812851\""
      ]
     },
     "metadata": {},
     "output_type": "display_data"
    },
    {
     "data": {
      "text/html": [
       "'ESS = 4188.56832698776'"
      ],
      "text/latex": [
       "'ESS = 4188.56832698776'"
      ],
      "text/markdown": [
       "'ESS = 4188.56832698776'"
      ],
      "text/plain": [
       "[1] \"ESS = 4188.56832698776\""
      ]
     },
     "metadata": {},
     "output_type": "display_data"
    },
    {
     "data": {
      "text/html": [
       "'TSS = 6573.16526511628'"
      ],
      "text/latex": [
       "'TSS = 6573.16526511628'"
      ],
      "text/markdown": [
       "'TSS = 6573.16526511628'"
      ],
      "text/plain": [
       "[1] \"TSS = 6573.16526511628\""
      ]
     },
     "metadata": {},
     "output_type": "display_data"
    }
   ],
   "source": [
    "# Your Code Here\n",
    "\n",
    "\n",
    "y = school.data$cost\n",
    "yhat = coef(mlr_school)[\"(Intercept)\"] + \n",
    "    coef(mlr_school)[\"pup.tch.ratio\"]*school.data$pup.tch.ratio + \n",
    "    coef(mlr_school)[\"avg.salary\"]*school.data$avg.salary\n",
    "\n",
    "RSS = sum((y - yhat)^2)\n",
    "ESS = sum((yhat-mean(y))^2)\n",
    "TSS = sum((y-mean(y))^2)\n",
    "\n",
    "sprintf(\"RSS = %s\", RSS)\n",
    "sprintf(\"ESS = %s\", ESS)\n",
    "sprintf(\"TSS = %s\", TSS)"
   ]
  },
  {
   "cell_type": "markdown",
   "metadata": {},
   "source": [
    "#### 2. (c) Are you Squared?\n",
    "\n",
    "Using the values from **2.b**, calculate the $R^2$ value for your model. Check your results with those produced from the `summary()` statement of your model.\n",
    "\n",
    "In words, describe what this value means for your model."
   ]
  },
  {
   "cell_type": "code",
   "execution_count": 64,
   "metadata": {},
   "outputs": [
    {
     "data": {
      "text/html": [
       "'my R^2 = 0.637222427559589'"
      ],
      "text/latex": [
       "'my R\\textasciicircum{}2 = 0.637222427559589'"
      ],
      "text/markdown": [
       "'my R^2 = 0.637222427559589'"
      ],
      "text/plain": [
       "[1] \"my R^2 = 0.637222427559589\""
      ]
     },
     "metadata": {},
     "output_type": "display_data"
    },
    {
     "data": {
      "text/plain": [
       "\n",
       "Call:\n",
       "lm(formula = cost ~ pup.tch.ratio + avg.salary, data = school.data)\n",
       "\n",
       "Residuals:\n",
       "     Min       1Q   Median       3Q      Max \n",
       "-13.8290  -5.2752  -0.8332   3.8253  19.6986 \n",
       "\n",
       "Coefficients:\n",
       "               Estimate Std. Error t value Pr(>|t|)    \n",
       "(Intercept)   120.23756   17.73230   6.781 3.79e-08 ***\n",
       "pup.tch.ratio  -2.82585    0.37714  -7.493 3.90e-09 ***\n",
       "avg.salary      0.24061    0.08396   2.866   0.0066 ** \n",
       "---\n",
       "Signif. codes:  0 ‘***’ 0.001 ‘**’ 0.01 ‘*’ 0.05 ‘.’ 0.1 ‘ ’ 1\n",
       "\n",
       "Residual standard error: 7.721 on 40 degrees of freedom\n",
       "Multiple R-squared:  0.6372,\tAdjusted R-squared:  0.6191 \n",
       "F-statistic: 35.13 on 2 and 40 DF,  p-value: 1.559e-09\n"
      ]
     },
     "metadata": {},
     "output_type": "display_data"
    }
   ],
   "source": [
    "# Your Code Here\n",
    "\n",
    "Rsquared = 1 - RSS/TSS\n",
    "sprintf(\"my R^2 = %s\", Rsquared)\n",
    "\n",
    "summary(mlr_school)"
   ]
  },
  {
   "cell_type": "markdown",
   "metadata": {},
   "source": [
    "My calculations yielded $R^2 = 0.6372$, which is the same as the $R^2$ from the model summary statment. This means that about 62% of the response is explained by the predictors."
   ]
  },
  {
   "cell_type": "markdown",
   "metadata": {},
   "source": [
    "#### 2. (d) Conclusions\n",
    "\n",
    "Describe at least two advantages and two disadvantages of the $R^2$ value."
   ]
  },
  {
   "cell_type": "markdown",
   "metadata": {},
   "source": [
    "$R^2$ is disadvantages when making causal claims about data and needs to be adjusted for the number of predictors in the data. 2 advantages of this number is that it determines the proportion of variance in the response variable that is explained by the predictor variables, and it shows association between the variables."
   ]
  },
  {
   "cell_type": "markdown",
   "metadata": {},
   "source": [
    "# Problem 3: Identifiability\n",
    "\n",
    "**This problem might require some outside-of-class research if you haven't taken a linear algebra/matrix methods course.**\n",
    "\n",
    "Matrices and vectors play an important role in linear regression. Let's review some matrix theory as it might relate to linear regression.\n",
    "\n",
    "Consider the system of linear equations \n",
    "\n",
    "\\begin{equation} \n",
    "Y_i = \\beta_0 + \\sum^p_{j=1}\\beta_j x_{i,j} + \\varepsilon_i,\n",
    "\\end{equation}\n",
    "for $i = 1,...,n$, where $n$ is the number of data points (measurements in the sample), and $j = 1,...,p$, where \n",
    "\n",
    "1. $p+1$ is the number of parameters in the model. \n",
    "2. $Y_i$ is the $i^{th}$ measurement of the *response variable*.\n",
    "3. $x_{i,j}$ is the $i^{th}$ measurement of the $j^{th}$ *predictor variable*.\n",
    "4. $\\varepsilon_i$ is the $i^{th}$ *error term* and is a random variable, often assumed to be $N(0, \\sigma^2)$. \n",
    "5. $\\beta_j$, $j = 0,...,p$ are *unknown parameters* of the model. We hope to estimate these, which would help us characterize the relationship between the predictors and response."
   ]
  },
  {
   "cell_type": "markdown",
   "metadata": {},
   "source": [
    "#### 3. (a) MLR Matrix Form\n",
    "\n",
    "Write the equation above in matrix vector form. Call the matrix including the predictors $X$, the vector of $Y_i$s $\\mathbf{Y}$, the vector of parameters $\\mathbf{\\beta}$, and the vector of error terms $\\mathbf{\\varepsilon}$. (This is more LaTeX practice than anything else...)**"
   ]
  },
  {
   "cell_type": "markdown",
   "metadata": {},
   "source": [
    "The MLR above has the form $\\mathbf{y}=\\mathbf{X}\\mathbf{\\beta}+\\mathbf{\\epsilon}$"
   ]
  },
  {
   "cell_type": "markdown",
   "metadata": {},
   "source": [
    "#### 3. (b) Properties of this matrix\n",
    "\n",
    "In lecture, we will find that the OLS estimator for $\\mathbf{\\beta}$ in MLR is $\\widehat{\\boldsymbol\\beta} = (X^TX)^{-1}X^T\\mathbf{Y}$. Use this knowledge to answer the following questions:\n",
    "\n",
    "\n",
    "1. What condition must be true about the columns of $X$ for the \"Gram\" matrix $X^TX$ to be invertible? \n",
    "\n",
    "2. What does this condition mean in practical terms, i.e., does $X$ contain a deficiency or redundancy?\n",
    "\n",
    "3. Suppose that the number of measurements ($n$) is less than the number of model parameters ($p+1$). What does this say about the invertibility of $X^TX$? What does this mean on a practical level?\n",
    "\n",
    "4. What is true about about $\\widehat{\\boldsymbol\\beta}$ if $X^TX$ is not invertible?"
   ]
  },
  {
   "cell_type": "markdown",
   "metadata": {},
   "source": [
    "1. The columns of the matrix X must be linearly independent for the \"Gram\" matrix $X^TX$ to be invertible. The predictors should not be collinear.\n",
    "2. This condition means that the matrix X contains redundancy since the predictor variables are closely associated. This makes estimating unique coeffecients impossible in some instances.\n",
    "3. The matrix $X^TX$ is not invertible if $n<p+1$ (the number of measurements is less than the number of model parameters). On a practical level, this means that there fewer data than required to estimate parameters and the model will be overfitted.\n",
    "4. $\\hat{\\beta}$ does not have a unique solution if $X^TX$ is not invertible. "
   ]
  },
  {
   "cell_type": "markdown",
   "metadata": {},
   "source": [
    "## Problem 4: Downloading...\n",
    "\n",
    "The following [data](https://dasl.datadescription.com/datafile/downloading/) were collected to see if time of day madea difference on file download speed. A researcher placed a file on a remote server and then proceeded to download it at three different time periods of the day. They downloaded the file 48 times in all, 16 times at each Time of Day (`time`), and recorded the Time in seconds (`speed`) that the download took."
   ]
  },
  {
   "cell_type": "markdown",
   "metadata": {},
   "source": [
    "#### 4. (a) Initial Observations\n",
    "\n",
    "The `downloading` data is loaded in and cleaned for you. Using `ggplot`, create a boxplot of `speed` vs. `time`. Make some basic observations about the three categories."
   ]
  },
  {
   "cell_type": "code",
   "execution_count": 92,
   "metadata": {},
   "outputs": [
    {
     "data": {
      "text/plain": [
       "                 time        speed      \n",
       " Early (7AM)       :16   Min.   : 68.0  \n",
       " Evening (5 PM)    :16   1st Qu.:129.8  \n",
       " Late Night (12 AM):16   Median :198.0  \n",
       "                         Mean   :193.2  \n",
       "                         3rd Qu.:253.0  \n",
       "                         Max.   :367.0  "
      ]
     },
     "metadata": {},
     "output_type": "display_data"
    }
   ],
   "source": [
    "# Load in the data and format it\n",
    "downloading = read.csv(\"downloading.txt\", sep=\"\\t\")\n",
    "names(downloading) = c(\"time\", \"speed\")\n",
    "# Change the types of brand and form to categories, instead of real numbers\n",
    "downloading$time = as.factor(downloading$time)\n",
    "summary(downloading)"
   ]
  },
  {
   "cell_type": "code",
   "execution_count": 93,
   "metadata": {},
   "outputs": [
    {
     "data": {
      "text/plain": [
       "\n",
       "Call:\n",
       "lm(formula = speed ~ time, data = downloading)\n",
       "\n",
       "Residuals:\n",
       "    Min      1Q  Median      3Q     Max \n",
       "-83.312 -34.328  -5.187  26.250 103.625 \n",
       "\n",
       "Coefficients:\n",
       "                       Estimate Std. Error t value Pr(>|t|)    \n",
       "(Intercept)              113.37      11.79   9.619 1.73e-12 ***\n",
       "timeEvening (5 PM)       159.94      16.67   9.595 1.87e-12 ***\n",
       "timeLate Night (12 AM)    79.69      16.67   4.781 1.90e-05 ***\n",
       "---\n",
       "Signif. codes:  0 ‘***’ 0.001 ‘**’ 0.01 ‘*’ 0.05 ‘.’ 0.1 ‘ ’ 1\n",
       "\n",
       "Residual standard error: 47.15 on 45 degrees of freedom\n",
       "Multiple R-squared:  0.6717,\tAdjusted R-squared:  0.6571 \n",
       "F-statistic: 46.03 on 2 and 45 DF,  p-value: 1.306e-11\n"
      ]
     },
     "metadata": {},
     "output_type": "display_data"
    }
   ],
   "source": [
    "summary(lm(speed ~ time, data = downloading))"
   ]
  },
  {
   "cell_type": "markdown",
   "metadata": {},
   "source": [
    "The median speed is 198 seconds with the max speed being 367 second and the min speed being 68 seconds. The $R^2$ tells us that about 65% of the variation in the response is explainable by the predictors. The smallest slope belongs to the late night downloads."
   ]
  },
  {
   "cell_type": "markdown",
   "metadata": {},
   "source": [
    "#### 4. (b) How would we model this?\n",
    "\n",
    "Fit a regression to these data that uses `speed` as the response and `time` as the predictor. Print the summary. Notice that the result is actually *multiple* linear regression, not simple linear regression. The model being used here is:\n",
    "\n",
    "\\begin{align*}\n",
    "Y_i = \\beta_0 + \\beta_1 X_{i,1} + \\beta_2 X_{i,2} + \\varepsilon_i\n",
    "\\end{align*}\n",
    "\n",
    "where \n",
    "\n",
    "1. $X_{i,1} = 1$ if the $i^{th}$ download is made in the evening (5 pm).\n",
    "2.  $X_{i,2} = 1$ if the $i^{th}$ download is made at night (12 am).\n",
    "\n",
    "Note: If $X_{i,1} = 0$ and $X_{i,2} = 0$, then the $i^{th}$ download is made in the morning (7am).\n",
    "\n",
    "**To confirm this is the model being used, write out the explicit equation for your model - using the parameter estimates from part (a) - and print out it's design matrix.**"
   ]
  },
  {
   "cell_type": "code",
   "execution_count": 103,
   "metadata": {},
   "outputs": [
    {
     "data": {
      "text/html": [
       "<table>\n",
       "<caption>A data.frame: 48 × 2</caption>\n",
       "<thead>\n",
       "\t<tr><th scope=col>time</th><th scope=col>speed</th></tr>\n",
       "\t<tr><th scope=col>&lt;fct&gt;</th><th scope=col>&lt;int&gt;</th></tr>\n",
       "</thead>\n",
       "<tbody>\n",
       "\t<tr><td>Early (7AM)       </td><td> 68</td></tr>\n",
       "\t<tr><td>Early (7AM)       </td><td>138</td></tr>\n",
       "\t<tr><td>Early (7AM)       </td><td> 75</td></tr>\n",
       "\t<tr><td>Early (7AM)       </td><td>186</td></tr>\n",
       "\t<tr><td>Early (7AM)       </td><td> 68</td></tr>\n",
       "\t<tr><td>Early (7AM)       </td><td>217</td></tr>\n",
       "\t<tr><td>Early (7AM)       </td><td> 93</td></tr>\n",
       "\t<tr><td>Early (7AM)       </td><td> 90</td></tr>\n",
       "\t<tr><td>Early (7AM)       </td><td> 71</td></tr>\n",
       "\t<tr><td>Early (7AM)       </td><td>154</td></tr>\n",
       "\t<tr><td>Early (7AM)       </td><td>166</td></tr>\n",
       "\t<tr><td>Early (7AM)       </td><td>130</td></tr>\n",
       "\t<tr><td>Early (7AM)       </td><td> 72</td></tr>\n",
       "\t<tr><td>Early (7AM)       </td><td> 81</td></tr>\n",
       "\t<tr><td>Early (7AM)       </td><td> 76</td></tr>\n",
       "\t<tr><td>Early (7AM)       </td><td>129</td></tr>\n",
       "\t<tr><td>Evening (5 PM)    </td><td>299</td></tr>\n",
       "\t<tr><td>Evening (5 PM)    </td><td>367</td></tr>\n",
       "\t<tr><td>Evening (5 PM)    </td><td>331</td></tr>\n",
       "\t<tr><td>Evening (5 PM)    </td><td>257</td></tr>\n",
       "\t<tr><td>Evening (5 PM)    </td><td>260</td></tr>\n",
       "\t<tr><td>Evening (5 PM)    </td><td>269</td></tr>\n",
       "\t<tr><td>Evening (5 PM)    </td><td>252</td></tr>\n",
       "\t<tr><td>Evening (5 PM)    </td><td>200</td></tr>\n",
       "\t<tr><td>Evening (5 PM)    </td><td>296</td></tr>\n",
       "\t<tr><td>Evening (5 PM)    </td><td>204</td></tr>\n",
       "\t<tr><td>Evening (5 PM)    </td><td>190</td></tr>\n",
       "\t<tr><td>Evening (5 PM)    </td><td>240</td></tr>\n",
       "\t<tr><td>Evening (5 PM)    </td><td>350</td></tr>\n",
       "\t<tr><td>Evening (5 PM)    </td><td>256</td></tr>\n",
       "\t<tr><td>Evening (5 PM)    </td><td>282</td></tr>\n",
       "\t<tr><td>Evening (5 PM)    </td><td>320</td></tr>\n",
       "\t<tr><td>Late Night (12 AM)</td><td>216</td></tr>\n",
       "\t<tr><td>Late Night (12 AM)</td><td>175</td></tr>\n",
       "\t<tr><td>Late Night (12 AM)</td><td>274</td></tr>\n",
       "\t<tr><td>Late Night (12 AM)</td><td>171</td></tr>\n",
       "\t<tr><td>Late Night (12 AM)</td><td>187</td></tr>\n",
       "\t<tr><td>Late Night (12 AM)</td><td>213</td></tr>\n",
       "\t<tr><td>Late Night (12 AM)</td><td>221</td></tr>\n",
       "\t<tr><td>Late Night (12 AM)</td><td>139</td></tr>\n",
       "\t<tr><td>Late Night (12 AM)</td><td>226</td></tr>\n",
       "\t<tr><td>Late Night (12 AM)</td><td>128</td></tr>\n",
       "\t<tr><td>Late Night (12 AM)</td><td>236</td></tr>\n",
       "\t<tr><td>Late Night (12 AM)</td><td>128</td></tr>\n",
       "\t<tr><td>Late Night (12 AM)</td><td>217</td></tr>\n",
       "\t<tr><td>Late Night (12 AM)</td><td>196</td></tr>\n",
       "\t<tr><td>Late Night (12 AM)</td><td>201</td></tr>\n",
       "\t<tr><td>Late Night (12 AM)</td><td>161</td></tr>\n",
       "</tbody>\n",
       "</table>\n"
      ],
      "text/latex": [
       "A data.frame: 48 × 2\n",
       "\\begin{tabular}{ll}\n",
       " time & speed\\\\\n",
       " <fct> & <int>\\\\\n",
       "\\hline\n",
       "\t Early (7AM)        &  68\\\\\n",
       "\t Early (7AM)        & 138\\\\\n",
       "\t Early (7AM)        &  75\\\\\n",
       "\t Early (7AM)        & 186\\\\\n",
       "\t Early (7AM)        &  68\\\\\n",
       "\t Early (7AM)        & 217\\\\\n",
       "\t Early (7AM)        &  93\\\\\n",
       "\t Early (7AM)        &  90\\\\\n",
       "\t Early (7AM)        &  71\\\\\n",
       "\t Early (7AM)        & 154\\\\\n",
       "\t Early (7AM)        & 166\\\\\n",
       "\t Early (7AM)        & 130\\\\\n",
       "\t Early (7AM)        &  72\\\\\n",
       "\t Early (7AM)        &  81\\\\\n",
       "\t Early (7AM)        &  76\\\\\n",
       "\t Early (7AM)        & 129\\\\\n",
       "\t Evening (5 PM)     & 299\\\\\n",
       "\t Evening (5 PM)     & 367\\\\\n",
       "\t Evening (5 PM)     & 331\\\\\n",
       "\t Evening (5 PM)     & 257\\\\\n",
       "\t Evening (5 PM)     & 260\\\\\n",
       "\t Evening (5 PM)     & 269\\\\\n",
       "\t Evening (5 PM)     & 252\\\\\n",
       "\t Evening (5 PM)     & 200\\\\\n",
       "\t Evening (5 PM)     & 296\\\\\n",
       "\t Evening (5 PM)     & 204\\\\\n",
       "\t Evening (5 PM)     & 190\\\\\n",
       "\t Evening (5 PM)     & 240\\\\\n",
       "\t Evening (5 PM)     & 350\\\\\n",
       "\t Evening (5 PM)     & 256\\\\\n",
       "\t Evening (5 PM)     & 282\\\\\n",
       "\t Evening (5 PM)     & 320\\\\\n",
       "\t Late Night (12 AM) & 216\\\\\n",
       "\t Late Night (12 AM) & 175\\\\\n",
       "\t Late Night (12 AM) & 274\\\\\n",
       "\t Late Night (12 AM) & 171\\\\\n",
       "\t Late Night (12 AM) & 187\\\\\n",
       "\t Late Night (12 AM) & 213\\\\\n",
       "\t Late Night (12 AM) & 221\\\\\n",
       "\t Late Night (12 AM) & 139\\\\\n",
       "\t Late Night (12 AM) & 226\\\\\n",
       "\t Late Night (12 AM) & 128\\\\\n",
       "\t Late Night (12 AM) & 236\\\\\n",
       "\t Late Night (12 AM) & 128\\\\\n",
       "\t Late Night (12 AM) & 217\\\\\n",
       "\t Late Night (12 AM) & 196\\\\\n",
       "\t Late Night (12 AM) & 201\\\\\n",
       "\t Late Night (12 AM) & 161\\\\\n",
       "\\end{tabular}\n"
      ],
      "text/markdown": [
       "\n",
       "A data.frame: 48 × 2\n",
       "\n",
       "| time &lt;fct&gt; | speed &lt;int&gt; |\n",
       "|---|---|\n",
       "| Early (7AM)        |  68 |\n",
       "| Early (7AM)        | 138 |\n",
       "| Early (7AM)        |  75 |\n",
       "| Early (7AM)        | 186 |\n",
       "| Early (7AM)        |  68 |\n",
       "| Early (7AM)        | 217 |\n",
       "| Early (7AM)        |  93 |\n",
       "| Early (7AM)        |  90 |\n",
       "| Early (7AM)        |  71 |\n",
       "| Early (7AM)        | 154 |\n",
       "| Early (7AM)        | 166 |\n",
       "| Early (7AM)        | 130 |\n",
       "| Early (7AM)        |  72 |\n",
       "| Early (7AM)        |  81 |\n",
       "| Early (7AM)        |  76 |\n",
       "| Early (7AM)        | 129 |\n",
       "| Evening (5 PM)     | 299 |\n",
       "| Evening (5 PM)     | 367 |\n",
       "| Evening (5 PM)     | 331 |\n",
       "| Evening (5 PM)     | 257 |\n",
       "| Evening (5 PM)     | 260 |\n",
       "| Evening (5 PM)     | 269 |\n",
       "| Evening (5 PM)     | 252 |\n",
       "| Evening (5 PM)     | 200 |\n",
       "| Evening (5 PM)     | 296 |\n",
       "| Evening (5 PM)     | 204 |\n",
       "| Evening (5 PM)     | 190 |\n",
       "| Evening (5 PM)     | 240 |\n",
       "| Evening (5 PM)     | 350 |\n",
       "| Evening (5 PM)     | 256 |\n",
       "| Evening (5 PM)     | 282 |\n",
       "| Evening (5 PM)     | 320 |\n",
       "| Late Night (12 AM) | 216 |\n",
       "| Late Night (12 AM) | 175 |\n",
       "| Late Night (12 AM) | 274 |\n",
       "| Late Night (12 AM) | 171 |\n",
       "| Late Night (12 AM) | 187 |\n",
       "| Late Night (12 AM) | 213 |\n",
       "| Late Night (12 AM) | 221 |\n",
       "| Late Night (12 AM) | 139 |\n",
       "| Late Night (12 AM) | 226 |\n",
       "| Late Night (12 AM) | 128 |\n",
       "| Late Night (12 AM) | 236 |\n",
       "| Late Night (12 AM) | 128 |\n",
       "| Late Night (12 AM) | 217 |\n",
       "| Late Night (12 AM) | 196 |\n",
       "| Late Night (12 AM) | 201 |\n",
       "| Late Night (12 AM) | 161 |\n",
       "\n"
      ],
      "text/plain": [
       "   time               speed\n",
       "1  Early (7AM)         68  \n",
       "2  Early (7AM)        138  \n",
       "3  Early (7AM)         75  \n",
       "4  Early (7AM)        186  \n",
       "5  Early (7AM)         68  \n",
       "6  Early (7AM)        217  \n",
       "7  Early (7AM)         93  \n",
       "8  Early (7AM)         90  \n",
       "9  Early (7AM)         71  \n",
       "10 Early (7AM)        154  \n",
       "11 Early (7AM)        166  \n",
       "12 Early (7AM)        130  \n",
       "13 Early (7AM)         72  \n",
       "14 Early (7AM)         81  \n",
       "15 Early (7AM)         76  \n",
       "16 Early (7AM)        129  \n",
       "17 Evening (5 PM)     299  \n",
       "18 Evening (5 PM)     367  \n",
       "19 Evening (5 PM)     331  \n",
       "20 Evening (5 PM)     257  \n",
       "21 Evening (5 PM)     260  \n",
       "22 Evening (5 PM)     269  \n",
       "23 Evening (5 PM)     252  \n",
       "24 Evening (5 PM)     200  \n",
       "25 Evening (5 PM)     296  \n",
       "26 Evening (5 PM)     204  \n",
       "27 Evening (5 PM)     190  \n",
       "28 Evening (5 PM)     240  \n",
       "29 Evening (5 PM)     350  \n",
       "30 Evening (5 PM)     256  \n",
       "31 Evening (5 PM)     282  \n",
       "32 Evening (5 PM)     320  \n",
       "33 Late Night (12 AM) 216  \n",
       "34 Late Night (12 AM) 175  \n",
       "35 Late Night (12 AM) 274  \n",
       "36 Late Night (12 AM) 171  \n",
       "37 Late Night (12 AM) 187  \n",
       "38 Late Night (12 AM) 213  \n",
       "39 Late Night (12 AM) 221  \n",
       "40 Late Night (12 AM) 139  \n",
       "41 Late Night (12 AM) 226  \n",
       "42 Late Night (12 AM) 128  \n",
       "43 Late Night (12 AM) 236  \n",
       "44 Late Night (12 AM) 128  \n",
       "45 Late Night (12 AM) 217  \n",
       "46 Late Night (12 AM) 196  \n",
       "47 Late Night (12 AM) 201  \n",
       "48 Late Night (12 AM) 161  "
      ]
     },
     "metadata": {},
     "output_type": "display_data"
    },
    {
     "data": {
      "text/plain": [
       "\n",
       "Call:\n",
       "lm(formula = speed ~ time, data = downloading)\n",
       "\n",
       "Residuals:\n",
       "    Min      1Q  Median      3Q     Max \n",
       "-83.312 -34.328  -5.187  26.250 103.625 \n",
       "\n",
       "Coefficients:\n",
       "                       Estimate Std. Error t value Pr(>|t|)    \n",
       "(Intercept)              113.37      11.79   9.619 1.73e-12 ***\n",
       "timeEvening (5 PM)       159.94      16.67   9.595 1.87e-12 ***\n",
       "timeLate Night (12 AM)    79.69      16.67   4.781 1.90e-05 ***\n",
       "---\n",
       "Signif. codes:  0 ‘***’ 0.001 ‘**’ 0.01 ‘*’ 0.05 ‘.’ 0.1 ‘ ’ 1\n",
       "\n",
       "Residual standard error: 47.15 on 45 degrees of freedom\n",
       "Multiple R-squared:  0.6717,\tAdjusted R-squared:  0.6571 \n",
       "F-statistic: 46.03 on 2 and 45 DF,  p-value: 1.306e-11\n"
      ]
     },
     "metadata": {},
     "output_type": "display_data"
    },
    {
     "name": "stdout",
     "output_type": "stream",
     "text": [
      "[1] \"The design matrix:\"\n",
      "   (Intercept) timeEvening (5 PM) timeLate Night (12 AM)\n",
      "1            1                  0                      0\n",
      "2            1                  0                      0\n",
      "3            1                  0                      0\n",
      "4            1                  0                      0\n",
      "5            1                  0                      0\n",
      "6            1                  0                      0\n",
      "7            1                  0                      0\n",
      "8            1                  0                      0\n",
      "9            1                  0                      0\n",
      "10           1                  0                      0\n",
      "11           1                  0                      0\n",
      "12           1                  0                      0\n",
      "13           1                  0                      0\n",
      "14           1                  0                      0\n",
      "15           1                  0                      0\n",
      "16           1                  0                      0\n",
      "17           1                  1                      0\n",
      "18           1                  1                      0\n",
      "19           1                  1                      0\n",
      "20           1                  1                      0\n",
      "21           1                  1                      0\n",
      "22           1                  1                      0\n",
      "23           1                  1                      0\n",
      "24           1                  1                      0\n",
      "25           1                  1                      0\n",
      "26           1                  1                      0\n",
      "27           1                  1                      0\n",
      "28           1                  1                      0\n",
      "29           1                  1                      0\n",
      "30           1                  1                      0\n",
      "31           1                  1                      0\n",
      "32           1                  1                      0\n",
      "33           1                  0                      1\n",
      "34           1                  0                      1\n",
      "35           1                  0                      1\n",
      "36           1                  0                      1\n",
      "37           1                  0                      1\n",
      "38           1                  0                      1\n",
      "39           1                  0                      1\n",
      "40           1                  0                      1\n",
      "41           1                  0                      1\n",
      "42           1                  0                      1\n",
      "43           1                  0                      1\n",
      "44           1                  0                      1\n",
      "45           1                  0                      1\n",
      "46           1                  0                      1\n",
      "47           1                  0                      1\n",
      "48           1                  0                      1\n",
      "attr(,\"assign\")\n",
      "[1] 0 1 1\n",
      "attr(,\"contrasts\")\n",
      "attr(,\"contrasts\")$time\n",
      "[1] \"contr.treatment\"\n",
      "\n"
     ]
    }
   ],
   "source": [
    "# Your Code Here\n",
    "downloading\n",
    "#X = matrix(downloading$speed,nrow=16,ncol=3)\n",
    "\n",
    "\n",
    "\n",
    "\n",
    "mlr_downld = lm(speed ~ time, downloading)\n",
    "summary(mlr_downld)\n",
    "\n",
    "beta = coef(mlr_downld)\n",
    "X = model.matrix(mlr_downld)\n",
    "print(\"The design matrix:\")\n",
    "print(X)\n",
    "\n",
    "#y = beta[0]*X[0] + beta[1]*X[1] + beta[2]*X[2] + mlr_downld$residuals"
   ]
  },
  {
   "cell_type": "markdown",
   "metadata": {},
   "source": [
    "Above, the design matrix is printed and the equation is confirmed using the estimates from the model mlr_downld."
   ]
  },
  {
   "cell_type": "markdown",
   "metadata": {},
   "source": [
    "#### 4. (c) Only two predictors?\n",
    "\n",
    "We have three categories, but only two predictors. Why is this the case? To address this question, let's consider the following model:\n",
    "\n",
    "$$ Y_i = \\beta_0 + \\beta_1 X_{i,1} + \\beta_2 X_{i,2} + \\beta_2 X_{i,3} + \\varepsilon_i $$\n",
    "\n",
    "where \n",
    "\n",
    "1. $X_{i,1} = 1$ if the $i^{th}$ download is made in the evening (5 pm).\n",
    "2. $X_{i,2} = 1$ if the $i^{th}$ download is made at night (12 am).\n",
    "3. $X_{i,3} = 1$ if the $i^{th}$ download is made in the morning (7 am).\n",
    "\n",
    "**Construct a design matrix to fit this model to the response, `speed`. Determine if something is wrong with it. Hint: Analyze the design matrix.**"
   ]
  },
  {
   "cell_type": "code",
   "execution_count": 128,
   "metadata": {},
   "outputs": [
    {
     "data": {
      "text/html": [
       "<table>\n",
       "<caption>A matrix: 16 × 3 of type int</caption>\n",
       "<thead>\n",
       "\t<tr><th scope=col>Early</th><th scope=col>Evening</th><th scope=col>Late</th></tr>\n",
       "</thead>\n",
       "<tbody>\n",
       "\t<tr><td> 68</td><td>299</td><td>216</td></tr>\n",
       "\t<tr><td>138</td><td>367</td><td>175</td></tr>\n",
       "\t<tr><td> 75</td><td>331</td><td>274</td></tr>\n",
       "\t<tr><td>186</td><td>257</td><td>171</td></tr>\n",
       "\t<tr><td> 68</td><td>260</td><td>187</td></tr>\n",
       "\t<tr><td>217</td><td>269</td><td>213</td></tr>\n",
       "\t<tr><td> 93</td><td>252</td><td>221</td></tr>\n",
       "\t<tr><td> 90</td><td>200</td><td>139</td></tr>\n",
       "\t<tr><td> 71</td><td>296</td><td>226</td></tr>\n",
       "\t<tr><td>154</td><td>204</td><td>128</td></tr>\n",
       "\t<tr><td>166</td><td>190</td><td>236</td></tr>\n",
       "\t<tr><td>130</td><td>240</td><td>128</td></tr>\n",
       "\t<tr><td> 72</td><td>350</td><td>217</td></tr>\n",
       "\t<tr><td> 81</td><td>256</td><td>196</td></tr>\n",
       "\t<tr><td> 76</td><td>282</td><td>201</td></tr>\n",
       "\t<tr><td>129</td><td>320</td><td>161</td></tr>\n",
       "</tbody>\n",
       "</table>\n"
      ],
      "text/latex": [
       "A matrix: 16 × 3 of type int\n",
       "\\begin{tabular}{lll}\n",
       " Early & Evening & Late\\\\\n",
       "\\hline\n",
       "\t  68 & 299 & 216\\\\\n",
       "\t 138 & 367 & 175\\\\\n",
       "\t  75 & 331 & 274\\\\\n",
       "\t 186 & 257 & 171\\\\\n",
       "\t  68 & 260 & 187\\\\\n",
       "\t 217 & 269 & 213\\\\\n",
       "\t  93 & 252 & 221\\\\\n",
       "\t  90 & 200 & 139\\\\\n",
       "\t  71 & 296 & 226\\\\\n",
       "\t 154 & 204 & 128\\\\\n",
       "\t 166 & 190 & 236\\\\\n",
       "\t 130 & 240 & 128\\\\\n",
       "\t  72 & 350 & 217\\\\\n",
       "\t  81 & 256 & 196\\\\\n",
       "\t  76 & 282 & 201\\\\\n",
       "\t 129 & 320 & 161\\\\\n",
       "\\end{tabular}\n"
      ],
      "text/markdown": [
       "\n",
       "A matrix: 16 × 3 of type int\n",
       "\n",
       "| Early | Evening | Late |\n",
       "|---|---|---|\n",
       "|  68 | 299 | 216 |\n",
       "| 138 | 367 | 175 |\n",
       "|  75 | 331 | 274 |\n",
       "| 186 | 257 | 171 |\n",
       "|  68 | 260 | 187 |\n",
       "| 217 | 269 | 213 |\n",
       "|  93 | 252 | 221 |\n",
       "|  90 | 200 | 139 |\n",
       "|  71 | 296 | 226 |\n",
       "| 154 | 204 | 128 |\n",
       "| 166 | 190 | 236 |\n",
       "| 130 | 240 | 128 |\n",
       "|  72 | 350 | 217 |\n",
       "|  81 | 256 | 196 |\n",
       "|  76 | 282 | 201 |\n",
       "| 129 | 320 | 161 |\n",
       "\n"
      ],
      "text/plain": [
       "      Early Evening Late\n",
       " [1,]  68   299     216 \n",
       " [2,] 138   367     175 \n",
       " [3,]  75   331     274 \n",
       " [4,] 186   257     171 \n",
       " [5,]  68   260     187 \n",
       " [6,] 217   269     213 \n",
       " [7,]  93   252     221 \n",
       " [8,]  90   200     139 \n",
       " [9,]  71   296     226 \n",
       "[10,] 154   204     128 \n",
       "[11,] 166   190     236 \n",
       "[12,] 130   240     128 \n",
       "[13,]  72   350     217 \n",
       "[14,]  81   256     196 \n",
       "[15,]  76   282     201 \n",
       "[16,] 129   320     161 "
      ]
     },
     "metadata": {},
     "output_type": "display_data"
    }
   ],
   "source": [
    "# Your Code Here\n",
    "X = matrix(downloading$speed,nrow=16,ncol=3)\n",
    "colnames(X) = c(\"Early\", \"Evening\", \"Late\")\n",
    "X\n"
   ]
  },
  {
   "cell_type": "markdown",
   "metadata": {},
   "source": [
    "The design matrix shows multicolinearity between the predictors. The predictors are all linearly associated and so the design matrix has too few predictors for the parameters.\n"
   ]
  },
  {
   "cell_type": "markdown",
   "metadata": {},
   "source": [
    "#### 4. (d) Interpretation\n",
    "\n",
    "Interpret the coefficients in the model from **4.b**. In particular:\n",
    "\n",
    "1. What is the difference between the mean download speed at 7am and the mean download speed at 5pm?\n",
    "2. What is the mean download speed (in seconds) in the morning?\n",
    "3. What is the mean download speed (in seconds) in the evening?\n",
    "4. What is the mean download speed (in seconds) at night?"
   ]
  },
  {
   "cell_type": "markdown",
   "metadata": {},
   "source": [
    "1. $\\bar{x}_{7am} - \\bar{x}_{5pm} = -159.9375$\n",
    "2. $\\bar{x}_{7am} = 113.375$\n",
    "3. $\\bar{x}_{5am} = 273.3125$\n",
    "4. $\\bar{x}_{12am} = 193.0625$"
   ]
  },
  {
   "cell_type": "code",
   "execution_count": null,
   "metadata": {},
   "outputs": [],
   "source": []
  },
  {
   "cell_type": "code",
   "execution_count": null,
   "metadata": {},
   "outputs": [],
   "source": []
  }
 ],
 "metadata": {
  "kernelspec": {
   "display_name": "R",
   "language": "R",
   "name": "ir"
  },
  "language_info": {
   "codemirror_mode": "r",
   "file_extension": ".r",
   "mimetype": "text/x-r-source",
   "name": "R",
   "pygments_lexer": "r",
   "version": "3.6.3"
  }
 },
 "nbformat": 4,
 "nbformat_minor": 4
}
