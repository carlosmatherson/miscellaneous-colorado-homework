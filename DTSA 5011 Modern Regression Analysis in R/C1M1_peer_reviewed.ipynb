{
 "cells": [
  {
   "cell_type": "markdown",
   "metadata": {},
   "source": [
    "# Module 1: Peer Reviewed Assignment"
   ]
  },
  {
   "cell_type": "markdown",
   "metadata": {},
   "source": [
    "### Outline:\n",
    "The objectives for this assignment:\n",
    "\n",
    "1. Learn when and how simulated data is appropriate for statistical analysis.\n",
    "2. Experiment with the processes involved in simulating linear data.\n",
    "3. Observe how the variance of data effects the best-fit line, even for the same underlying population.\n",
    "4. Recognize the effects of standardizing predictors.\n",
    "5. Interpreting the coefficients of linear models on both original and standardized data scales.\n",
    "\n",
    "\n",
    "General tips:\n",
    "\n",
    "1. Read the questions carefully to understand what is being asked.\n",
    "2. This work will be reviewed by another human, so make sure that you are clear and concise in what your explanations and answers."
   ]
  },
  {
   "cell_type": "markdown",
   "metadata": {},
   "source": [
    "**A Quick Note On Peer-Reviewed Assignments**\n",
    "\n",
    "Welcome to your first peer reviewed assignment! These assignments will be a more open form than the auto-graded assignments, and will focus on interpretation and visualization rather than \"do you get the right numbers?\" These assignments will be graded by your fellow students (except in the specific cases where the work needs to be graded by a proctor) so please make your answers as clear and concise as possible."
   ]
  },
  {
   "cell_type": "code",
   "execution_count": 1,
   "metadata": {},
   "outputs": [
    {
     "name": "stderr",
     "output_type": "stream",
     "text": [
      "── \u001b[1mAttaching packages\u001b[22m ─────────────────────────────────────── tidyverse 1.3.0 ──\n",
      "\n",
      "\u001b[32m✔\u001b[39m \u001b[34mggplot2\u001b[39m 3.3.0     \u001b[32m✔\u001b[39m \u001b[34mpurrr  \u001b[39m 0.3.4\n",
      "\u001b[32m✔\u001b[39m \u001b[34mtibble \u001b[39m 3.0.1     \u001b[32m✔\u001b[39m \u001b[34mdplyr  \u001b[39m 0.8.5\n",
      "\u001b[32m✔\u001b[39m \u001b[34mtidyr  \u001b[39m 1.0.2     \u001b[32m✔\u001b[39m \u001b[34mstringr\u001b[39m 1.4.0\n",
      "\u001b[32m✔\u001b[39m \u001b[34mreadr  \u001b[39m 1.3.1     \u001b[32m✔\u001b[39m \u001b[34mforcats\u001b[39m 0.5.0\n",
      "\n",
      "── \u001b[1mConflicts\u001b[22m ────────────────────────────────────────── tidyverse_conflicts() ──\n",
      "\u001b[31m✖\u001b[39m \u001b[34mdplyr\u001b[39m::\u001b[32mfilter()\u001b[39m masks \u001b[34mstats\u001b[39m::filter()\n",
      "\u001b[31m✖\u001b[39m \u001b[34mdplyr\u001b[39m::\u001b[32mlag()\u001b[39m    masks \u001b[34mstats\u001b[39m::lag()\n",
      "\n"
     ]
    }
   ],
   "source": [
    "# This cell loads the necesary libraries for this assignment\n",
    "library(tidyverse)"
   ]
  },
  {
   "cell_type": "markdown",
   "metadata": {},
   "source": [
    "# Problem 1: Simulating Data\n",
    "\n",
    "We're going to let you in on a secret. The turtle data from the autograded assignment was simulated...fake data! Gasp! Importantly, simulating data, and applying statistical models to simulated data, are very important tools in data science.\n",
    "\n",
    "Why do we use simulated data? Real data can be messy, noisy, and we almost never *really* know the underlying process that generated real data. Working with real data is always our ultimate end goal, so we will try to use as many real datasets in this course as possible. However, applying models to simulated data can be very instructive: such applications help us understand how models work in ideal settings, how robust they are to changes in modeling assumptions, and a whole host of other contexts.\n",
    "\n",
    "And in this problem, you are going to learn how to simulate your own data."
   ]
  },
  {
   "cell_type": "markdown",
   "metadata": {},
   "source": [
    "#### 1. (a) A Simple Line\n",
    "\n",
    "Starting out, generate $10$ to $20$ data points for values along the x-axis. Then generate data points along the y-axis using the equation $y_i=\\beta_0 + \\beta_1x_i$. Make it a straight line, nothing fancy.\n",
    "\n",
    "Plot your data (using ggplot!) with your $\\mathbf{x}$ data along the x-axis and your $\\mathbf{y}$ data along the y-axis.\n",
    "\n",
    "In the *Markdown* cell below the `R` cell, describe what you see in the plot.\n",
    "\n",
    "**Tip**: You can generate your x-data *deterministically*, e.g., using either `a:b` syntax or the `seq()` function, or *randomly* using something like `runif()` or `rnorm()`. In practice, it won't matter all that much which one you choose."
   ]
  },
  {
   "cell_type": "code",
   "execution_count": 2,
   "metadata": {},
   "outputs": [
    {
     "data": {
      "image/png": "[encoded data removed]",
      "text/plain": [
       "plot without title"
      ]
     },
     "metadata": {
      "image/png": {
       "height": 420,
       "width": 420
      },
      "text/plain": {
       "height": 420,
       "width": 420
      }
     },
     "output_type": "display_data"
    }
   ],
   "source": [
    "# Your Code Here\n",
    "x.data = seq(0:19)\n",
    "y.data = 2+3*x.data\n",
    "df.data = data.frame(x=x.data,y=y.data)\n",
    "\n",
    "g.data = ggplot(df.data,aes(x=x,y=y)) + geom_point()\n",
    "g.data"
   ]
  },
  {
   "cell_type": "markdown",
   "metadata": {},
   "source": [
    "The 20 sequential points of x data were generated using the seq() function. Corresponding y data was generated such that $\\beta_0 = 2$ and $\\beta_1 = 3$ for the equation $y_i = \\beta_{0}+\\beta_{1}x_i$. The resulting plot shows a linear relationship in the data along the generated line. The generated data points are spaced as we would expect.\n"
   ]
  },
  {
   "cell_type": "markdown",
   "metadata": {},
   "source": [
    "#### 1. (b) The Error Component\n",
    "\n",
    "That is a perfect set of data points, but that is a problem in itself. In almost any real life situation, when we measure data, there will be some error in those measurements. Recall that our simple linear model is of the form:\n",
    "\n",
    "$$ y_i = \\beta_0 + \\beta_1x_i + \\epsilon_i,  \\qquad \\epsilon_i \\sim N(0, \\sigma^2) $$\n",
    "\n",
    "Add an error term to your y-data following the formula above. Plot at least three different plots (using ggplot!) with the different values of $\\sigma^2$. \n",
    "\n",
    "How does the value of $\\sigma^2$ affect the final data points? Type your answer in the *Markdown* cell below the `R` cell.\n",
    "\n",
    "**Tip**: To randomly sample from a normal distribution, check out the `rnorm()` function."
   ]
  },
  {
   "cell_type": "code",
   "execution_count": 3,
   "metadata": {},
   "outputs": [
    {
     "data": {
      "text/html": [
       "0.1"
      ],
      "text/latex": [
       "0.1"
      ],
      "text/markdown": [
       "0.1"
      ],
      "text/plain": [
       "[1] 0.1"
      ]
     },
     "metadata": {},
     "output_type": "display_data"
    },
    {
     "data": {
      "text/html": [
       "5"
      ],
      "text/latex": [
       "5"
      ],
      "text/markdown": [
       "5"
      ],
      "text/plain": [
       "[1] 5"
      ]
     },
     "metadata": {},
     "output_type": "display_data"
    },
    {
     "data": {
      "text/html": [
       "25"
      ],
      "text/latex": [
       "25"
      ],
      "text/markdown": [
       "25"
      ],
      "text/plain": [
       "[1] 25"
      ]
     },
     "metadata": {},
     "output_type": "display_data"
    },
    {
     "data": {
      "image/png": "[encoded data removed]",
      "text/plain": [
       "plot without title"
      ]
     },
     "metadata": {
      "image/png": {
       "height": 420,
       "width": 420
      },
      "text/plain": {
       "height": 420,
       "width": 420
      }
     },
     "output_type": "display_data"
    },
    {
     "data": {
      "image/png": "[encoded data removed]",
      "text/plain": [
       "plot without title"
      ]
     },
     "metadata": {
      "image/png": {
       "height": 420,
       "width": 420
      },
      "text/plain": {
       "height": 420,
       "width": 420
      }
     },
     "output_type": "display_data"
    },
    {
     "data": {
      "image/png": "[encoded data removed]",
      "text/plain": [
       "plot without title"
      ]
     },
     "metadata": {
      "image/png": {
       "height": 420,
       "width": 420
      },
      "text/plain": {
       "height": 420,
       "width": 420
      }
     },
     "output_type": "display_data"
    }
   ],
   "source": [
    "# Your Code Here\n",
    "sd1 = 0.1\n",
    "sd1\n",
    "sd2 = 5\n",
    "sd2\n",
    "sd3 = 25\n",
    "sd3\n",
    "\n",
    "eps1 = rnorm(20,mean=0,sd=sd1)\n",
    "eps2 = rnorm(20,mean=0,sd=sd2)\n",
    "eps3 = rnorm(20,mean=0,sd=sd3)\n",
    "\n",
    "df.data1 = data.frame(x=x.data,y=y.data+eps1)\n",
    "df.data2 = data.frame(x=x.data,y=y.data+eps2)\n",
    "df.data3 = data.frame(x=x.data,y=y.data+eps3)\n",
    "\n",
    "g1.data = ggplot(df.data1,aes(x=x,y=y)) + geom_point()\n",
    "g1.data\n",
    "\n",
    "g2.data = ggplot(df.data2,aes(x=x,y=y)) + geom_point()\n",
    "g2.data\n",
    "\n",
    "g3.data = ggplot(df.data3,aes(x=x,y=y)) + geom_point()\n",
    "g3.data"
   ]
  },
  {
   "cell_type": "markdown",
   "metadata": {},
   "source": [
    "Changing the value of $\\sigma^2$ in the distribution from which $\\epsilon$ is selected changes the tightness of the points on the scatter plot. Some figures show a closer correlation and tight fit about the line while others show more random data. Smaller values of $\\sigma^2$ mean a tighter fit about the line. Larger values for $\\sigma^2$ means a looser fit, or more random data. In other words, if $\\epsilon$ can be chosen from a set with larger variation, then the error can vary more greatly across data points."
   ]
  },
  {
   "cell_type": "markdown",
   "metadata": {},
   "source": [
    "# Problem 2: The Effects of Variance on Linear Models"
   ]
  },
  {
   "cell_type": "markdown",
   "metadata": {},
   "source": [
    "Once you've completed **Problem 1**, you should have three different \"datasets\" from the same underlying data function but with different variances. Let's see how those variance affect a best fit line.\n",
    "\n",
    "Use the `lm()` function to fit a best-fit line to each of those three datasets. Add that best fit line to each of the plots and report the slopes of each of these lines.\n",
    "\n",
    "Do the slopes of the best-fit lines change as $\\sigma^2$ changes? Type your answer in the *Markdown* cell below the `R` cell.\n",
    "\n",
    "**Tip**: The `lm()` function requires the syntax `lm(y~x)`."
   ]
  },
  {
   "cell_type": "code",
   "execution_count": 4,
   "metadata": {},
   "outputs": [
    {
     "data": {
      "text/plain": [
       "\n",
       "Call:\n",
       "lm(formula = y ~ x, data = df.data1)\n",
       "\n",
       "Coefficients:\n",
       "(Intercept)            x  \n",
       "      1.984        3.001  \n"
      ]
     },
     "metadata": {},
     "output_type": "display_data"
    },
    {
     "data": {
      "text/plain": [
       "\n",
       "Call:\n",
       "lm(formula = y ~ x, data = df.data2)\n",
       "\n",
       "Coefficients:\n",
       "(Intercept)            x  \n",
       "      3.207        2.857  \n"
      ]
     },
     "metadata": {},
     "output_type": "display_data"
    },
    {
     "data": {
      "text/plain": [
       "\n",
       "Call:\n",
       "lm(formula = y ~ x, data = df.data3)\n",
       "\n",
       "Coefficients:\n",
       "(Intercept)            x  \n",
       "     16.131        1.652  \n"
      ]
     },
     "metadata": {},
     "output_type": "display_data"
    }
   ],
   "source": [
    "# Your Code Here\n",
    "m1 = lm(y~x,df.data1)\n",
    "m2 = lm(y~x,df.data2)\n",
    "m3 = lm(y~x,df.data3)\n",
    "\n",
    "m1\n",
    "m2\n",
    "m3"
   ]
  },
  {
   "cell_type": "markdown",
   "metadata": {},
   "source": [
    "The slopes of the lines of best fit change slightly with $\\sigma^2$. They follow the original model with slight variation in the slopes according the the error in the model. It is unverified whether the change correlates with $\\sigma^2$."
   ]
  },
  {
   "cell_type": "markdown",
   "metadata": {},
   "source": [
    "# Problem 3: Interpreting the Linear Model"
   ]
  },
  {
   "cell_type": "markdown",
   "metadata": {},
   "source": [
    "Choose one of the above three models and write out the actual equation of that model. Then in words, in the *Markdown* cell below the `R` cell, describe how a $1$ unit increase in your predictor affects your response. Does this relationship make sense?"
   ]
  },
  {
   "cell_type": "code",
   "execution_count": 8,
   "metadata": {},
   "outputs": [
    {
     "data": {
      "text/html": [
       "<style>\n",
       ".list-inline {list-style: none; margin:0; padding: 0}\n",
       ".list-inline>li {display: inline-block}\n",
       ".list-inline>li:not(:last-child)::after {content: \"\\00b7\"; padding: 0 .5ex}\n",
       "</style>\n",
       "<ol class=list-inline><li>16.131</li><li>17.783</li><li>19.435</li><li>21.087</li><li>22.739</li><li>24.391</li></ol>\n"
      ],
      "text/latex": [
       "\\begin{enumerate*}\n",
       "\\item 16.131\n",
       "\\item 17.783\n",
       "\\item 19.435\n",
       "\\item 21.087\n",
       "\\item 22.739\n",
       "\\item 24.391\n",
       "\\end{enumerate*}\n"
      ],
      "text/markdown": [
       "1. 16.131\n",
       "2. 17.783\n",
       "3. 19.435\n",
       "4. 21.087\n",
       "5. 22.739\n",
       "6. 24.391\n",
       "\n",
       "\n"
      ],
      "text/plain": [
       "[1] 16.131 17.783 19.435 21.087 22.739 24.391"
      ]
     },
     "metadata": {},
     "output_type": "display_data"
    }
   ],
   "source": [
    "# Your Code Here\n",
    "x = 0:5\n",
    "y = 16.131 + 1.652*x #choose model m3 from above\n",
    "y"
   ]
  },
  {
   "cell_type": "markdown",
   "metadata": {},
   "source": [
    "The equation is $y = 4.805 + 2.501x$. Increasing the predictor variable by one results in an increase in the response variable according to the linear model. It makes sense as a relationship between variables on a linear model."
   ]
  },
  {
   "cell_type": "markdown",
   "metadata": {},
   "source": [
    "\n",
    "# Problem 4: The Effects of Standardizing Data"
   ]
  },
  {
   "cell_type": "markdown",
   "metadata": {},
   "source": [
    "We spent some time standardizing data in the autograded assignment. Let's do that again with your simulated data. \n",
    "\n",
    "Using the same model from **Problem 3**, standardize your simulated predictor. Then, using the `lm()` function, fit a best fit line to the standardized data. Using ggplot, create a scatter plot of the standardized data and add the best fit line to that figure."
   ]
  },
  {
   "cell_type": "code",
   "execution_count": 9,
   "metadata": {},
   "outputs": [
    {
     "data": {
      "text/plain": [
       "\n",
       "Call:\n",
       "lm(formula = y ~ x, data = df.data3.standard)\n",
       "\n",
       "Coefficients:\n",
       "(Intercept)            x  \n",
       "  9.208e-17    3.831e-01  \n"
      ]
     },
     "metadata": {},
     "output_type": "display_data"
    },
    {
     "data": {
      "image/png": "[encoded data removed]",
      "text/plain": [
       "plot without title"
      ]
     },
     "metadata": {
      "image/png": {
       "height": 420,
       "width": 420
      },
      "text/plain": {
       "height": 420,
       "width": 420
      }
     },
     "output_type": "display_data"
    }
   ],
   "source": [
    "# Your Code Here\n",
    "x.standard = (df.data3$x-mean(df.data3$x))/sd(df.data3$x)\n",
    "y.standard = (df.data3$y-mean(df.data3$y))/sd(df.data3$y)\n",
    "df.data3.standard = data.frame(x=x.standard,y=y.standard)\n",
    "\n",
    "\n",
    "\n",
    "m3.standard = lm(y~x,df.data3.standard)\n",
    "m3.standard\n",
    "\n",
    "g3.data.standard = ggplot(df.data3.standard,aes(x=x,y=y)) + geom_point() + geom_smooth(method=\"lm\", formula = \"y~x\")\n",
    "g3.data.standard\n"
   ]
  },
  {
   "cell_type": "markdown",
   "metadata": {},
   "source": [
    "The figure above depicts a scatterplot of the standardized data overlayed with a line of best fit and its confidence interval. "
   ]
  },
  {
   "cell_type": "markdown",
   "metadata": {},
   "source": [
    "# Problem 5: Interpreting the Standardized Model"
   ]
  },
  {
   "cell_type": "markdown",
   "metadata": {},
   "source": [
    "Write out the expression for your standardized model. In words, in the *Markdown* cell below the `R` cell, describe how a $1$ unit increase in your standardized predictor affects the response. Is this value different from the original model? If yes, then what can you conclude about interpretation of standardized predictors vs. unstandardized predictors."
   ]
  },
  {
   "cell_type": "code",
   "execution_count": 10,
   "metadata": {},
   "outputs": [
    {
     "data": {
      "text/html": [
       "<style>\n",
       ".list-inline {list-style: none; margin:0; padding: 0}\n",
       ".list-inline>li {display: inline-block}\n",
       ".list-inline>li:not(:last-child)::after {content: \"\\00b7\"; padding: 0 .5ex}\n",
       "</style>\n",
       "<ol class=list-inline><li>9.208e-17</li><li>0.3831</li><li>0.7662</li><li>1.1493</li><li>1.5324</li><li>1.9155</li></ol>\n"
      ],
      "text/latex": [
       "\\begin{enumerate*}\n",
       "\\item 9.208e-17\n",
       "\\item 0.3831\n",
       "\\item 0.7662\n",
       "\\item 1.1493\n",
       "\\item 1.5324\n",
       "\\item 1.9155\n",
       "\\end{enumerate*}\n"
      ],
      "text/markdown": [
       "1. 9.208e-17\n",
       "2. 0.3831\n",
       "3. 0.7662\n",
       "4. 1.1493\n",
       "5. 1.5324\n",
       "6. 1.9155\n",
       "\n",
       "\n"
      ],
      "text/plain": [
       "[1] 9.2080e-17 3.8310e-01 7.6620e-01 1.1493e+00 1.5324e+00 1.9155e+00"
      ]
     },
     "metadata": {},
     "output_type": "display_data"
    }
   ],
   "source": [
    "# Your Code Here\n",
    "x = 0:5\n",
    "y = 9.208e-17 + 3.831e-01 *x\n",
    "y    "
   ]
  },
  {
   "cell_type": "markdown",
   "metadata": {},
   "source": [
    "The equation is $y = -7.797e-17 + 6.556e-01(x)$. Increasing the predictor variable by one results in an increase in the response variable according to the linear model. It makes sense as a relationship between variables on a linear model. The amount of change is different from the previous interpretation of the non-standardized model. In fact, the difference between the standardized data is consistent, which it is not consistent in the raw data. We can conclude standardized predictors are better for predictions because they have the benefit of being standard and consistent."
   ]
  },
  {
   "cell_type": "code",
   "execution_count": null,
   "metadata": {},
   "outputs": [],
   "source": []
  },
  {
   "cell_type": "code",
   "execution_count": null,
   "metadata": {},
   "outputs": [],
   "source": []
  },
  {
   "cell_type": "code",
   "execution_count": null,
   "metadata": {},
   "outputs": [],
   "source": []
  },
  {
   "cell_type": "code",
   "execution_count": null,
   "metadata": {},
   "outputs": [],
   "source": []
  },
  {
   "cell_type": "code",
   "execution_count": null,
   "metadata": {},
   "outputs": [],
   "source": []
  }
 ],
 "metadata": {
  "kernelspec": {
   "display_name": "R",
   "language": "R",
   "name": "ir"
  },
  "language_info": {
   "codemirror_mode": "r",
   "file_extension": ".r",
   "mimetype": "text/x-r-source",
   "name": "R",
   "pygments_lexer": "r",
   "version": "3.6.3"
  }
 },
 "nbformat": 4,
 "nbformat_minor": 4
}
