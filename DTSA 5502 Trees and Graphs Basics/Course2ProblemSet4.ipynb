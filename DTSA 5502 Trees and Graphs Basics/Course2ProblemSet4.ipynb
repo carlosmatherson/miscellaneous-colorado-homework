{
 "cells": [
  {
   "cell_type": "markdown",
   "metadata": {
    "deletable": false,
    "editable": false,
    "nbgrader": {
     "cell_type": "markdown",
     "checksum": "3891e5039812204f212ddec97eb53006",
     "grade": false,
     "grade_id": "cell-f151ebfa307a1cd9",
     "locked": true,
     "schema_version": 3,
     "solution": false,
     "task": false
    }
   },
   "source": [
    "# Solving Image Maze (With Solution)\n",
    "\n",
    "Given a maze as an image with a start and end point, we would like to write code to solve the maze. \n",
    "\n",
    "An image is a 2D matrix of pixels of a particular size that depends on its resolution. Each \n",
    "pixel has a color which is given by its Red, Green and Blue (RGB) values.\n",
    " \n",
    "Given an image, we will view it as a graph where each pixel of the image is a vertex \n",
    "and edges connect a pixel to its neighbor. The weight of an edge should be very small if\n",
    "the pixel colors are similar (i.e, the differences between r, g and b values are close to zero)\n",
    "and correspondingly large as the pixel colors diverge.\n",
    "  \n",
    "Next, given a source pixel $(i_0, j_0)$ and destination pixel, \n",
    "$(i_1, j_1)$, we wish find the shortest weight path from source to destination.\n",
    "\n",
    "You should use the Dijkstra's algorithm modified in two ways:\n",
    "   - It can exit as soon as the destination is reached.\n",
    "   - A 1000 x 1000 pixel image gives rise to a graph with million vertices. Storing such a graph as an adjacency list is going to be very memory intensive. Instead, your goal will be to generate the vertices and edges *on-the-fly*.\n",
    "   \n",
    "We will use opencv library, a popular computer vision library to load, and manipulate images of mazes.\n",
    "\n"
   ]
  },
  {
   "cell_type": "markdown",
   "metadata": {
    "deletable": false,
    "editable": false,
    "nbgrader": {
     "cell_type": "markdown",
     "checksum": "3273070f3e32ee55ee4573e4db87122f",
     "grade": false,
     "grade_id": "cell-54a8af4c3c306d73",
     "locked": true,
     "schema_version": 3,
     "solution": false,
     "task": false
    }
   },
   "source": [
    "## Manipulating Images\n",
    "\n",
    "You can directly manipulate images in python in many ways. The `opencv` library is considered a standard for numerous\n",
    "image manipulation tasks.\n",
    "\n",
    "Here we load an image `maze.png` and you can see it nicely plotted with coordinates. We then show you two pixels\n",
    "shown in red and blue. The goal here is to detect a path from one of the colored circle to the other, in the maze without crossing\n",
    "the black pixels."
   ]
  },
  {
   "cell_type": "code",
   "execution_count": 7,
   "metadata": {
    "deletable": false,
    "editable": false,
    "nbgrader": {
     "cell_type": "code",
     "checksum": "c9ef9391a29dc38136d602532c1a16eb",
     "grade": false,
     "grade_id": "cell-6070310452a91263",
     "locked": true,
     "schema_version": 3,
     "solution": false,
     "task": false
    }
   },
   "outputs": [
    {
     "data": {
      "image/png": "[encoded data removed]",
      "text/plain": [
       "<Figure size 432x288 with 1 Axes>"
      ]
     },
     "metadata": {
      "needs_background": "light"
     },
     "output_type": "display_data"
    },
    {
     "data": {
      "image/png": "[encoded data removed]",
      "text/plain": [
       "<Figure size 432x288 with 1 Axes>"
      ]
     },
     "metadata": {
      "needs_background": "light"
     },
     "output_type": "display_data"
    }
   ],
   "source": [
    "from matplotlib import pyplot as plt\n",
    "import cv2\n",
    "# You can read png, jpg and other file types \n",
    "img = cv2.imread('maze.png') # read an image from a file using opencv (cv2) library\n",
    "# you can annotate images \n",
    "cv2.circle(img,(5,220), 3, (255,0,0), -1) # add a circle centered at (5, 220) radius 3, color red (RGB: 255,0,0)\n",
    "cv2.circle(img, (5,5), 3, (0,0,255), -1) # add a circle centered at (5,5) radius 3, color red (RGB: 0,0,255)\n",
    "plt.imshow(img) # show the image on the screen \n",
    "plt.title('Amazing')\n",
    "plt.show()\n",
    "img = cv2.imread('maze-solution.png') # read an image from a file using opencv (cv2) library\n",
    "# you can annotate images \n",
    "cv2.circle(img,(5,220), 3, (255,0,0), -1) # add a circle centered at (5, 220) radius 3, color red (RGB: 255,0,0)\n",
    "cv2.circle(img, (5,5), 3, (0,0,255), -1) # add a circle centered at (5,5) radius 3, color red (RGB: 0,0,255)\n",
    "plt.imshow(img) # show the image on the screen \n",
    "plt.title('Amazing Solution ')\n",
    "plt.show()\n"
   ]
  },
  {
   "cell_type": "markdown",
   "metadata": {
    "deletable": false,
    "editable": false,
    "nbgrader": {
     "cell_type": "markdown",
     "checksum": "7bcdd6e34acb691a53638472afe9afb9",
     "grade": false,
     "grade_id": "cell-bad7c0322e0189f8",
     "locked": true,
     "schema_version": 3,
     "solution": false,
     "task": false
    }
   },
   "source": [
    "Given an image it is simple to read the color at a pixel. Let us read the color at pixel (645, 67)"
   ]
  },
  {
   "cell_type": "code",
   "execution_count": 8,
   "metadata": {
    "deletable": false,
    "editable": false,
    "nbgrader": {
     "cell_type": "code",
     "checksum": "ca63ee9e097ba167b411be388ceb03f2",
     "grade": false,
     "grade_id": "cell-da5b6c077e329a84",
     "locked": true,
     "schema_version": 3,
     "solution": false,
     "task": false
    }
   },
   "outputs": [
    {
     "name": "stdout",
     "output_type": "stream",
     "text": [
      "Image size (height, width, num layers) is (225, 225, 3)\n",
      "[255 255 255]\n",
      "[198  31   4]\n",
      "[0 0 0]\n"
     ]
    }
   ],
   "source": [
    "print('Image size (height, width, num layers) is', img.shape)\n",
    "px = img[145, 67] # img[y,x] is the color of the pixel of x,y\n",
    "print(px) \n",
    "cv2.circle(img, (80, 18), 3, (198,31,4),-1) # Draw a colored circle centered at (80, 18)\n",
    "px1 = img[18, 80] # It is important to note that rows of the image are y values and columns are x values.\n",
    "print(px1)\n",
    "px2 = img[80, 18] # This is important to note that indexing the img data structure takes y, x values.\n",
    "# Most opencv functions will require (x,y) coordinates for pixel as is natural.\n",
    "print(px2)"
   ]
  },
  {
   "cell_type": "markdown",
   "metadata": {
    "deletable": false,
    "editable": false,
    "nbgrader": {
     "cell_type": "markdown",
     "checksum": "96e563ea5cf5f32e14bd32afab31c140",
     "grade": false,
     "grade_id": "cell-f39f15221b65cbbf",
     "locked": true,
     "schema_version": 3,
     "solution": false,
     "task": false
    }
   },
   "source": [
    "The pixel color is expressed in RGB format. R is the red value from 0 -> 255, G is the green value 0 -> 255 and B is the blue value from 0 -> 255 \n",
    "\n",
    "We will now define a edge weight function for an edge in the image"
   ]
  },
  {
   "cell_type": "code",
   "execution_count": 9,
   "metadata": {
    "deletable": false,
    "editable": false,
    "nbgrader": {
     "cell_type": "code",
     "checksum": "7d87b6e983eef75cb0e64b0fa55e2e33",
     "grade": false,
     "grade_id": "cell-5cd6f306e6610a35",
     "locked": true,
     "schema_version": 3,
     "solution": false,
     "task": false
    }
   },
   "outputs": [],
   "source": [
    "import math \n",
    "def fixPixelValues(px):\n",
    "    # convert the RGB values into floating point to avoid an overflow that will give me wrong answers\n",
    "    return [ float(px[0]), float(px[1]), float(px[2]) ]\n",
    "\n",
    "\n",
    "    \n",
    "# This is a useful function that given a list of (x,y) values, \n",
    "# draw a series of red lines between each coordinate and next to \n",
    "# show the path in the image\n",
    "def drawPath(img, path, pThick=2):\n",
    "    v = path[0]\n",
    "    x0, y0 = v[0], v[1]\n",
    "    for v in path:\n",
    "        x, y = v[0], v[1]\n",
    "        cv2.line(img,(x,y), (x0,y0), (255,0,0),pThick)\n",
    "        x0, y0 = x,y\n",
    "        "
   ]
  },
  {
   "cell_type": "code",
   "execution_count": 10,
   "metadata": {
    "deletable": false,
    "editable": false,
    "nbgrader": {
     "cell_type": "code",
     "checksum": "5d250f38df8ab706550f98c34bc16580",
     "grade": false,
     "grade_id": "cell-2109196a7933a78d",
     "locked": true,
     "schema_version": 3,
     "solution": false,
     "task": false
    }
   },
   "outputs": [
    {
     "data": {
      "image/png": "[encoded data removed]",
      "text/plain": [
       "<Figure size 432x288 with 1 Axes>"
      ]
     },
     "metadata": {
      "needs_background": "light"
     },
     "output_type": "display_data"
    }
   ],
   "source": [
    "# Example\n",
    "img = cv2.imread('maze.png') # read an image from a file using opencv (cv2) library\n",
    "drawPath(img, [ (15, 15), (150, 15), (150, 85), (75, 85), (75, 195)])\n",
    "plt.imshow(img) # show the image on the screen \n",
    "plt.title('Illustration of drawPath')\n",
    "plt.show()"
   ]
  },
  {
   "cell_type": "markdown",
   "metadata": {
    "deletable": false,
    "editable": false,
    "nbgrader": {
     "cell_type": "markdown",
     "checksum": "936ffe59d35f16c57d7392700a2e7816",
     "grade": false,
     "grade_id": "cell-524c9a63c67d4b2a",
     "locked": true,
     "schema_version": 3,
     "solution": false,
     "task": false
    }
   },
   "source": [
    "## Step 1: Compute Single Source Shortest Path For an Image\n",
    "\n",
    "Given an image, compute the  shortest path between source and destination pixels by modifying Dijkstra's algorithm. __Your challenge  is to implement it without needing to create the entire the adjacency list for the graph\n",
    "in the first place. However, for simplicity you can try a first cut implementation of a generic Dijkstra algorithm over\n",
    "graphs represented as adjacency matrix or list.__ "
   ]
  },
  {
   "cell_type": "code",
   "execution_count": 11,
   "metadata": {
    "deletable": false,
    "editable": false,
    "nbgrader": {
     "cell_type": "code",
     "checksum": "0fab4a331085499e71ca6645a311dafe",
     "grade": false,
     "grade_id": "cell-c44bc7ea3ae735e1",
     "locked": true,
     "schema_version": 3,
     "solution": false,
     "task": false
    }
   },
   "outputs": [],
   "source": [
    "class Vertex: # This is the outline for a vertex data structure\n",
    "    \n",
    "    def __init__ (self,  i, j):\n",
    "        self.x = i # The x coordinate\n",
    "        self.y = j  # The y coordinate\n",
    "        self.d = float('inf') # the shortest path estimate\n",
    "        self.processed = False # Has this vertex's final shortest path distance been computed\n",
    "        # this is important for Dijksatra's algorithm\n",
    "        # We will track where the vertex is in the priority queue.\n",
    "        self.idx_in_priority_queue = -1 # The index of this vertex in the queue\n",
    "        self.pi = None # the parent vertex in the shortest path tree.\n",
    "        \n",
    "    def reset(self):\n",
    "        self.d = float('inf')\n",
    "        self.processed = False # Has this vertex's final shortest path distance been computed\n",
    "        # this is important for Dijksatra's algorithm\n",
    "        # We will track where the vertex is in the priority queue.\n",
    "        self.idx_in_priority_queue = -1 # The index of this vertex in the queue\n",
    "        self.pi = None # the parent vertex in the shortest path tree.\n",
    "    \n",
    "\n",
    "# However, if you want Dijkstra efficiently, we will need a priority queue\n",
    "# We will provide you with a heap data structure from course 1.\n",
    "class PriorityQueue:\n",
    "    # Constructor:  Implement a empty heap data structure\n",
    "    def __init__(self):\n",
    "        self.q = [None] # pad it with one element\n",
    "    \n",
    "    # Function: insert\n",
    "    # Insert a vertex v of type Vertex into the queue.\n",
    "    # Remember to set the field `idx_in_priority_queue` and\n",
    "    # keep updating it.\n",
    "    def insert(self, v):\n",
    "        n = len(self.q)\n",
    "        self.q.append(v)\n",
    "        v.idx_in_priority_queue = n\n",
    "        self.bubble_up(n)\n",
    "        # self.check_invariant()\n",
    "        \n",
    "    # Function: swap two elements in the priority queue.\n",
    "    # Remember to swap the vertices at positions i and j\n",
    "    # But also remember to update the positions of the vertices in the\n",
    "    # priority queue.\n",
    "    # You can use this to implement bubble_up and bubble_down\n",
    "    def swap(self, i, j):\n",
    "        tmp = self.q[i]\n",
    "        self.q[i] = self.q[j]\n",
    "        self.q[i].idx_in_priority_queue = i\n",
    "        self.q[j] = tmp\n",
    "        self.q[j].idx_in_priority_queue = j\n",
    "        \n",
    "    # Function: bubble_up\n",
    "    # bubble up an element j\n",
    "    # until min heap property is restored.\n",
    "    def bubble_up(self, j):\n",
    "        assert j >= 1\n",
    "        assert j < len(self.q)\n",
    "        if j == 1:\n",
    "            return\n",
    "        val = self.q[j].d\n",
    "        parent_idx = j // 2\n",
    "        parent_val = self.q[parent_idx].d\n",
    "        if val < parent_val:\n",
    "            self.swap(j, parent_idx)\n",
    "            self.bubble_up(parent_idx)\n",
    "        return\n",
    "    \n",
    "    # Function: bubble_down\n",
    "    # Bubble down an element j until\n",
    "    # min heap property is restored.\n",
    "    def bubble_down(self, j):\n",
    "        n = len(self.q)\n",
    "        left_child_idx = 2 * j\n",
    "        right_child_idx = 2 * j + 1\n",
    "        if left_child_idx >= n:\n",
    "            return\n",
    "        if right_child_idx >= n:\n",
    "            child_idx = left_child_idx\n",
    "            child_d = self.q[left_child_idx].d\n",
    "        else:\n",
    "            (child_d, child_idx) = min ( (self.q[left_child_idx].d, left_child_idx), \n",
    "                                         (self.q[right_child_idx].d, right_child_idx)\n",
    "                                       )\n",
    "        if self.q[j].d > child_d:\n",
    "            self.swap(j, child_idx)\n",
    "            self.bubble_down(child_idx)\n",
    "        return \n",
    "        \n",
    "    # Function: get_and_delete_min\n",
    "    # Find the minimum weight vertex and delete it from the heap.\n",
    "    # return the deleted vertex back\n",
    "    def get_and_delete_min(self):\n",
    "        n = len(self.q)\n",
    "        assert n > 1\n",
    "        v = self.q[1]\n",
    "        if n > 2: \n",
    "            self.q[1] = self.q[n-1]\n",
    "            self.q[n-1].idx_in_priority_queue = 1\n",
    "            del self.q[n-1]\n",
    "            self.bubble_down(1)\n",
    "        #self.check_invariant()\n",
    "        return v\n",
    "    \n",
    "    # Is the heap empty?\n",
    "    def is_empty(self):\n",
    "        return len(self.q) == 1\n",
    "    \n",
    "    # This is a useful function since in Dijkstra\n",
    "    # the weight of a vertex updates on the fly.\n",
    "    # We will need to call this to update the vertex weight.\n",
    "    def update_vertex_weight(self, v):\n",
    "        j = v.idx_in_priority_queue\n",
    "        n = len(self.q)\n",
    "        assert j >= 0 and j < n\n",
    "        self.bubble_down(j)\n",
    "        self.bubble_up(j)\n",
    "        # self.check_invariant()\n",
    "        \n",
    "   "
   ]
  },
  {
   "cell_type": "code",
   "execution_count": 12,
   "metadata": {
    "deletable": false,
    "editable": false,
    "nbgrader": {
     "cell_type": "code",
     "checksum": "b65d8cb6b0abf9f646fc9af6da632723",
     "grade": false,
     "grade_id": "cell-aa78a535324536e6",
     "locked": true,
     "schema_version": 3,
     "solution": false,
     "task": false
    }
   },
   "outputs": [],
   "source": [
    "class DirectedGraphFromImage:\n",
    "    def __init__(self, img):\n",
    "        self.img = img\n",
    "        self.coords2vertex = {} # construct a dictionary that maps coordinates [(i,j)] to corresponding vertices in graph\n",
    "    \n",
    "        \n",
    "    def get_vertex_from_coords(self, i, j):\n",
    "        if (i,j) in self.coords2vertex: # is pixel (i,j) already there? \n",
    "            return self.coords2vertex[(i,j)] # if yes, just return the vertex corresponding\n",
    "        v = Vertex(i, j)\n",
    "        self.coords2vertex[(i,j)] = v\n",
    "        return v\n",
    "    \n",
    "    ## Given (x,y) coordinates of two neighboring pixels, calculate the edge weight.\n",
    "    # We take the squared euclidean distance between the pixel values and add 0.1\n",
    "    def getEdgeWeight(self, u, v):\n",
    "        img = self.img\n",
    "        # get edge weight for edge between u, v\n",
    "        i0,j0 = u.x, u.y\n",
    "        i1,j1 = v.x, v.y\n",
    "        height, width, _ = img.shape\n",
    "        # First make sure that the edge is legit\n",
    "        # Edges can only go from each pixel to neighboring pixel\n",
    "        assert i0 >= 0 and j0 >= 0 and i0 < width and j0 < height # pixel position valid?\n",
    "        assert i1 >= 0 and j1 >= 0 and i1 < width and j1 < height # pixel position valid?\n",
    "        assert -1 <= i0 - i1 <= 1 # edge between node and neighbor?\n",
    "        assert -1 <= j0 - j1 <= 1\n",
    "        px1 = fixPixelValues(img[j0,i0])\n",
    "        px2 = fixPixelValues(img[j1,i1])\n",
    "        return 0.1 + (px1[0] - px2[0])**2 + (px1[1] - px2[1])**2 + (px1[2]- px2[2])**2\n",
    "\n",
    "    # Function: get_list_of_neighbors\n",
    "    # Given a vertex in the graph, get its list of neighbors\n",
    "    #  I.e, for given vertex `vert` return a list [(v1, w1), (v2, w2),..,(vk,wk)]\n",
    "    #  Such that vert has an edge to v1 with weight w1, edge to v2 with weight w2 and ... \n",
    "    #   edge to vk with weight wk\n",
    "    # Note that rather than build an adjacency list up front, we simply call this function\n",
    "    # to get the neighbors of a vertex.\n",
    "    def get_list_of_neighbors(self, vert):\n",
    "        img = self.img\n",
    "        i = vert.x\n",
    "        j = vert.y\n",
    "        height, width, _ = img.shape\n",
    "        lst = []\n",
    "        if i > 0:\n",
    "             # Get the adjacent vertex directly to the WEST\n",
    "            # What is the weight of the edge from pixel (i,j) to (i-1,j)\n",
    "            v0 = self.get_vertex_from_coords(i-1, j)\n",
    "            w0 = self.getEdgeWeight(vert, v0)\n",
    "            # Append the adjacent vertex and its weight.\n",
    "            lst.append((v0, w0))\n",
    "        if j > 0:\n",
    "            # Get the adjacent vertex directly to the SOUTH\n",
    "            v1 = self.get_vertex_from_coords(i, j-1)\n",
    "            w1 = self.getEdgeWeight(vert, v1)\n",
    "            # Append the adjacent vertex and its weight.\n",
    "            lst.append((v1, w1))    \n",
    "        if i < width-1:\n",
    "            # EAST\n",
    "            v2 = self.get_vertex_from_coords(i+1, j)\n",
    "            w2 = self.getEdgeWeight( vert, v2)\n",
    "            lst.append((v2, w2))\n",
    "        if j < height-1:\n",
    "            # NORTH\n",
    "            v3 = self.get_vertex_from_coords(i, j+1)\n",
    "            w3 = self.getEdgeWeight(vert, v3)\n",
    "            lst.append((v3, w3))\n",
    "        return lst\n"
   ]
  },
  {
   "cell_type": "markdown",
   "metadata": {
    "deletable": false,
    "editable": false,
    "nbgrader": {
     "cell_type": "markdown",
     "checksum": "3468eed9dfa5fcd73aba96a23da85069",
     "grade": false,
     "grade_id": "cell-9bb0e22f88851b3f",
     "locked": true,
     "schema_version": 3,
     "solution": false,
     "task": false
    }
   },
   "source": [
    "Using Dijkstra's algorithm and the classes provided above, implement the function\n",
    "`computeShortestPath`. Its inputs are\n",
    "  - `graph` : an instance of DirectedGraphFromImage class\n",
    "  - `source_coordinates`: The (i,j) coordinates of the starting point.\n",
    "  - `dest_coordinates`: The (i,j) coordinates of the destination. \n",
    "  \n",
    "It must return a tuple `(path, distance)` wherein \n",
    "  - `path` is a list of pixel coordinates `[(i0,j0),...., (ik,jk)]` wherein `(i0,j0)` corresponds to the `soure_coordinates` and `(ik,jk))` corresponds to the destination.\n",
    "  - `distance` is the total weight of the shortest path.\n",
    "  \n",
    " ## Pseudocode \n",
    " Here is an outline of Dijkstra's algorithm with modifications that may be useful.\n",
    " \n",
    " ~~~\n",
    " 1. Initialize an empty priority queue `q` (use `PriorityQueue` class)\n",
    " 2. Get the source vertex (`source`) using the function `graph.get_vertex_from_coords(i,j)`.\n",
    " 3. Set the `source.d` field to 0 to indicate that distance of source from source is 0.\n",
    " 4. Add the source vertex to the priority queue (use `insert` method).\n",
    " 5. While the priority queue is not empty.\n",
    "    5.1 Get the vertex with minimum value of d and delete it (use `get_and_delete_min` function). Let's call this vertex `u`.\n",
    "    5.2 Set the processed field of `u` to True.\n",
    "    5.3 If `u` has the same coordinates as destination (use `u.x` and `u.y`) then \n",
    "        5.3.1 shortest path distance is `u.d` and break from the loop.\n",
    "    5.4 For each outgoing edge from `u` to `v` with weight `w`\n",
    "        5.4.1 If `v` is not already processed and `v.d > u.d + w` then \n",
    "              5.4.1.1 update `v.d` to `u.d + w`. Set `v.pi` to `u`.\n",
    "              5.4.1.2 If `v` is already not in the priority queue, insert it into the queue\n",
    "              5.4.1.3 Else, use the `update_vertex_weight` method of priority queue with `v` as the argument to make sure that `v` is moved to the appropriate place in the priority queue.\n",
    " 6. To get the path, start from the destination vertex and keep taking the parent pointer until we reach the source. Store the sequence of vertices in a path.\n",
    " 7. Return the (path, shortest path distance)\n",
    " ~~~\n",
    " "
   ]
  },
  {
   "cell_type": "code",
   "execution_count": 26,
   "metadata": {
    "deletable": false,
    "nbgrader": {
     "cell_type": "code",
     "checksum": "498d8e1a4b0b27673a3f1a54f8cbf3b3",
     "grade": false,
     "grade_id": "cell-8383effcf12262f2",
     "locked": false,
     "schema_version": 3,
     "solution": true,
     "task": false
    }
   },
   "outputs": [],
   "source": [
    "# Function: computeShortestPath\n",
    "# Let us implement Dijkstra's algorithm\n",
    "# graph - instance of the DirectedGraphFromImage class\n",
    "# source - a vertex that is the source (i,j) pixel coordinates\n",
    "# dest - a vertex that is the destination (i,j) pixel coordinates\n",
    "def computeShortestPath(graph, source_coordinates, dest_coordinates):\n",
    "    # your code here \n",
    "    q = PriorityQueue() # empty priority queue\n",
    "    source = graph.get_vertex_from_coords(source_coordinates[0], source_coordinates[1]) # the source vertex coords\n",
    "    destination = graph.get_vertex_from_coords(dest_coordinates[0], dest_coordinates[1]) # destination vertex coords\n",
    "    q.insert(source) # add source vertex to queue\n",
    "    source.d = 0 # set distance to zero\n",
    "    \n",
    "    # iterate while queue is not empty\n",
    "    while not q.is_empty():\n",
    "        u = q.get_and_delete_min() # delete vertex with minimum d\n",
    "        u.processed = True # update processed status\n",
    "        \n",
    "        # Check if u locaiton is same as destination\n",
    "        if ((u.x,u.y) == (destination.x,destination.y)):\n",
    "            shortest_path_distance = u.d # if so, we know this is shortest path\n",
    "            break\n",
    "            \n",
    "        #For each outgoing weighted edge u-v\n",
    "        for k in range(len(graph.get_list_of_neighbors(u))):\n",
    "            v = graph.get_list_of_neighbors(u)[k][0]\n",
    "            w = graph.get_list_of_neighbors(u)[k][1]\n",
    "            \n",
    "            # Check that v is not already processed and v.d > u.d + w\n",
    "            if v.processed == False and v.d > (u.d + w): \n",
    "                v.d = u.d + w # update distances and parents\n",
    "                v.pi = u\n",
    "                \n",
    "                # Check that v is already not in the priority queue\n",
    "                if v.idx_in_priority_queue == -1:\n",
    "                    q.insert(v) # insert v into the queue\n",
    "                else:\n",
    "                    q.update_vertex_weight(v) # otherwise move v in the priority queue\n",
    "                 \n",
    "        \n",
    "    # Start at the destination vertex and traverse the parent pointers until we reach the source\n",
    "    path = [(destination.x, destination.y)]\n",
    "    nextnode = destination\n",
    "    \n",
    "    # Store the sequence of vertices in a path\n",
    "    while nextnode != source:\n",
    "        path.insert(0,(nextnode.pi.x, nextnode.pi.y))\n",
    "        nextnode = nextnode.pi\n",
    "    \n",
    "    #Return the path and its shortest distance\n",
    "    return path, shortest_path_distance"
   ]
  },
  {
   "cell_type": "code",
   "execution_count": 27,
   "metadata": {
    "deletable": false,
    "editable": false,
    "nbgrader": {
     "cell_type": "code",
     "checksum": "c023bc16aad14c01f0dd834387fbc575",
     "grade": true,
     "grade_id": "cell-0e0649ad00e501aa",
     "locked": true,
     "points": 15,
     "schema_version": 3,
     "solution": false,
     "task": false
    }
   },
   "outputs": [
    {
     "name": "stdout",
     "output_type": "stream",
     "text": [
      "[(0, 0), (1, 0), (1, 1), (2, 2)]\n",
      "[(0, 0), (1, 0), (1, 1), (1, 2)]\n",
      "[(2, 2), (2, 1), (1, 1), (0, 1), (0, 0)]\n",
      "All tests passed: 15 points!\n"
     ]
    }
   ],
   "source": [
    "class DummyGraphClass:\n",
    "    def __init__(self, adj_list, verts):\n",
    "        self.verts=verts\n",
    "        self.adj_list = adj_list\n",
    "        \n",
    "                \n",
    "    def get_vertex_from_coords(self, i, j):\n",
    "        assert (i,j) in self.verts\n",
    "        return self.verts[(i,j)]\n",
    "    \n",
    "    def get_list_of_neighbors(self, vert):\n",
    "        coords = (vert.x, vert.y)\n",
    "        if coords in self.adj_list:\n",
    "            return self.adj_list[(vert.x, vert.y)]\n",
    "        else:\n",
    "            return []\n",
    "    \n",
    "# Test 1\n",
    "verts = {(i,j): Vertex(i,j) for i in range(3) for j in range(3)}\n",
    "adj_list= {}\n",
    "def connect_nodes(src, dest, weight):\n",
    "    v1 = src\n",
    "    v2 = verts[dest]\n",
    "    if v1 in adj_list:\n",
    "        adj_list[v1].append((v2, weight))\n",
    "    else:\n",
    "        adj_list[v1] = [(v2, weight)]\n",
    "# Let's build a graph\n",
    "connect_nodes((0,0),(0,1),1.0)\n",
    "connect_nodes((0,0),(1,0),0.5)\n",
    "connect_nodes((1,0),(0,1), 0.5)\n",
    "connect_nodes((0,1),(0,0), 0.5)\n",
    "connect_nodes((1,0),(1,1), 0.5)\n",
    "connect_nodes((1,1), (2,2), 0.25)\n",
    "connect_nodes((1,1),(1,2), 0.5)\n",
    "connect_nodes((1,1),(2,1), 1.2)\n",
    "connect_nodes((2,1), (2,2), 0.25)\n",
    "connect_nodes((1,2), (2,2), 0.25)\n",
    "\n",
    "graph = DummyGraphClass(adj_list, verts)\n",
    "\n",
    "path, dist = computeShortestPath(graph, (0,0), (2,2))\n",
    "print(path)\n",
    "\n",
    "assert(dist == 1.25) , ' shortest path distance from (0,0) to (2,2) must be 1.25'\n",
    "assert (path == [(0,0), (1,0), (1,1), (2,2)])\n",
    "\n",
    "for (_,v) in verts.items():\n",
    "    v.reset()\n",
    "\n",
    "graph2 = DummyGraphClass(adj_list, verts)\n",
    "(path2, dist2) = computeShortestPath(graph2, (0,0),(1,2))\n",
    "print(path2)\n",
    "assert dist2 == 1.5, ' shortest path distance from (0,0) to (1,2) must be 1.5'\n",
    "assert path2[0] == (0,0)\n",
    "assert path2[-1] == (1,2)\n",
    "\n",
    "for (_,v) in verts.items():\n",
    "    v.reset()\n",
    "\n",
    "connect_nodes((2,2), (2,1), 0.5)\n",
    "connect_nodes((2,1), (1,1), 1.0)\n",
    "connect_nodes((1,1),(0,1), 0.5)\n",
    "\n",
    "\n",
    "graph3 = DummyGraphClass(adj_list, verts)\n",
    "(path3, dist3) = computeShortestPath(graph3, (2,2),(0,0))\n",
    "print(path3)\n",
    "assert(dist3 == 2.5)\n",
    "assert(path3[0]== (2,2))\n",
    "assert(path3[-1] == (0,0))\n",
    "\n",
    "print('All tests passed: 15 points!')"
   ]
  },
  {
   "cell_type": "code",
   "execution_count": 28,
   "metadata": {
    "deletable": false,
    "editable": false,
    "nbgrader": {
     "cell_type": "code",
     "checksum": "f865234b88c14ea881d2e7ad3c86f2eb",
     "grade": false,
     "grade_id": "cell-486df57ccc92cccc",
     "locked": true,
     "schema_version": 3,
     "solution": false,
     "task": false
    }
   },
   "outputs": [
    {
     "data": {
      "image/png": "[encoded data removed]",
      "text/plain": [
       "<Figure size 432x288 with 1 Axes>"
      ]
     },
     "metadata": {
      "needs_background": "light"
     },
     "output_type": "display_data"
    }
   ],
   "source": [
    "img = cv2.imread('maze.png') # read an image from a file using opencv (cv2) library\n",
    "# you can annotate images \n",
    "cv2.circle(img,(5,220), 3, (255,0,0), -1) # add a circle centered at (5, 220) radius 3, color red (RGB: 255,0,0)\n",
    "cv2.circle(img, (5,5), 3, (0,0,255), -1) # add a circle centered at (5,5) radius 3, color red (RGB: 0,0,255)\n",
    "plt.imshow(img) # show the image on the screen \n",
    "plt.title('Amazing')\n",
    "plt.show()"
   ]
  },
  {
   "cell_type": "code",
   "execution_count": null,
   "metadata": {
    "deletable": false,
    "editable": false,
    "nbgrader": {
     "cell_type": "code",
     "checksum": "ba1070d309c604345748453905ec1584",
     "grade": true,
     "grade_id": "cell-fbc33118b09ce71f",
     "locked": true,
     "points": 10,
     "schema_version": 3,
     "solution": false,
     "task": false
    }
   },
   "outputs": [],
   "source": [
    "img = cv2.imread('maze.png') # read an image from a file using opencv (cv2) library\n",
    "graph = DirectedGraphFromImage(img)\n",
    "p,dist = computeShortestPath(graph, (5,220), (5,5))\n",
    "assert dist <= 78.1, 'Expected shortest path distance must be 78.1'\n",
    "assert p[0] == (5,220)\n",
    "assert p[-1] == (5,5)\n",
    "print('Passed: 10 points!')"
   ]
  },
  {
   "cell_type": "code",
   "execution_count": null,
   "metadata": {
    "deletable": false,
    "editable": false,
    "nbgrader": {
     "cell_type": "code",
     "checksum": "77737b48d63b382425e1e08b9f8f32d4",
     "grade": false,
     "grade_id": "cell-be4c6d2db592a0df",
     "locked": true,
     "schema_version": 3,
     "solution": false,
     "task": false
    }
   },
   "outputs": [],
   "source": [
    "drawPath(img, p, 2)\n",
    "plt.imshow(img) # show the image on the screen \n",
    "plt.title('Amazing')\n",
    "plt.show()\n",
    "cv2.imwrite('maze-solution.png', img)"
   ]
  },
  {
   "cell_type": "code",
   "execution_count": null,
   "metadata": {
    "deletable": false,
    "editable": false,
    "nbgrader": {
     "cell_type": "code",
     "checksum": "1ee79c10a02c1e3b68162bfe6fa18d69",
     "grade": false,
     "grade_id": "cell-483437502a8ff4b5",
     "locked": true,
     "schema_version": 3,
     "solution": false,
     "task": false
    }
   },
   "outputs": [],
   "source": [
    "img = cv2.imread('maze2.JPG') # read an image from a file using opencv (cv2) library\n",
    "cv2.circle(img,(250,470), 10, (255,0,0), -1) # add a circle centered at (600, 70) radius 10, color red (RGB: 255,0,0)\n",
    "cv2.circle(img, (20,100), 10, (255,0,0), -1) # add a circle centered at (790,200) radius 10, color red (RGB: 255,0,0)\n",
    "plt.imshow(img) # show the image on the screen \n",
    "plt.title('Amazing 2')\n",
    "plt.show()"
   ]
  },
  {
   "cell_type": "code",
   "execution_count": null,
   "metadata": {
    "deletable": false,
    "editable": false,
    "nbgrader": {
     "cell_type": "code",
     "checksum": "8f75c642a73a122c3eeaab0aa814f7fa",
     "grade": true,
     "grade_id": "cell-c5eae360e536d157",
     "locked": true,
     "points": 10,
     "schema_version": 3,
     "solution": false,
     "task": false
    }
   },
   "outputs": [],
   "source": [
    "img = cv2.imread('maze2.JPG') # read an image from a file using opencv (cv2) library\n",
    "p, dist = computeShortestPath(DirectedGraphFromImage(img), (250,470), (20,100))\n",
    "assert dist <= 120.0\n",
    "assert p[0] == (250, 470)\n",
    "assert p[-1] == (20,100)\n",
    "print('Passed: 10 points!')"
   ]
  },
  {
   "cell_type": "code",
   "execution_count": null,
   "metadata": {
    "deletable": false,
    "editable": false,
    "nbgrader": {
     "cell_type": "code",
     "checksum": "c0dce0393508202e4a47b9a19bab10d0",
     "grade": false,
     "grade_id": "cell-469c10b0312c3916",
     "locked": true,
     "schema_version": 3,
     "solution": false,
     "task": false
    }
   },
   "outputs": [],
   "source": [
    "drawPath(img,p)\n",
    "plt.imshow(img) # show the image on the screen \n",
    "plt.title('Amazing2')\n",
    "plt.show()"
   ]
  },
  {
   "cell_type": "code",
   "execution_count": null,
   "metadata": {
    "deletable": false,
    "editable": false,
    "nbgrader": {
     "cell_type": "code",
     "checksum": "e645d8c9f393f70b8d483c195f2dfc32",
     "grade": false,
     "grade_id": "cell-53f693d6a4588e0a",
     "locked": true,
     "schema_version": 3,
     "solution": false,
     "task": false
    }
   },
   "outputs": [],
   "source": [
    "img = cv2.imread('maze3.JPG')\n",
    "cv2.circle(img,(70,1750), 15, (255,0,0), -1) # add a circle centered at (600, 70) radius 10, color red (RGB: 255,0,0)\n",
    "cv2.circle(img, (900,500), 15, (0,255,255), -1) # add a circle centered at (790,200) radius 10, color red (RGB: 255,0,0)\n",
    "plt.imshow(img) # show the image on the screen \n",
    "plt.title('Amazing 3')\n",
    "plt.show()"
   ]
  },
  {
   "cell_type": "markdown",
   "metadata": {
    "deletable": false,
    "editable": false,
    "nbgrader": {
     "cell_type": "markdown",
     "checksum": "a541bae3c596e283c1b1a80080d7224e",
     "grade": false,
     "grade_id": "cell-29d0ccf44f19ac05",
     "locked": true,
     "schema_version": 3,
     "solution": false,
     "task": false
    }
   },
   "source": [
    "This will take a while to run: cut and paste the code into a new code cell if you wish to try\n",
    "~~~\n",
    "img = cv2.imread('maze3.JPG') # read an image from a file using opencv (cv2) library\n",
    "p,dist = computeShortestPath(DirectedGraphFromImage(img), (70,1750), (900,500))\n",
    "~~~"
   ]
  },
  {
   "cell_type": "markdown",
   "metadata": {
    "deletable": false,
    "editable": false,
    "nbgrader": {
     "cell_type": "markdown",
     "checksum": "cac275b1d0fdfdb5463b418e490c08a8",
     "grade": false,
     "grade_id": "cell-734207803d2cf185",
     "locked": true,
     "schema_version": 3,
     "solution": false,
     "task": false
    }
   },
   "source": [
    "This will visualize your solution over the complicated maze.\n",
    "~~~\n",
    "drawPath(img,p,10)\n",
    "plt.imshow(img) # show the image on the screen \n",
    "plt.title('Amazing2 Solution')\n",
    "plt.show()\n",
    "~~~"
   ]
  },
  {
   "cell_type": "markdown",
   "metadata": {
    "deletable": false,
    "editable": false,
    "nbgrader": {
     "cell_type": "markdown",
     "checksum": "38513ff23407d7b5b552abb4d1e9a88c",
     "grade": false,
     "grade_id": "cell-b89633419202bb0c",
     "locked": true,
     "schema_version": 3,
     "solution": false,
     "task": false
    }
   },
   "source": [
    "## That's all Folks!"
   ]
  }
 ],
 "metadata": {
  "kernelspec": {
   "display_name": "Python 3",
   "language": "python",
   "name": "python3"
  },
  "language_info": {
   "codemirror_mode": {
    "name": "ipython",
    "version": 3
   },
   "file_extension": ".py",
   "mimetype": "text/x-python",
   "name": "python",
   "nbconvert_exporter": "python",
   "pygments_lexer": "ipython3",
   "version": "3.7.6"
  }
 },
 "nbformat": 4,
 "nbformat_minor": 2
}
