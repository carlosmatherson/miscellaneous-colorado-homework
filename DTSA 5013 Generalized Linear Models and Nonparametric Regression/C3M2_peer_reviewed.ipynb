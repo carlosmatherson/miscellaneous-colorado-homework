{
 "cells": [
  {
   "cell_type": "markdown",
   "metadata": {},
   "source": [
    "# C3M2: Peer Reviewed Assignment"
   ]
  },
  {
   "cell_type": "markdown",
   "metadata": {},
   "source": [
    "### Outline:\n",
    "The objectives for this assignment:\n",
    "\n",
    "1. Apply Poisson Regression to real data.\n",
    "2. Learn and practice working with and interpreting Poisson Regression Models.\n",
    "3. Understand deviance and how to conduct hypothesis tests with Poisson Regression.\n",
    "4. Recognize when a model shows signs of overdispersion.\n",
    "\n",
    "General tips:\n",
    "\n",
    "1. Read the questions carefully to understand what is being asked.\n",
    "2. This work will be reviewed by another human, so make sure that you are clear and concise in what your explanations and answers."
   ]
  },
  {
   "cell_type": "code",
   "execution_count": 21,
   "metadata": {},
   "outputs": [],
   "source": [
    "# Load the required packages\n",
    "library(MASS)\n",
    "library(tidyverse)"
   ]
  },
  {
   "cell_type": "markdown",
   "metadata": {},
   "source": [
    "# Problem 1: Poisson Estimators\n",
    "\n",
    "Let $Y_1,...,Y_n \\overset{i}{\\sim} Poisson(\\lambda_i)$. Show that, if $\\eta_i = \\beta_0$, then the maximum likelihood estimator of $\\lambda_i$ is $\\widehat\\lambda_i = \\bar{Y}$, for all $i=1,...,n$."
   ]
  },
  {
   "cell_type": "markdown",
   "metadata": {},
   "source": [
    "The likelihood function for a Poisson distribution is \n",
    "$$P(Y_i=y_i)=\\frac{e^{-\\lambda_i}\\lambda_i^{y_i}}{y_i!}, y_i = 1,2,...,\\lambda_i$$. \n",
    "\n",
    "The joint PMF is $$f(y_i,\\lambda)=\\prod^{n}_{i=1}\\frac{e^{-\\lambda_i}\\lambda_i^{y_i}}{y_i!}$$ \n",
    "\n",
    "From the above, we can write the likelihood function as a function of the parameters using the link function an exponentiation. The link function takes the log of the rate parameter and sends the mean to the linear predictor.\n",
    "$$\\eta_i = g(\\lambda_i) = \\log(\\lambda_i) \\implies \\lambda_i = e^{\\eta_i} = e^{\\beta_0+\\beta_ix_i}$$\n",
    "\n",
    "\n",
    "$$L(\\beta)=\\prod^{n}_{i=1}\\frac{e^{-\\lambda_i}\\lambda_i^{y_i}}{y_i!}=\\prod^{n}_{i=1}\\frac{e^{y_i\\eta_i-e^{\\eta_i}}}{y_i!}$$ \n",
    "\n",
    "and the log-likelihood function is $$l(\\beta)=\\sum^{n}_{i=1}[y_i\\eta_i-e^{\\eta_i} - \\log(y_i!)]$$\n",
    "\n",
    "Finally, taking the derivative of the log-likelihood function and solving for when it is equal to zero maximizes the function and we get: $$\\frac{\\partial l(\\beta)}{\\partial e^{\\eta_i}} = \\frac{\\partial L(\\beta)}{\\partial\\lambda_i} = -n + \\frac{1}{\\lambda}\\sum_{i=1}^{n}x_i = 0 \\implies \\lambda = \\frac{1}{n}\\sum_{i=1}^{n}x_i$$ or in other words, the mean."
   ]
  },
  {
   "cell_type": "markdown",
   "metadata": {},
   "source": [
    "# Problem 2: Ships data\n",
    "\n",
    "The ships dataset gives the number of damage incidents and aggregate months of service for different types of ships broken down by year of construction and period of operation. \n",
    "\n",
    "The code below splits the data into a training set (80% of the data) and a test set (the remaining 20%)."
   ]
  },
  {
   "cell_type": "code",
   "execution_count": 22,
   "metadata": {},
   "outputs": [
    {
     "data": {
      "text/html": [
       "<table>\n",
       "<caption>A data.frame: 6 × 5</caption>\n",
       "<thead>\n",
       "\t<tr><th></th><th scope=col>type</th><th scope=col>year</th><th scope=col>period</th><th scope=col>service</th><th scope=col>incidents</th></tr>\n",
       "\t<tr><th></th><th scope=col>&lt;fct&gt;</th><th scope=col>&lt;fct&gt;</th><th scope=col>&lt;fct&gt;</th><th scope=col>&lt;int&gt;</th><th scope=col>&lt;int&gt;</th></tr>\n",
       "</thead>\n",
       "<tbody>\n",
       "\t<tr><th scope=row>40</th><td>E</td><td>75</td><td>75</td><td> 542</td><td>1</td></tr>\n",
       "\t<tr><th scope=row>28</th><td>D</td><td>65</td><td>75</td><td> 192</td><td>0</td></tr>\n",
       "\t<tr><th scope=row>18</th><td>C</td><td>60</td><td>75</td><td> 552</td><td>1</td></tr>\n",
       "\t<tr><th scope=row>19</th><td>C</td><td>65</td><td>60</td><td> 781</td><td>0</td></tr>\n",
       "\t<tr><th scope=row>5</th><td>A</td><td>70</td><td>60</td><td>1512</td><td>6</td></tr>\n",
       "\t<tr><th scope=row>32</th><td>D</td><td>75</td><td>75</td><td>2051</td><td>4</td></tr>\n",
       "</tbody>\n",
       "</table>\n"
      ],
      "text/latex": [
       "A data.frame: 6 × 5\n",
       "\\begin{tabular}{r|lllll}\n",
       "  & type & year & period & service & incidents\\\\\n",
       "  & <fct> & <fct> & <fct> & <int> & <int>\\\\\n",
       "\\hline\n",
       "\t40 & E & 75 & 75 &  542 & 1\\\\\n",
       "\t28 & D & 65 & 75 &  192 & 0\\\\\n",
       "\t18 & C & 60 & 75 &  552 & 1\\\\\n",
       "\t19 & C & 65 & 60 &  781 & 0\\\\\n",
       "\t5 & A & 70 & 60 & 1512 & 6\\\\\n",
       "\t32 & D & 75 & 75 & 2051 & 4\\\\\n",
       "\\end{tabular}\n"
      ],
      "text/markdown": [
       "\n",
       "A data.frame: 6 × 5\n",
       "\n",
       "| <!--/--> | type &lt;fct&gt; | year &lt;fct&gt; | period &lt;fct&gt; | service &lt;int&gt; | incidents &lt;int&gt; |\n",
       "|---|---|---|---|---|---|\n",
       "| 40 | E | 75 | 75 |  542 | 1 |\n",
       "| 28 | D | 65 | 75 |  192 | 0 |\n",
       "| 18 | C | 60 | 75 |  552 | 1 |\n",
       "| 19 | C | 65 | 60 |  781 | 0 |\n",
       "| 5 | A | 70 | 60 | 1512 | 6 |\n",
       "| 32 | D | 75 | 75 | 2051 | 4 |\n",
       "\n"
      ],
      "text/plain": [
       "   type year period service incidents\n",
       "40 E    75   75      542    1        \n",
       "28 D    65   75      192    0        \n",
       "18 C    60   75      552    1        \n",
       "19 C    65   60      781    0        \n",
       "5  A    70   60     1512    6        \n",
       "32 D    75   75     2051    4        "
      ]
     },
     "metadata": {},
     "output_type": "display_data"
    },
    {
     "data": {
      "text/plain": [
       " type  year   period     service          incidents    \n",
       " A:5   60:7   60:11   Min.   :   45.0   Min.   : 0.00  \n",
       " B:5   65:8   75:16   1st Qu.:  318.5   1st Qu.: 0.50  \n",
       " C:6   70:8           Median : 1095.0   Median : 2.00  \n",
       " D:7   75:4           Mean   : 5012.2   Mean   :10.63  \n",
       " E:4                  3rd Qu.: 2202.5   3rd Qu.:11.50  \n",
       "                      Max.   :44882.0   Max.   :58.00  "
      ]
     },
     "metadata": {},
     "output_type": "display_data"
    }
   ],
   "source": [
    "data(ships)\n",
    "ships = ships[ships$service != 0,]\n",
    "ships$year = as.factor(ships$year)\n",
    "ships$period = as.factor(ships$period)\n",
    "\n",
    "set.seed(11)\n",
    "n = floor(0.8 * nrow(ships))\n",
    "index = sample(seq_len(nrow(ships)), size = n)\n",
    "\n",
    "train = ships[index, ]\n",
    "test = ships[-index, ]\n",
    "head(train)\n",
    "summary(train)"
   ]
  },
  {
   "cell_type": "markdown",
   "metadata": {},
   "source": [
    "### 2. (a) Poisson Regression Fitting\n",
    "\n",
    "Use the training set to develop an appropriate regression model for `incidents`, using `type`, `period`, and `year` as predictors (HINT: is this a count model or a rate model?).\n",
    "\n",
    "Calculate the mean squared prediction error (MSPE) for the test set. Display your results."
   ]
  },
  {
   "cell_type": "code",
   "execution_count": 23,
   "metadata": {},
   "outputs": [
    {
     "data": {
      "text/plain": [
       "\n",
       "Call:\n",
       "glm(formula = incidents ~ type + period + year, family = poisson, \n",
       "    data = train)\n",
       "\n",
       "Deviance Residuals: \n",
       "    Min       1Q   Median       3Q      Max  \n",
       "-4.0775  -1.9869  -0.0418   0.7612   3.6618  \n",
       "\n",
       "Coefficients:\n",
       "            Estimate Std. Error z value Pr(>|z|)    \n",
       "(Intercept)   1.5644     0.2199   7.113 1.13e-12 ***\n",
       "typeB         1.6795     0.1889   8.889  < 2e-16 ***\n",
       "typeC        -2.0789     0.4408  -4.717 2.40e-06 ***\n",
       "typeD        -1.1551     0.2930  -3.943 8.06e-05 ***\n",
       "typeE        -0.5113     0.2781  -1.839   0.0660 .  \n",
       "period75      0.4123     0.1282   3.216   0.0013 ** \n",
       "year65        0.4379     0.1885   2.324   0.0201 *  \n",
       "year70        0.2260     0.1916   1.180   0.2382    \n",
       "year75        0.1436     0.3147   0.456   0.6481    \n",
       "---\n",
       "Signif. codes:  0 ‘***’ 0.001 ‘**’ 0.01 ‘*’ 0.05 ‘.’ 0.1 ‘ ’ 1\n",
       "\n",
       "(Dispersion parameter for poisson family taken to be 1)\n",
       "\n",
       "    Null deviance: 554.70  on 26  degrees of freedom\n",
       "Residual deviance: 109.21  on 18  degrees of freedom\n",
       "AIC: 200.92\n",
       "\n",
       "Number of Fisher Scoring iterations: 6\n"
      ]
     },
     "metadata": {},
     "output_type": "display_data"
    }
   ],
   "source": [
    "# Your Code Here\n",
    "glmod.ships = glm(incidents ~ type + period + year, data = train, family = poisson)\n",
    "summary(glmod.ships)"
   ]
  },
  {
   "cell_type": "markdown",
   "metadata": {},
   "source": [
    "<span style=\"color:orange\">\n",
    "Above you can see the generalized linear regression model for incidents, using type, period, and year as predictors. The model is a count model, so it implements poisson regression. From the summary, you can see that the years are not significant predictors.\n",
    "\n",
    "</span>"
   ]
  },
  {
   "cell_type": "code",
   "execution_count": 24,
   "metadata": {},
   "outputs": [
    {
     "data": {
      "text/html": [
       "133.236000250932"
      ],
      "text/latex": [
       "133.236000250932"
      ],
      "text/markdown": [
       "133.236000250932"
      ],
      "text/plain": [
       "[1] 133.236"
      ]
     },
     "metadata": {},
     "output_type": "display_data"
    }
   ],
   "source": [
    "mean((test$incidents - predict.glm(glmod.ships, test)) ^ 2)"
   ]
  },
  {
   "cell_type": "markdown",
   "metadata": {},
   "source": [
    "<span style=\"color:orange\">\n",
    "Above you can see the MSPE is 133.\n",
    "\n",
    "</span>."
   ]
  },
  {
   "cell_type": "markdown",
   "metadata": {},
   "source": [
    "### 2. (b) Poisson Regression Model Selection\n",
    "\n",
    "Do we really need all of these predictors? Construct a new regression model leaving out `year` and calculate the MSPE for this second model. \n",
    "\n",
    "Decide which model is better. Explain why you chose the model that you did."
   ]
  },
  {
   "cell_type": "code",
   "execution_count": 25,
   "metadata": {},
   "outputs": [
    {
     "data": {
      "text/plain": [
       "\n",
       "Call:\n",
       "glm(formula = incidents ~ type + period, family = poisson, data = train)\n",
       "\n",
       "Deviance Residuals: \n",
       "    Min       1Q   Median       3Q      Max  \n",
       "-4.2377  -1.9003  -0.1372   0.6377   3.8906  \n",
       "\n",
       "Coefficients:\n",
       "            Estimate Std. Error z value Pr(>|z|)    \n",
       "(Intercept)   1.7190     0.1838   9.355  < 2e-16 ***\n",
       "typeB         1.7831     0.1781  10.014  < 2e-16 ***\n",
       "typeC        -2.0573     0.4394  -4.683 2.83e-06 ***\n",
       "typeD        -1.1281     0.2918  -3.866 0.000111 ***\n",
       "typeE        -0.4831     0.2767  -1.746 0.080787 .  \n",
       "period75      0.4723     0.1222   3.865 0.000111 ***\n",
       "---\n",
       "Signif. codes:  0 ‘***’ 0.001 ‘**’ 0.01 ‘*’ 0.05 ‘.’ 0.1 ‘ ’ 1\n",
       "\n",
       "(Dispersion parameter for poisson family taken to be 1)\n",
       "\n",
       "    Null deviance: 554.70  on 26  degrees of freedom\n",
       "Residual deviance: 115.63  on 21  degrees of freedom\n",
       "AIC: 201.34\n",
       "\n",
       "Number of Fisher Scoring iterations: 6\n"
      ]
     },
     "metadata": {},
     "output_type": "display_data"
    }
   ],
   "source": [
    "# Your Code Here\n",
    "glmod.ships.noyear = glm(incidents ~ type + period, data = train, family = poisson)\n",
    "summary(glmod.ships.noyear)"
   ]
  },
  {
   "cell_type": "markdown",
   "metadata": {},
   "source": [
    "<span style=\"color:orange\">\n",
    "Above you can see the poisson regression model for incidents, using the type and period, but not the year as predictors.\n",
    "</span>"
   ]
  },
  {
   "cell_type": "code",
   "execution_count": 26,
   "metadata": {},
   "outputs": [
    {
     "data": {
      "text/html": [
       "130.969375270726"
      ],
      "text/latex": [
       "130.969375270726"
      ],
      "text/markdown": [
       "130.969375270726"
      ],
      "text/plain": [
       "[1] 130.9694"
      ]
     },
     "metadata": {},
     "output_type": "display_data"
    }
   ],
   "source": [
    "mean((test$incidents - predict.glm(glmod.ships.noyear, test)) ^ 2)"
   ]
  },
  {
   "cell_type": "markdown",
   "metadata": {},
   "source": [
    "<span style=\"color:orange\">\n",
    "We can see that the MSPE for this model is 130 which is less than 133. This is seemingly little difference, but we will test this with a chi-squared test below.\n",
    "</span>"
   ]
  },
  {
   "cell_type": "code",
   "execution_count": 27,
   "metadata": {},
   "outputs": [
    {
     "data": {
      "text/html": [
       "<table>\n",
       "<caption>A anova: 2 × 5</caption>\n",
       "<thead>\n",
       "\t<tr><th></th><th scope=col>Resid. Df</th><th scope=col>Resid. Dev</th><th scope=col>Df</th><th scope=col>Deviance</th><th scope=col>Pr(&gt;Chi)</th></tr>\n",
       "\t<tr><th></th><th scope=col>&lt;dbl&gt;</th><th scope=col>&lt;dbl&gt;</th><th scope=col>&lt;dbl&gt;</th><th scope=col>&lt;dbl&gt;</th><th scope=col>&lt;dbl&gt;</th></tr>\n",
       "</thead>\n",
       "<tbody>\n",
       "\t<tr><th scope=row>1</th><td>18</td><td>109.2123</td><td>NA</td><td>       NA</td><td>        NA</td></tr>\n",
       "\t<tr><th scope=row>2</th><td>21</td><td>115.6311</td><td>-3</td><td>-6.418801</td><td>0.09292038</td></tr>\n",
       "</tbody>\n",
       "</table>\n"
      ],
      "text/latex": [
       "A anova: 2 × 5\n",
       "\\begin{tabular}{r|lllll}\n",
       "  & Resid. Df & Resid. Dev & Df & Deviance & Pr(>Chi)\\\\\n",
       "  & <dbl> & <dbl> & <dbl> & <dbl> & <dbl>\\\\\n",
       "\\hline\n",
       "\t1 & 18 & 109.2123 & NA &        NA &         NA\\\\\n",
       "\t2 & 21 & 115.6311 & -3 & -6.418801 & 0.09292038\\\\\n",
       "\\end{tabular}\n"
      ],
      "text/markdown": [
       "\n",
       "A anova: 2 × 5\n",
       "\n",
       "| <!--/--> | Resid. Df &lt;dbl&gt; | Resid. Dev &lt;dbl&gt; | Df &lt;dbl&gt; | Deviance &lt;dbl&gt; | Pr(&gt;Chi) &lt;dbl&gt; |\n",
       "|---|---|---|---|---|---|\n",
       "| 1 | 18 | 109.2123 | NA |        NA |         NA |\n",
       "| 2 | 21 | 115.6311 | -3 | -6.418801 | 0.09292038 |\n",
       "\n"
      ],
      "text/plain": [
       "  Resid. Df Resid. Dev Df Deviance  Pr(>Chi)  \n",
       "1 18        109.2123   NA        NA         NA\n",
       "2 21        115.6311   -3 -6.418801 0.09292038"
      ]
     },
     "metadata": {},
     "output_type": "display_data"
    }
   ],
   "source": [
    "# Can compare nested poisson models with a chi-squared \n",
    "\n",
    "anova(glmod.ships,glmod.ships.noyear,test=\"Chisq\")"
   ]
  },
  {
   "cell_type": "markdown",
   "metadata": {},
   "source": [
    "<span style=\"color:orange\">\n",
    "From the chi-squared test above, we have a non-significant result for the p-value (p>0.09), so we can assume that the first model fit the data well enough. The model that excluded the years predictor is not significantly better than the model that incorporated the years predictor.\n",
    "</span>"
   ]
  },
  {
   "cell_type": "markdown",
   "metadata": {},
   "source": [
    "### 2. (c) Deviance\n",
    "\n",
    "How do we determine if our model is explaining anything? With linear regression, we had a F-test, but we can't do that for Poisson Regression. If we want to check if our model is better than the null model, then we're going to have to check directly. In particular, we need to compare the deviances of the models to see if they're significantly different.\n",
    "\n",
    "Conduct two $\\chi^2$ tests (using the deviance). Let $\\alpha = 0.05$: \n",
    "\n",
    "1. Test the adequacy of null model.\n",
    "\n",
    "2. Test the adequacy of your chosen model against the full model (the model fit to all predictors). \n",
    "\n",
    "What conclusions should you draw from these tests?"
   ]
  },
  {
   "cell_type": "code",
   "execution_count": 28,
   "metadata": {},
   "outputs": [
    {
     "data": {
      "text/html": [
       "4.4110510959471e-15"
      ],
      "text/latex": [
       "4.4110510959471e-15"
      ],
      "text/markdown": [
       "4.4110510959471e-15"
      ],
      "text/plain": [
       "[1] 4.411051e-15"
      ]
     },
     "metadata": {},
     "output_type": "display_data"
    },
    {
     "data": {
      "text/html": [
       "0.650287678523805"
      ],
      "text/latex": [
       "0.650287678523805"
      ],
      "text/markdown": [
       "0.650287678523805"
      ],
      "text/plain": [
       "[1] 0.6502877"
      ]
     },
     "metadata": {},
     "output_type": "display_data"
    }
   ],
   "source": [
    "# Your Code Here\n",
    "# Test if the model is better than the null model\n",
    "\n",
    "# Test chi_sq stat\n",
    "pchisq(summary(glmod.ships)$deviance,summary(glmod.ships)$df.resid, lower.tail = FALSE)\n",
    "\n",
    "# Test against the full model\n",
    "pchisq(summary(glmod.ships)$deviance,summary(glmod.ships.noyear)$deviance, lower.tail = FALSE)"
   ]
  },
  {
   "cell_type": "markdown",
   "metadata": {},
   "source": [
    "<span style=\"color:orange\">\n",
    "From the chi-squared tests above that we can reject the null model since the model we defined using all of the predictors available fits the data better than random chance and an intercept alone. Moreover, when we compare goodness of fit of the model that excludes years to the full model, we get a non-significant result. Thus, the original model still prevails as a good fit. There is no reason to reject the full model as an adequate model in favor of the smaller model.\n",
    "</span>"
   ]
  },
  {
   "cell_type": "markdown",
   "metadata": {},
   "source": [
    "### 2. (d) Poisson Regression Visualizations\n",
    "\n",
    "Just like with linear regression, we can use visualizations to assess the fit and appropriateness of our model. Is it maintaining the assumptions that it should be? Is there a discernable structure that isn't being accounted for? And, again like linear regression, it can be up to the user's interpretation what is an isn't a good model.\n",
    "\n",
    "Plot the deviance residuals against the linear predictor $\\eta$. Interpret this plot."
   ]
  },
  {
   "cell_type": "code",
   "execution_count": 29,
   "metadata": {},
   "outputs": [
    {
     "name": "stderr",
     "output_type": "stream",
     "text": [
      "`geom_smooth()` using formula 'y ~ x'\n",
      "\n"
     ]
    },
    {
     "data": {
      "image/png": "[encoded data removed]",
      "text/plain": [
       "plot without title"
      ]
     },
     "metadata": {
      "image/png": {
       "height": 300,
       "width": 300
      },
      "text/plain": {
       "height": 300,
       "width": 300
      }
     },
     "output_type": "display_data"
    },
    {
     "data": {
      "image/png": "[encoded data removed]",
      "text/plain": [
       "Plot with title “”"
      ]
     },
     "metadata": {
      "image/png": {
       "height": 300,
       "width": 300
      },
      "text/plain": {
       "height": 300,
       "width": 300
      }
     },
     "output_type": "display_data"
    }
   ],
   "source": [
    "# Your Code Here\n",
    "\n",
    "options(repr.plot.width = 5, repr.plot.height = 5)\n",
    "p1 = ggplot(glmod.ships, aes(.fitted, .resid))+geom_point()\n",
    "p1 = p1+stat_smooth(method=\"loess\", col = \"#CFB87C\")+geom_hline(yintercept=0, col=\"grey\", linetype=\"dashed\")\n",
    "p1 = p1+xlab(\"Linear Predictor\")+ylab(\"Deviance Residuals\")\n",
    "p1 = p1+ggtitle(\"Residual vs Linear Predictor\")+theme_bw()\n",
    "p1\n",
    "plot(glmod.ships,1)\n"
   ]
  },
  {
   "cell_type": "markdown",
   "metadata": {},
   "source": [
    "<span style=\"color:orange\">\n",
    "In the poisson regression visuals above depicting the deviance residual vs the linear predictor model, we can see an uneven spread or fanning of the residuals across the predicted values which may suggest an inappropriate link function. Moreover, there seem to be outliers that may suggest that the model may need improvements.\n",
    "</span>"
   ]
  },
  {
   "cell_type": "markdown",
   "metadata": {},
   "source": [
    "### 2. (e) Overdispersion\n",
    "\n",
    "For linear regression, the variance of the data is controlled through the standard deviation $\\sigma$, which is independent of the other parameters like the mean $\\mu$. However, some GLMs do not have this independence, which can lead to a problem called overdispersion. Overdispersion occurs when the observed data's variance is higher than expected, if the model is correct. \n",
    "\n",
    "For Poisson Regression, we expect that the mean of the data should equal the variance. If overdispersion is present, then the assumptions of the model are not being met and we can not trust its output (or our beloved p-values)!\n",
    "\n",
    "Explore the two models fit in the beginning of this question for evidence of overdisperion. If you find evidence of overdispersion, you do not need to fix it (but it would be useful for you to know how to). Describe your process and conclusions."
   ]
  },
  {
   "cell_type": "code",
   "execution_count": 30,
   "metadata": {},
   "outputs": [
    {
     "data": {
      "text/html": [
       "5.47049561223492"
      ],
      "text/latex": [
       "5.47049561223492"
      ],
      "text/markdown": [
       "5.47049561223492"
      ],
      "text/plain": [
       "[1] 5.470496"
      ]
     },
     "metadata": {},
     "output_type": "display_data"
    },
    {
     "data": {
      "text/html": [
       "4.93792459262441"
      ],
      "text/latex": [
       "4.93792459262441"
      ],
      "text/markdown": [
       "4.93792459262441"
      ],
      "text/plain": [
       "[1] 4.937925"
      ]
     },
     "metadata": {},
     "output_type": "display_data"
    }
   ],
   "source": [
    "# Your Code Here\n",
    "\n",
    "overdispersion.ships = sum(residuals(glmod.ships, type = \"pearson\")^2)/glmod.ships$df.res\n",
    "overdispersion.ships\n",
    "\n",
    "overdispersion.ships.noyear = sum(residuals(glmod.ships.noyear, type = \"pearson\")^2)/glmod.ships.noyear$df.res\n",
    "overdispersion.ships.noyear\n"
   ]
  },
  {
   "cell_type": "markdown",
   "metadata": {},
   "source": [
    "<span style=\"color:orange\">\n",
    "The overdispersion parameter estimates are greater than one, but not by any means much greater than 1. Still, this suggests there is overdispersion in the model. After exploring the data, it is reasoned to be caused by the inclusion of outliers in the data or having an inappropriate link function, which are all examples of apparent overdispersion. Since we used all of the predictors, it would be worthwhile to check the adequacy of the link function and sift outliers out of the data. Doing this then retraining the model may show better results.\n",
    "</span>"
   ]
  },
  {
   "cell_type": "code",
   "execution_count": null,
   "metadata": {},
   "outputs": [],
   "source": []
  }
 ],
 "metadata": {
  "kernelspec": {
   "display_name": "R",
   "language": "R",
   "name": "ir"
  },
  "language_info": {
   "codemirror_mode": "r",
   "file_extension": ".r",
   "mimetype": "text/x-r-source",
   "name": "R",
   "pygments_lexer": "r",
   "version": "3.6.3"
  }
 },
 "nbformat": 4,
 "nbformat_minor": 4
}
