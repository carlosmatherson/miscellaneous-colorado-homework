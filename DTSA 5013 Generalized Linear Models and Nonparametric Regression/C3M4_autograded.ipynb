{
 "cells": [
  {
   "cell_type": "markdown",
   "metadata": {
    "deletable": false,
    "editable": false,
    "nbgrader": {
     "cell_type": "markdown",
     "checksum": "8666cba3113d015efbf7b22fc970c2b4",
     "grade": false,
     "grade_id": "cell-1be8e089703c78e3",
     "locked": true,
     "schema_version": 3,
     "solution": false,
     "task": false
    }
   },
   "source": [
    "# C3M4 Autograded Assignment"
   ]
  },
  {
   "cell_type": "markdown",
   "metadata": {
    "deletable": false,
    "editable": false,
    "nbgrader": {
     "cell_type": "markdown",
     "checksum": "174953863b2f4f9e98573b8578638033",
     "grade": false,
     "grade_id": "cell-7dfcb15ce735954e",
     "locked": true,
     "schema_version": 3,
     "solution": false,
     "task": false
    }
   },
   "source": [
    "### Outline:\n",
    "**Here are the objectives of this assignment:**\n",
    "\n",
    "1. Differentiate between additive and multiplicative models.\n",
    "2. Apply GAMs to different types of responses, including Binary and Poisson.\n",
    "3. Explore how effective degrees of freedom relates to parameter linearity.\n",
    "4. Evaluate the performance of GAM models.\n",
    "\n",
    "**Here are some general tips:**\n",
    "\n",
    "1. Read the questions carefully to understand what is being asked.\n",
    "2. When you feel that your work is completed, feel free to hit the ```Validate``` button to see your results on the *visible* unit tests. If you have questions about unit testing, please refer to the \"Module 0: Introduction\" notebook provided as an optional resource for this course. In this assignment, there are hidden unit tests that check your code. You will not recieve any feedback for failed hidden unit tests until the assignment is submitted. **Do not misinterpret the feedback from visible unit tests as all possible tests for a given question--write your code carefully!**\n",
    "3. Before submitting, we recommend restarting the kernel and running all the cells in order that they appear to make sure that there are no additional bugs in your code."
   ]
  },
  {
   "cell_type": "code",
   "execution_count": 1,
   "metadata": {
    "deletable": false,
    "editable": false,
    "nbgrader": {
     "cell_type": "code",
     "checksum": "9174a0c065d7e96c994c7abd720805e3",
     "grade": false,
     "grade_id": "cell-911ff930bed397b2",
     "locked": true,
     "schema_version": 3,
     "solution": false,
     "task": false
    }
   },
   "outputs": [
    {
     "name": "stderr",
     "output_type": "stream",
     "text": [
      "── \u001b[1mAttaching packages\u001b[22m ─────────────────────────────────────── tidyverse 1.3.0 ──\n",
      "\n",
      "\u001b[32m✔\u001b[39m \u001b[34mggplot2\u001b[39m 3.3.0     \u001b[32m✔\u001b[39m \u001b[34mpurrr  \u001b[39m 0.3.4\n",
      "\u001b[32m✔\u001b[39m \u001b[34mtibble \u001b[39m 3.2.1     \u001b[32m✔\u001b[39m \u001b[34mdplyr  \u001b[39m 1.1.2\n",
      "\u001b[32m✔\u001b[39m \u001b[34mtidyr  \u001b[39m 1.0.2     \u001b[32m✔\u001b[39m \u001b[34mstringr\u001b[39m 1.4.0\n",
      "\u001b[32m✔\u001b[39m \u001b[34mreadr  \u001b[39m 1.3.1     \u001b[32m✔\u001b[39m \u001b[34mforcats\u001b[39m 0.5.0\n",
      "\n",
      "── \u001b[1mConflicts\u001b[22m ────────────────────────────────────────── tidyverse_conflicts() ──\n",
      "\u001b[31m✖\u001b[39m \u001b[34mdplyr\u001b[39m::\u001b[32mfilter()\u001b[39m  masks \u001b[34mstats\u001b[39m::filter()\n",
      "\u001b[31m✖\u001b[39m \u001b[34mpurrr\u001b[39m::\u001b[32mis_null()\u001b[39m masks \u001b[34mtestthat\u001b[39m::is_null()\n",
      "\u001b[31m✖\u001b[39m \u001b[34mdplyr\u001b[39m::\u001b[32mlag()\u001b[39m     masks \u001b[34mstats\u001b[39m::lag()\n",
      "\u001b[31m✖\u001b[39m \u001b[34mdplyr\u001b[39m::\u001b[32mmatches()\u001b[39m masks \u001b[34mtidyr\u001b[39m::matches(), \u001b[34mtestthat\u001b[39m::matches()\n",
      "\n",
      "Loading required package: nlme\n",
      "\n",
      "\n",
      "Attaching package: ‘nlme’\n",
      "\n",
      "\n",
      "The following object is masked from ‘package:dplyr’:\n",
      "\n",
      "    collapse\n",
      "\n",
      "\n",
      "This is mgcv 1.8-31. For overview type 'help(\"mgcv-package\")'.\n",
      "\n"
     ]
    }
   ],
   "source": [
    "# Load Required Libraries\n",
    "library(testthat)\n",
    "library(tidyverse)\n",
    "library(mgcv)  # For GAM models\n",
    "library(ggplot2)"
   ]
  },
  {
   "cell_type": "markdown",
   "metadata": {
    "deletable": false,
    "editable": false,
    "nbgrader": {
     "cell_type": "markdown",
     "checksum": "d8e1e1bf86ec943f89c8c848896d04a5",
     "grade": false,
     "grade_id": "cell-0e61f5b5c8e043df",
     "locked": true,
     "schema_version": 3,
     "solution": false,
     "task": false
    }
   },
   "source": [
    "# Problem 1: Identifying Additive Models\n",
    "\n",
    "GAMs are specified to be the sum of seperate functions of predictors. In math terms, that means $$Y_i = f(x_{i,1}+\\dots+f_{i,p}) + \\epsilon_i = f_1(x_{i,1})+\\dots+f_p(x_{i,p})+\\epsilon_i$$. For the following models, answer `TRUE` if the model can be expressed as a GAM and `FALSE` if it can not.\n",
    "\n",
    "1. $f(x_1, x_2, x_3) = x_1 + x_2 + (x_1x_2)^2 + \\sqrt{x_3}$\n",
    "2. $f(x_1, x_2, x_3) = \\dfrac{x_1x_2x_3 + x_2x_3 + x_3}{x_2x_3}$\n",
    "3. $f(x_1, x_2) = \\log(\\sqrt{x_1x_2})$\n",
    "4. $f(x_1, x_2) = \\beta_0 + \\exp(x_1x_2)$\n",
    "5. $f(x_1) = 0$\n"
   ]
  },
  {
   "cell_type": "code",
   "execution_count": 2,
   "metadata": {
    "deletable": false,
    "nbgrader": {
     "cell_type": "code",
     "checksum": "6d323d6b5154639b5f337d23877391c3",
     "grade": false,
     "grade_id": "cell-9827a3636f0cc0a1",
     "locked": false,
     "schema_version": 3,
     "solution": true,
     "task": false
    }
   },
   "outputs": [],
   "source": [
    "# Code your answers as TRUE or FALSE.\n",
    "\n",
    "prob.1.1 = FALSE\n",
    "\n",
    "prob.1.2 = TRUE\n",
    "\n",
    "prob.1.3 = TRUE\n",
    "\n",
    "prob.1.4 = FALSE\n",
    "\n",
    "prob.1.5 = TRUE\n",
    "\n",
    "# your code here\n",
    "\n",
    "#points all good\n"
   ]
  },
  {
   "cell_type": "code",
   "execution_count": 3,
   "metadata": {
    "deletable": false,
    "editable": false,
    "nbgrader": {
     "cell_type": "code",
     "checksum": "9081f3182438dfb3d1d5d2b2de4cc281",
     "grade": true,
     "grade_id": "cell-dd9ffff323f29501",
     "locked": true,
     "points": 3,
     "schema_version": 3,
     "solution": false,
     "task": false
    }
   },
   "outputs": [],
   "source": [
    "# Test Cell\n",
    "# Make sure your answers are booleans!\n",
    "# This cell has hidden test cases that will run after submission."
   ]
  },
  {
   "cell_type": "code",
   "execution_count": 4,
   "metadata": {
    "deletable": false,
    "editable": false,
    "nbgrader": {
     "cell_type": "code",
     "checksum": "3e15d37c3587b0856d6352f41a059b0a",
     "grade": true,
     "grade_id": "cell-bdf24258e7256125",
     "locked": true,
     "points": 3,
     "schema_version": 3,
     "solution": false,
     "task": false
    }
   },
   "outputs": [],
   "source": [
    "# Test Cell\n",
    "# This cell has hidden test cases that will run after submission."
   ]
  },
  {
   "cell_type": "code",
   "execution_count": 5,
   "metadata": {
    "deletable": false,
    "editable": false,
    "nbgrader": {
     "cell_type": "code",
     "checksum": "5279d5bc5e46c38b82bd257ae5e4e6a8",
     "grade": true,
     "grade_id": "cell-39f05ddaabbe3c4e",
     "locked": true,
     "points": 3,
     "schema_version": 3,
     "solution": false,
     "task": false
    }
   },
   "outputs": [],
   "source": [
    "# Test Cell\n",
    "# This cell has hidden test cases that will run after submission."
   ]
  },
  {
   "cell_type": "code",
   "execution_count": 6,
   "metadata": {
    "deletable": false,
    "editable": false,
    "nbgrader": {
     "cell_type": "code",
     "checksum": "f0fd62e3740a039b712251ffb363d59a",
     "grade": true,
     "grade_id": "cell-ef5ba78f890c5545",
     "locked": true,
     "points": 3,
     "schema_version": 3,
     "solution": false,
     "task": false
    }
   },
   "outputs": [],
   "source": [
    "# Test Cell\n",
    "# This cell has hidden test cases that will run after submission."
   ]
  },
  {
   "cell_type": "code",
   "execution_count": 7,
   "metadata": {
    "deletable": false,
    "editable": false,
    "nbgrader": {
     "cell_type": "code",
     "checksum": "ff8545a87fef1f03aece17e1bc3c3630",
     "grade": true,
     "grade_id": "cell-5bc659bb6fd23764",
     "locked": true,
     "points": 3,
     "schema_version": 3,
     "solution": false,
     "task": false
    }
   },
   "outputs": [],
   "source": [
    "# Test Cell\n",
    "# This cell has hidden test cases that will run after submission."
   ]
  },
  {
   "cell_type": "markdown",
   "metadata": {
    "deletable": false,
    "editable": false,
    "nbgrader": {
     "cell_type": "markdown",
     "checksum": "b677cc6795190a35a6f9029de0c9f34a",
     "grade": false,
     "grade_id": "cell-11fd71f3c4edbff4",
     "locked": true,
     "schema_version": 3,
     "solution": false,
     "task": false
    }
   },
   "source": [
    "# Problem 2: GAMs with Binary Response\n",
    "\n",
    "In 1911, the Titanic sailed off on its maiden voyage from Southampton, on its way towards New York City. Unfortunately, the ship would eventually collide with an iceberg and sink to the bottom of the ocean. As the ship was sinking, it is said that lifeboats (and floating doors) were prioritized for women and children, and thus many of them were able to surive until rescue arrived. Although a bit grizzy, it does pose an interesting statistical question. If we have the list of passengers, can we predict who will survive the sinking of the Titanic?\n",
    "\n",
    "Turns out GAMs can be used for different kinds of response as well, including Binary responses. That means we can use GAMs to try to answer our question. We load in the data below. It may help to do some basic data analysis before doing too much modeling."
   ]
  },
  {
   "cell_type": "code",
   "execution_count": 8,
   "metadata": {
    "deletable": false,
    "editable": false,
    "nbgrader": {
     "cell_type": "code",
     "checksum": "6e8038e72567f01a6f7efbe74b4c890d",
     "grade": false,
     "grade_id": "cell-918c802d61a832f5",
     "locked": true,
     "schema_version": 3,
     "solution": false,
     "task": false
    }
   },
   "outputs": [
    {
     "data": {
      "text/html": [
       "<table>\n",
       "<caption>A data.frame: 6 × 12</caption>\n",
       "<thead>\n",
       "\t<tr><th></th><th scope=col>PassengerId</th><th scope=col>Survived</th><th scope=col>Pclass</th><th scope=col>Name</th><th scope=col>Sex</th><th scope=col>Age</th><th scope=col>SibSp</th><th scope=col>Parch</th><th scope=col>Ticket</th><th scope=col>Fare</th><th scope=col>Cabin</th><th scope=col>Embarked</th></tr>\n",
       "\t<tr><th></th><th scope=col>&lt;int&gt;</th><th scope=col>&lt;int&gt;</th><th scope=col>&lt;int&gt;</th><th scope=col>&lt;fct&gt;</th><th scope=col>&lt;fct&gt;</th><th scope=col>&lt;dbl&gt;</th><th scope=col>&lt;int&gt;</th><th scope=col>&lt;int&gt;</th><th scope=col>&lt;fct&gt;</th><th scope=col>&lt;dbl&gt;</th><th scope=col>&lt;fct&gt;</th><th scope=col>&lt;fct&gt;</th></tr>\n",
       "</thead>\n",
       "<tbody>\n",
       "\t<tr><th scope=row>1</th><td>1</td><td>0</td><td>3</td><td>Braund, Mr. Owen Harris                            </td><td>male  </td><td>22</td><td>1</td><td>0</td><td>A/5 21171       </td><td> 7.2500</td><td>    </td><td>S</td></tr>\n",
       "\t<tr><th scope=row>2</th><td>2</td><td>1</td><td>1</td><td>Cumings, Mrs. John Bradley (Florence Briggs Thayer)</td><td>female</td><td>38</td><td>1</td><td>0</td><td>PC 17599        </td><td>71.2833</td><td>C85 </td><td>C</td></tr>\n",
       "\t<tr><th scope=row>3</th><td>3</td><td>1</td><td>3</td><td>Heikkinen, Miss. Laina                             </td><td>female</td><td>26</td><td>0</td><td>0</td><td>STON/O2. 3101282</td><td> 7.9250</td><td>    </td><td>S</td></tr>\n",
       "\t<tr><th scope=row>4</th><td>4</td><td>1</td><td>1</td><td>Futrelle, Mrs. Jacques Heath (Lily May Peel)       </td><td>female</td><td>35</td><td>1</td><td>0</td><td>113803          </td><td>53.1000</td><td>C123</td><td>S</td></tr>\n",
       "\t<tr><th scope=row>5</th><td>5</td><td>0</td><td>3</td><td>Allen, Mr. William Henry                           </td><td>male  </td><td>35</td><td>0</td><td>0</td><td>373450          </td><td> 8.0500</td><td>    </td><td>S</td></tr>\n",
       "\t<tr><th scope=row>6</th><td>6</td><td>0</td><td>3</td><td>Moran, Mr. James                                   </td><td>male  </td><td>NA</td><td>0</td><td>0</td><td>330877          </td><td> 8.4583</td><td>    </td><td>Q</td></tr>\n",
       "</tbody>\n",
       "</table>\n"
      ],
      "text/latex": [
       "A data.frame: 6 × 12\n",
       "\\begin{tabular}{r|llllllllllll}\n",
       "  & PassengerId & Survived & Pclass & Name & Sex & Age & SibSp & Parch & Ticket & Fare & Cabin & Embarked\\\\\n",
       "  & <int> & <int> & <int> & <fct> & <fct> & <dbl> & <int> & <int> & <fct> & <dbl> & <fct> & <fct>\\\\\n",
       "\\hline\n",
       "\t1 & 1 & 0 & 3 & Braund, Mr. Owen Harris                             & male   & 22 & 1 & 0 & A/5 21171        &  7.2500 &      & S\\\\\n",
       "\t2 & 2 & 1 & 1 & Cumings, Mrs. John Bradley (Florence Briggs Thayer) & female & 38 & 1 & 0 & PC 17599         & 71.2833 & C85  & C\\\\\n",
       "\t3 & 3 & 1 & 3 & Heikkinen, Miss. Laina                              & female & 26 & 0 & 0 & STON/O2. 3101282 &  7.9250 &      & S\\\\\n",
       "\t4 & 4 & 1 & 1 & Futrelle, Mrs. Jacques Heath (Lily May Peel)        & female & 35 & 1 & 0 & 113803           & 53.1000 & C123 & S\\\\\n",
       "\t5 & 5 & 0 & 3 & Allen, Mr. William Henry                            & male   & 35 & 0 & 0 & 373450           &  8.0500 &      & S\\\\\n",
       "\t6 & 6 & 0 & 3 & Moran, Mr. James                                    & male   & NA & 0 & 0 & 330877           &  8.4583 &      & Q\\\\\n",
       "\\end{tabular}\n"
      ],
      "text/markdown": [
       "\n",
       "A data.frame: 6 × 12\n",
       "\n",
       "| <!--/--> | PassengerId &lt;int&gt; | Survived &lt;int&gt; | Pclass &lt;int&gt; | Name &lt;fct&gt; | Sex &lt;fct&gt; | Age &lt;dbl&gt; | SibSp &lt;int&gt; | Parch &lt;int&gt; | Ticket &lt;fct&gt; | Fare &lt;dbl&gt; | Cabin &lt;fct&gt; | Embarked &lt;fct&gt; |\n",
       "|---|---|---|---|---|---|---|---|---|---|---|---|---|\n",
       "| 1 | 1 | 0 | 3 | Braund, Mr. Owen Harris                             | male   | 22 | 1 | 0 | A/5 21171        |  7.2500 | <!----> | S |\n",
       "| 2 | 2 | 1 | 1 | Cumings, Mrs. John Bradley (Florence Briggs Thayer) | female | 38 | 1 | 0 | PC 17599         | 71.2833 | C85  | C |\n",
       "| 3 | 3 | 1 | 3 | Heikkinen, Miss. Laina                              | female | 26 | 0 | 0 | STON/O2. 3101282 |  7.9250 | <!----> | S |\n",
       "| 4 | 4 | 1 | 1 | Futrelle, Mrs. Jacques Heath (Lily May Peel)        | female | 35 | 1 | 0 | 113803           | 53.1000 | C123 | S |\n",
       "| 5 | 5 | 0 | 3 | Allen, Mr. William Henry                            | male   | 35 | 0 | 0 | 373450           |  8.0500 | <!----> | S |\n",
       "| 6 | 6 | 0 | 3 | Moran, Mr. James                                    | male   | NA | 0 | 0 | 330877           |  8.4583 | <!----> | Q |\n",
       "\n"
      ],
      "text/plain": [
       "  PassengerId Survived Pclass\n",
       "1 1           0        3     \n",
       "2 2           1        1     \n",
       "3 3           1        3     \n",
       "4 4           1        1     \n",
       "5 5           0        3     \n",
       "6 6           0        3     \n",
       "  Name                                                Sex    Age SibSp Parch\n",
       "1 Braund, Mr. Owen Harris                             male   22  1     0    \n",
       "2 Cumings, Mrs. John Bradley (Florence Briggs Thayer) female 38  1     0    \n",
       "3 Heikkinen, Miss. Laina                              female 26  0     0    \n",
       "4 Futrelle, Mrs. Jacques Heath (Lily May Peel)        female 35  1     0    \n",
       "5 Allen, Mr. William Henry                            male   35  0     0    \n",
       "6 Moran, Mr. James                                    male   NA  0     0    \n",
       "  Ticket           Fare    Cabin Embarked\n",
       "1 A/5 21171         7.2500       S       \n",
       "2 PC 17599         71.2833 C85   C       \n",
       "3 STON/O2. 3101282  7.9250       S       \n",
       "4 113803           53.1000 C123  S       \n",
       "5 373450            8.0500       S       \n",
       "6 330877            8.4583       Q       "
      ]
     },
     "metadata": {},
     "output_type": "display_data"
    }
   ],
   "source": [
    "# Load in the Data\n",
    "titanic = read.csv(\"titanic.csv\", sep=\",\")\n",
    "head(titanic)"
   ]
  },
  {
   "cell_type": "markdown",
   "metadata": {
    "deletable": false,
    "editable": false,
    "nbgrader": {
     "cell_type": "markdown",
     "checksum": "bfd6405ae5ec3e9947cef114e8e9f057",
     "grade": false,
     "grade_id": "cell-4e15a14ea1189bbd",
     "locked": true,
     "schema_version": 3,
     "solution": false,
     "task": false
    }
   },
   "source": [
    "### 2. (a) Data Cleaning\n",
    "\n",
    "Before we get to work, we need to clean up this data a bit. If you look over it, you will notice a fair number of columns, many missing values and some NA values. We're going to need to clean our data before we're able to do any modelling. When you're done, you will have a cleaned dataset `titanic`, your training set `titanic.train` and your test set `titanic.test`. Here's what needs to be done:\n",
    "\n",
    "* We have a lot of predictors, but we don't need them all. Restrict the data to on the `Survived`, `Pclass`, `Sex`, `Age` and `Fare` columns.\n",
    "* There's still missing data in our dataframe. That won't do. Remove any rows that have at least one missing value in any column.\n",
    "* If you look at the types of each column, you'll notice that some factors have been loaded as numeric. We should change that. Set `Survived` and `Pclass` to categorical.\n",
    "* We will eventually want to analyze how well our model performs. Split the data into training and test sets. Do this by putting every fifth row into the test set, and use the rest for training. For example, the first 4 rows will be in the training set, and the $5^{th}$ row will be in the test set. Repeat that pattern for the rest of the data."
   ]
  },
  {
   "cell_type": "code",
   "execution_count": 9,
   "metadata": {
    "deletable": false,
    "nbgrader": {
     "cell_type": "code",
     "checksum": "eab86cd57d6fe72f957d3453f26bb38c",
     "grade": false,
     "grade_id": "cell-30b51f38951955c1",
     "locked": false,
     "schema_version": 3,
     "solution": true,
     "task": false
    }
   },
   "outputs": [
    {
     "data": {
      "text/html": [
       "572"
      ],
      "text/latex": [
       "572"
      ],
      "text/markdown": [
       "572"
      ],
      "text/plain": [
       "[1] 572"
      ]
     },
     "metadata": {},
     "output_type": "display_data"
    },
    {
     "data": {
      "text/html": [
       "714"
      ],
      "text/latex": [
       "714"
      ],
      "text/markdown": [
       "714"
      ],
      "text/plain": [
       "[1] 714"
      ]
     },
     "metadata": {},
     "output_type": "display_data"
    },
    {
     "data": {
      "text/html": [
       "<table>\n",
       "<caption>A data.frame: 572 × 5</caption>\n",
       "<thead>\n",
       "\t<tr><th></th><th scope=col>Survived</th><th scope=col>Pclass</th><th scope=col>Sex</th><th scope=col>Age</th><th scope=col>Fare</th></tr>\n",
       "\t<tr><th></th><th scope=col>&lt;fct&gt;</th><th scope=col>&lt;fct&gt;</th><th scope=col>&lt;fct&gt;</th><th scope=col>&lt;dbl&gt;</th><th scope=col>&lt;dbl&gt;</th></tr>\n",
       "</thead>\n",
       "<tbody>\n",
       "\t<tr><th scope=row>1</th><td>0</td><td>3</td><td>male  </td><td>22</td><td>  7.2500</td></tr>\n",
       "\t<tr><th scope=row>2</th><td>1</td><td>1</td><td>female</td><td>38</td><td> 71.2833</td></tr>\n",
       "\t<tr><th scope=row>3</th><td>1</td><td>3</td><td>female</td><td>26</td><td>  7.9250</td></tr>\n",
       "\t<tr><th scope=row>4</th><td>1</td><td>1</td><td>female</td><td>35</td><td> 53.1000</td></tr>\n",
       "\t<tr><th scope=row>7</th><td>0</td><td>1</td><td>male  </td><td>54</td><td> 51.8625</td></tr>\n",
       "\t<tr><th scope=row>8</th><td>0</td><td>3</td><td>male  </td><td> 2</td><td> 21.0750</td></tr>\n",
       "\t<tr><th scope=row>9</th><td>1</td><td>3</td><td>female</td><td>27</td><td> 11.1333</td></tr>\n",
       "\t<tr><th scope=row>10</th><td>1</td><td>2</td><td>female</td><td>14</td><td> 30.0708</td></tr>\n",
       "\t<tr><th scope=row>12</th><td>1</td><td>1</td><td>female</td><td>58</td><td> 26.5500</td></tr>\n",
       "\t<tr><th scope=row>13</th><td>0</td><td>3</td><td>male  </td><td>20</td><td>  8.0500</td></tr>\n",
       "\t<tr><th scope=row>14</th><td>0</td><td>3</td><td>male  </td><td>39</td><td> 31.2750</td></tr>\n",
       "\t<tr><th scope=row>15</th><td>0</td><td>3</td><td>female</td><td>14</td><td>  7.8542</td></tr>\n",
       "\t<tr><th scope=row>17</th><td>0</td><td>3</td><td>male  </td><td> 2</td><td> 29.1250</td></tr>\n",
       "\t<tr><th scope=row>19</th><td>0</td><td>3</td><td>female</td><td>31</td><td> 18.0000</td></tr>\n",
       "\t<tr><th scope=row>21</th><td>0</td><td>2</td><td>male  </td><td>35</td><td> 26.0000</td></tr>\n",
       "\t<tr><th scope=row>22</th><td>1</td><td>2</td><td>male  </td><td>34</td><td> 13.0000</td></tr>\n",
       "\t<tr><th scope=row>24</th><td>1</td><td>1</td><td>male  </td><td>28</td><td> 35.5000</td></tr>\n",
       "\t<tr><th scope=row>25</th><td>0</td><td>3</td><td>female</td><td> 8</td><td> 21.0750</td></tr>\n",
       "\t<tr><th scope=row>26</th><td>1</td><td>3</td><td>female</td><td>38</td><td> 31.3875</td></tr>\n",
       "\t<tr><th scope=row>28</th><td>0</td><td>1</td><td>male  </td><td>19</td><td>263.0000</td></tr>\n",
       "\t<tr><th scope=row>34</th><td>0</td><td>2</td><td>male  </td><td>66</td><td> 10.5000</td></tr>\n",
       "\t<tr><th scope=row>35</th><td>0</td><td>1</td><td>male  </td><td>28</td><td> 82.1708</td></tr>\n",
       "\t<tr><th scope=row>36</th><td>0</td><td>1</td><td>male  </td><td>42</td><td> 52.0000</td></tr>\n",
       "\t<tr><th scope=row>38</th><td>0</td><td>3</td><td>male  </td><td>21</td><td>  8.0500</td></tr>\n",
       "\t<tr><th scope=row>40</th><td>1</td><td>3</td><td>female</td><td>14</td><td> 11.2417</td></tr>\n",
       "\t<tr><th scope=row>41</th><td>0</td><td>3</td><td>female</td><td>40</td><td>  9.4750</td></tr>\n",
       "\t<tr><th scope=row>42</th><td>0</td><td>2</td><td>female</td><td>27</td><td> 21.0000</td></tr>\n",
       "\t<tr><th scope=row>44</th><td>1</td><td>2</td><td>female</td><td> 3</td><td> 41.5792</td></tr>\n",
       "\t<tr><th scope=row>50</th><td>0</td><td>3</td><td>female</td><td>18</td><td> 17.8000</td></tr>\n",
       "\t<tr><th scope=row>51</th><td>0</td><td>3</td><td>male  </td><td> 7</td><td> 39.6875</td></tr>\n",
       "\t<tr><th scope=row>⋮</th><td>⋮</td><td>⋮</td><td>⋮</td><td>⋮</td><td>⋮</td></tr>\n",
       "\t<tr><th scope=row>849</th><td>0</td><td>2</td><td>male  </td><td>28</td><td>33.0000</td></tr>\n",
       "\t<tr><th scope=row>851</th><td>0</td><td>3</td><td>male  </td><td> 4</td><td>31.2750</td></tr>\n",
       "\t<tr><th scope=row>853</th><td>0</td><td>3</td><td>female</td><td> 9</td><td>15.2458</td></tr>\n",
       "\t<tr><th scope=row>854</th><td>1</td><td>1</td><td>female</td><td>16</td><td>39.4000</td></tr>\n",
       "\t<tr><th scope=row>855</th><td>0</td><td>2</td><td>female</td><td>44</td><td>26.0000</td></tr>\n",
       "\t<tr><th scope=row>856</th><td>1</td><td>3</td><td>female</td><td>18</td><td> 9.3500</td></tr>\n",
       "\t<tr><th scope=row>858</th><td>1</td><td>1</td><td>male  </td><td>51</td><td>26.5500</td></tr>\n",
       "\t<tr><th scope=row>859</th><td>1</td><td>3</td><td>female</td><td>24</td><td>19.2583</td></tr>\n",
       "\t<tr><th scope=row>861</th><td>0</td><td>3</td><td>male  </td><td>41</td><td>14.1083</td></tr>\n",
       "\t<tr><th scope=row>862</th><td>0</td><td>2</td><td>male  </td><td>21</td><td>11.5000</td></tr>\n",
       "\t<tr><th scope=row>865</th><td>0</td><td>2</td><td>male  </td><td>24</td><td>13.0000</td></tr>\n",
       "\t<tr><th scope=row>866</th><td>1</td><td>2</td><td>female</td><td>42</td><td>13.0000</td></tr>\n",
       "\t<tr><th scope=row>867</th><td>1</td><td>2</td><td>female</td><td>27</td><td>13.8583</td></tr>\n",
       "\t<tr><th scope=row>868</th><td>0</td><td>1</td><td>male  </td><td>31</td><td>50.4958</td></tr>\n",
       "\t<tr><th scope=row>871</th><td>0</td><td>3</td><td>male  </td><td>26</td><td> 7.8958</td></tr>\n",
       "\t<tr><th scope=row>872</th><td>1</td><td>1</td><td>female</td><td>47</td><td>52.5542</td></tr>\n",
       "\t<tr><th scope=row>873</th><td>0</td><td>1</td><td>male  </td><td>33</td><td> 5.0000</td></tr>\n",
       "\t<tr><th scope=row>874</th><td>0</td><td>3</td><td>male  </td><td>47</td><td> 9.0000</td></tr>\n",
       "\t<tr><th scope=row>876</th><td>1</td><td>3</td><td>female</td><td>15</td><td> 7.2250</td></tr>\n",
       "\t<tr><th scope=row>877</th><td>0</td><td>3</td><td>male  </td><td>20</td><td> 9.8458</td></tr>\n",
       "\t<tr><th scope=row>878</th><td>0</td><td>3</td><td>male  </td><td>19</td><td> 7.8958</td></tr>\n",
       "\t<tr><th scope=row>880</th><td>1</td><td>1</td><td>female</td><td>56</td><td>83.1583</td></tr>\n",
       "\t<tr><th scope=row>882</th><td>0</td><td>3</td><td>male  </td><td>33</td><td> 7.8958</td></tr>\n",
       "\t<tr><th scope=row>883</th><td>0</td><td>3</td><td>female</td><td>22</td><td>10.5167</td></tr>\n",
       "\t<tr><th scope=row>884</th><td>0</td><td>2</td><td>male  </td><td>28</td><td>10.5000</td></tr>\n",
       "\t<tr><th scope=row>885</th><td>0</td><td>3</td><td>male  </td><td>25</td><td> 7.0500</td></tr>\n",
       "\t<tr><th scope=row>887</th><td>0</td><td>2</td><td>male  </td><td>27</td><td>13.0000</td></tr>\n",
       "\t<tr><th scope=row>888</th><td>1</td><td>1</td><td>female</td><td>19</td><td>30.0000</td></tr>\n",
       "\t<tr><th scope=row>890</th><td>1</td><td>1</td><td>male  </td><td>26</td><td>30.0000</td></tr>\n",
       "\t<tr><th scope=row>891</th><td>0</td><td>3</td><td>male  </td><td>32</td><td> 7.7500</td></tr>\n",
       "</tbody>\n",
       "</table>\n"
      ],
      "text/latex": [
       "A data.frame: 572 × 5\n",
       "\\begin{tabular}{r|lllll}\n",
       "  & Survived & Pclass & Sex & Age & Fare\\\\\n",
       "  & <fct> & <fct> & <fct> & <dbl> & <dbl>\\\\\n",
       "\\hline\n",
       "\t1 & 0 & 3 & male   & 22 &   7.2500\\\\\n",
       "\t2 & 1 & 1 & female & 38 &  71.2833\\\\\n",
       "\t3 & 1 & 3 & female & 26 &   7.9250\\\\\n",
       "\t4 & 1 & 1 & female & 35 &  53.1000\\\\\n",
       "\t7 & 0 & 1 & male   & 54 &  51.8625\\\\\n",
       "\t8 & 0 & 3 & male   &  2 &  21.0750\\\\\n",
       "\t9 & 1 & 3 & female & 27 &  11.1333\\\\\n",
       "\t10 & 1 & 2 & female & 14 &  30.0708\\\\\n",
       "\t12 & 1 & 1 & female & 58 &  26.5500\\\\\n",
       "\t13 & 0 & 3 & male   & 20 &   8.0500\\\\\n",
       "\t14 & 0 & 3 & male   & 39 &  31.2750\\\\\n",
       "\t15 & 0 & 3 & female & 14 &   7.8542\\\\\n",
       "\t17 & 0 & 3 & male   &  2 &  29.1250\\\\\n",
       "\t19 & 0 & 3 & female & 31 &  18.0000\\\\\n",
       "\t21 & 0 & 2 & male   & 35 &  26.0000\\\\\n",
       "\t22 & 1 & 2 & male   & 34 &  13.0000\\\\\n",
       "\t24 & 1 & 1 & male   & 28 &  35.5000\\\\\n",
       "\t25 & 0 & 3 & female &  8 &  21.0750\\\\\n",
       "\t26 & 1 & 3 & female & 38 &  31.3875\\\\\n",
       "\t28 & 0 & 1 & male   & 19 & 263.0000\\\\\n",
       "\t34 & 0 & 2 & male   & 66 &  10.5000\\\\\n",
       "\t35 & 0 & 1 & male   & 28 &  82.1708\\\\\n",
       "\t36 & 0 & 1 & male   & 42 &  52.0000\\\\\n",
       "\t38 & 0 & 3 & male   & 21 &   8.0500\\\\\n",
       "\t40 & 1 & 3 & female & 14 &  11.2417\\\\\n",
       "\t41 & 0 & 3 & female & 40 &   9.4750\\\\\n",
       "\t42 & 0 & 2 & female & 27 &  21.0000\\\\\n",
       "\t44 & 1 & 2 & female &  3 &  41.5792\\\\\n",
       "\t50 & 0 & 3 & female & 18 &  17.8000\\\\\n",
       "\t51 & 0 & 3 & male   &  7 &  39.6875\\\\\n",
       "\t⋮ & ⋮ & ⋮ & ⋮ & ⋮ & ⋮\\\\\n",
       "\t849 & 0 & 2 & male   & 28 & 33.0000\\\\\n",
       "\t851 & 0 & 3 & male   &  4 & 31.2750\\\\\n",
       "\t853 & 0 & 3 & female &  9 & 15.2458\\\\\n",
       "\t854 & 1 & 1 & female & 16 & 39.4000\\\\\n",
       "\t855 & 0 & 2 & female & 44 & 26.0000\\\\\n",
       "\t856 & 1 & 3 & female & 18 &  9.3500\\\\\n",
       "\t858 & 1 & 1 & male   & 51 & 26.5500\\\\\n",
       "\t859 & 1 & 3 & female & 24 & 19.2583\\\\\n",
       "\t861 & 0 & 3 & male   & 41 & 14.1083\\\\\n",
       "\t862 & 0 & 2 & male   & 21 & 11.5000\\\\\n",
       "\t865 & 0 & 2 & male   & 24 & 13.0000\\\\\n",
       "\t866 & 1 & 2 & female & 42 & 13.0000\\\\\n",
       "\t867 & 1 & 2 & female & 27 & 13.8583\\\\\n",
       "\t868 & 0 & 1 & male   & 31 & 50.4958\\\\\n",
       "\t871 & 0 & 3 & male   & 26 &  7.8958\\\\\n",
       "\t872 & 1 & 1 & female & 47 & 52.5542\\\\\n",
       "\t873 & 0 & 1 & male   & 33 &  5.0000\\\\\n",
       "\t874 & 0 & 3 & male   & 47 &  9.0000\\\\\n",
       "\t876 & 1 & 3 & female & 15 &  7.2250\\\\\n",
       "\t877 & 0 & 3 & male   & 20 &  9.8458\\\\\n",
       "\t878 & 0 & 3 & male   & 19 &  7.8958\\\\\n",
       "\t880 & 1 & 1 & female & 56 & 83.1583\\\\\n",
       "\t882 & 0 & 3 & male   & 33 &  7.8958\\\\\n",
       "\t883 & 0 & 3 & female & 22 & 10.5167\\\\\n",
       "\t884 & 0 & 2 & male   & 28 & 10.5000\\\\\n",
       "\t885 & 0 & 3 & male   & 25 &  7.0500\\\\\n",
       "\t887 & 0 & 2 & male   & 27 & 13.0000\\\\\n",
       "\t888 & 1 & 1 & female & 19 & 30.0000\\\\\n",
       "\t890 & 1 & 1 & male   & 26 & 30.0000\\\\\n",
       "\t891 & 0 & 3 & male   & 32 &  7.7500\\\\\n",
       "\\end{tabular}\n"
      ],
      "text/markdown": [
       "\n",
       "A data.frame: 572 × 5\n",
       "\n",
       "| <!--/--> | Survived &lt;fct&gt; | Pclass &lt;fct&gt; | Sex &lt;fct&gt; | Age &lt;dbl&gt; | Fare &lt;dbl&gt; |\n",
       "|---|---|---|---|---|---|\n",
       "| 1 | 0 | 3 | male   | 22 |   7.2500 |\n",
       "| 2 | 1 | 1 | female | 38 |  71.2833 |\n",
       "| 3 | 1 | 3 | female | 26 |   7.9250 |\n",
       "| 4 | 1 | 1 | female | 35 |  53.1000 |\n",
       "| 7 | 0 | 1 | male   | 54 |  51.8625 |\n",
       "| 8 | 0 | 3 | male   |  2 |  21.0750 |\n",
       "| 9 | 1 | 3 | female | 27 |  11.1333 |\n",
       "| 10 | 1 | 2 | female | 14 |  30.0708 |\n",
       "| 12 | 1 | 1 | female | 58 |  26.5500 |\n",
       "| 13 | 0 | 3 | male   | 20 |   8.0500 |\n",
       "| 14 | 0 | 3 | male   | 39 |  31.2750 |\n",
       "| 15 | 0 | 3 | female | 14 |   7.8542 |\n",
       "| 17 | 0 | 3 | male   |  2 |  29.1250 |\n",
       "| 19 | 0 | 3 | female | 31 |  18.0000 |\n",
       "| 21 | 0 | 2 | male   | 35 |  26.0000 |\n",
       "| 22 | 1 | 2 | male   | 34 |  13.0000 |\n",
       "| 24 | 1 | 1 | male   | 28 |  35.5000 |\n",
       "| 25 | 0 | 3 | female |  8 |  21.0750 |\n",
       "| 26 | 1 | 3 | female | 38 |  31.3875 |\n",
       "| 28 | 0 | 1 | male   | 19 | 263.0000 |\n",
       "| 34 | 0 | 2 | male   | 66 |  10.5000 |\n",
       "| 35 | 0 | 1 | male   | 28 |  82.1708 |\n",
       "| 36 | 0 | 1 | male   | 42 |  52.0000 |\n",
       "| 38 | 0 | 3 | male   | 21 |   8.0500 |\n",
       "| 40 | 1 | 3 | female | 14 |  11.2417 |\n",
       "| 41 | 0 | 3 | female | 40 |   9.4750 |\n",
       "| 42 | 0 | 2 | female | 27 |  21.0000 |\n",
       "| 44 | 1 | 2 | female |  3 |  41.5792 |\n",
       "| 50 | 0 | 3 | female | 18 |  17.8000 |\n",
       "| 51 | 0 | 3 | male   |  7 |  39.6875 |\n",
       "| ⋮ | ⋮ | ⋮ | ⋮ | ⋮ | ⋮ |\n",
       "| 849 | 0 | 2 | male   | 28 | 33.0000 |\n",
       "| 851 | 0 | 3 | male   |  4 | 31.2750 |\n",
       "| 853 | 0 | 3 | female |  9 | 15.2458 |\n",
       "| 854 | 1 | 1 | female | 16 | 39.4000 |\n",
       "| 855 | 0 | 2 | female | 44 | 26.0000 |\n",
       "| 856 | 1 | 3 | female | 18 |  9.3500 |\n",
       "| 858 | 1 | 1 | male   | 51 | 26.5500 |\n",
       "| 859 | 1 | 3 | female | 24 | 19.2583 |\n",
       "| 861 | 0 | 3 | male   | 41 | 14.1083 |\n",
       "| 862 | 0 | 2 | male   | 21 | 11.5000 |\n",
       "| 865 | 0 | 2 | male   | 24 | 13.0000 |\n",
       "| 866 | 1 | 2 | female | 42 | 13.0000 |\n",
       "| 867 | 1 | 2 | female | 27 | 13.8583 |\n",
       "| 868 | 0 | 1 | male   | 31 | 50.4958 |\n",
       "| 871 | 0 | 3 | male   | 26 |  7.8958 |\n",
       "| 872 | 1 | 1 | female | 47 | 52.5542 |\n",
       "| 873 | 0 | 1 | male   | 33 |  5.0000 |\n",
       "| 874 | 0 | 3 | male   | 47 |  9.0000 |\n",
       "| 876 | 1 | 3 | female | 15 |  7.2250 |\n",
       "| 877 | 0 | 3 | male   | 20 |  9.8458 |\n",
       "| 878 | 0 | 3 | male   | 19 |  7.8958 |\n",
       "| 880 | 1 | 1 | female | 56 | 83.1583 |\n",
       "| 882 | 0 | 3 | male   | 33 |  7.8958 |\n",
       "| 883 | 0 | 3 | female | 22 | 10.5167 |\n",
       "| 884 | 0 | 2 | male   | 28 | 10.5000 |\n",
       "| 885 | 0 | 3 | male   | 25 |  7.0500 |\n",
       "| 887 | 0 | 2 | male   | 27 | 13.0000 |\n",
       "| 888 | 1 | 1 | female | 19 | 30.0000 |\n",
       "| 890 | 1 | 1 | male   | 26 | 30.0000 |\n",
       "| 891 | 0 | 3 | male   | 32 |  7.7500 |\n",
       "\n"
      ],
      "text/plain": [
       "    Survived Pclass Sex    Age Fare    \n",
       "1   0        3      male   22    7.2500\n",
       "2   1        1      female 38   71.2833\n",
       "3   1        3      female 26    7.9250\n",
       "4   1        1      female 35   53.1000\n",
       "7   0        1      male   54   51.8625\n",
       "8   0        3      male    2   21.0750\n",
       "9   1        3      female 27   11.1333\n",
       "10  1        2      female 14   30.0708\n",
       "12  1        1      female 58   26.5500\n",
       "13  0        3      male   20    8.0500\n",
       "14  0        3      male   39   31.2750\n",
       "15  0        3      female 14    7.8542\n",
       "17  0        3      male    2   29.1250\n",
       "19  0        3      female 31   18.0000\n",
       "21  0        2      male   35   26.0000\n",
       "22  1        2      male   34   13.0000\n",
       "24  1        1      male   28   35.5000\n",
       "25  0        3      female  8   21.0750\n",
       "26  1        3      female 38   31.3875\n",
       "28  0        1      male   19  263.0000\n",
       "34  0        2      male   66   10.5000\n",
       "35  0        1      male   28   82.1708\n",
       "36  0        1      male   42   52.0000\n",
       "38  0        3      male   21    8.0500\n",
       "40  1        3      female 14   11.2417\n",
       "41  0        3      female 40    9.4750\n",
       "42  0        2      female 27   21.0000\n",
       "44  1        2      female  3   41.5792\n",
       "50  0        3      female 18   17.8000\n",
       "51  0        3      male    7   39.6875\n",
       "⋮   ⋮        ⋮      ⋮      ⋮   ⋮       \n",
       "849 0        2      male   28  33.0000 \n",
       "851 0        3      male    4  31.2750 \n",
       "853 0        3      female  9  15.2458 \n",
       "854 1        1      female 16  39.4000 \n",
       "855 0        2      female 44  26.0000 \n",
       "856 1        3      female 18   9.3500 \n",
       "858 1        1      male   51  26.5500 \n",
       "859 1        3      female 24  19.2583 \n",
       "861 0        3      male   41  14.1083 \n",
       "862 0        2      male   21  11.5000 \n",
       "865 0        2      male   24  13.0000 \n",
       "866 1        2      female 42  13.0000 \n",
       "867 1        2      female 27  13.8583 \n",
       "868 0        1      male   31  50.4958 \n",
       "871 0        3      male   26   7.8958 \n",
       "872 1        1      female 47  52.5542 \n",
       "873 0        1      male   33   5.0000 \n",
       "874 0        3      male   47   9.0000 \n",
       "876 1        3      female 15   7.2250 \n",
       "877 0        3      male   20   9.8458 \n",
       "878 0        3      male   19   7.8958 \n",
       "880 1        1      female 56  83.1583 \n",
       "882 0        3      male   33   7.8958 \n",
       "883 0        3      female 22  10.5167 \n",
       "884 0        2      male   28  10.5000 \n",
       "885 0        3      male   25   7.0500 \n",
       "887 0        2      male   27  13.0000 \n",
       "888 1        1      female 19  30.0000 \n",
       "890 1        1      male   26  30.0000 \n",
       "891 0        3      male   32   7.7500 "
      ]
     },
     "metadata": {},
     "output_type": "display_data"
    }
   ],
   "source": [
    "titanic.train = NA\n",
    "titanic.test = NA\n",
    "\n",
    "# your code here\n",
    "titanic = select(titanic, Survived, Pclass, Sex, Age, Fare)\n",
    "titanic = na.omit(titanic)\n",
    "titanic$Pclass = as.factor(titanic$Pclass)\n",
    "titanic$Survived = as.factor(titanic$Survived)\n",
    "\n",
    "index = seq(0, nrow(titanic), 5)\n",
    "titanic.test <- titanic[index, ]\n",
    "titanic.train <- titanic[-index, ]\n",
    "\n",
    "nrow(titanic.train)\n",
    "nrow(titanic)\n",
    "titanic.train\n",
    "\n",
    "#points all good"
   ]
  },
  {
   "cell_type": "code",
   "execution_count": 10,
   "metadata": {
    "deletable": false,
    "editable": false,
    "nbgrader": {
     "cell_type": "code",
     "checksum": "e6e8badf525b0d1640d3883928705065",
     "grade": true,
     "grade_id": "cell-e876b2c0c652c90a",
     "locked": true,
     "points": 16,
     "schema_version": 3,
     "solution": false,
     "task": false
    }
   },
   "outputs": [],
   "source": [
    "# Test Cell\n",
    "# This cell has hidden test cases that will run after submission.\n",
    "if(!test_that(\"Checking DataFrame Size\", {expect_equal(nrow(titanic), 714)\n",
    "                                          expect_equal(nrow(titanic.train), 572)})){\n",
    "    print(\"Incorrect Dataset sizes. Make sure these are correct, or else your modelling could be incorrect.\")\n",
    "}\n"
   ]
  },
  {
   "cell_type": "markdown",
   "metadata": {
    "deletable": false,
    "editable": false,
    "nbgrader": {
     "cell_type": "markdown",
     "checksum": "f385865653d7117a359806ac935f67ca",
     "grade": false,
     "grade_id": "cell-86987153691d6519",
     "locked": true,
     "schema_version": 3,
     "solution": false,
     "task": false
    }
   },
   "source": [
    "### 2. (b) Fit Your GAM\n",
    "\n",
    "Now that our dataset is clean, we can fit our model. Fit your GAM as `titanic.gam` with `Survived` as your response and all other values as predictors. Make sure to smooth the necesary predictors!\n",
    "\n",
    "Hint: The response is binary, so you will need to tell your model to expect that. How did we do that when we were fitting GLMs?\n",
    "\n",
    "Look at the summary for your GAM model. Where any predictors insignificant? Save the string name of any/all insignificant predictors into the list `insig.predictors`."
   ]
  },
  {
   "cell_type": "code",
   "execution_count": 11,
   "metadata": {
    "deletable": false,
    "nbgrader": {
     "cell_type": "code",
     "checksum": "85604a17af70b84279b96501f7b54742",
     "grade": false,
     "grade_id": "cell-ace90fc13b189bd6",
     "locked": false,
     "schema_version": 3,
     "solution": true,
     "task": false
    }
   },
   "outputs": [
    {
     "data": {
      "text/plain": [
       "\n",
       "Family: binomial \n",
       "Link function: logit \n",
       "\n",
       "Formula:\n",
       "Survived ~ Pclass + Sex + s(Age) + s(Fare)\n",
       "\n",
       "Parametric coefficients:\n",
       "            Estimate Std. Error z value Pr(>|z|)    \n",
       "(Intercept)   2.6562     0.3394   7.826 5.03e-15 ***\n",
       "Pclass2      -1.4661     0.3756  -3.904 9.47e-05 ***\n",
       "Pclass3      -2.4575     0.4024  -6.107 1.01e-09 ***\n",
       "Sexmale      -2.4886     0.2315 -10.752  < 2e-16 ***\n",
       "---\n",
       "Signif. codes:  0 ‘***’ 0.001 ‘**’ 0.01 ‘*’ 0.05 ‘.’ 0.1 ‘ ’ 1\n",
       "\n",
       "Approximate significance of smooth terms:\n",
       "          edf Ref.df Chi.sq p-value   \n",
       "s(Age)  3.995  4.959  19.28 0.00154 **\n",
       "s(Fare) 2.024  2.524   1.26 0.52078   \n",
       "---\n",
       "Signif. codes:  0 ‘***’ 0.001 ‘**’ 0.01 ‘*’ 0.05 ‘.’ 0.1 ‘ ’ 1\n",
       "\n",
       "R-sq.(adj) =  0.387   Deviance explained = 31.8%\n",
       "UBRE = -0.043402  Scale est. = 1         n = 572"
      ]
     },
     "metadata": {},
     "output_type": "display_data"
    },
    {
     "data": {
      "image/png": "[encoded data removed]",
      "text/plain": [
       "plot without title"
      ]
     },
     "metadata": {
      "image/png": {
       "height": 420,
       "width": 420
      },
      "text/plain": {
       "height": 420,
       "width": 420
      }
     },
     "output_type": "display_data"
    }
   ],
   "source": [
    "titanic.gam = NA\n",
    "insig.predictors = c()\n",
    "\n",
    "# your code here\n",
    "pairs(titanic, main = \"Titanic Data\", pch = 21,\n",
    "bg = c(\"#CFB87C\"))\n",
    "\n",
    "titanic.gam = gam(Survived ~ Pclass + Sex + s(Age) + s(Fare), data=titanic.train, family=binomial)\n",
    "summary(titanic.gam)\n",
    "insig.predictors = c(\"Fare\")"
   ]
  },
  {
   "cell_type": "code",
   "execution_count": 12,
   "metadata": {
    "deletable": false,
    "editable": false,
    "nbgrader": {
     "cell_type": "code",
     "checksum": "9b91b63036bec7ebb4851e5a2dd01180",
     "grade": true,
     "grade_id": "cell-0096b827bde4c638",
     "locked": true,
     "points": 4,
     "schema_version": 3,
     "solution": false,
     "task": false
    }
   },
   "outputs": [],
   "source": [
    "# Test Cell\n",
    "# This cell has hidden test cases that will run after submission."
   ]
  },
  {
   "cell_type": "code",
   "execution_count": 13,
   "metadata": {
    "deletable": false,
    "editable": false,
    "nbgrader": {
     "cell_type": "code",
     "checksum": "b44953b685b8e90b1852e9c0792b7058",
     "grade": true,
     "grade_id": "cell-8043eba76c7431b7",
     "locked": true,
     "points": 4,
     "schema_version": 3,
     "solution": false,
     "task": false
    }
   },
   "outputs": [],
   "source": [
    "# Test Cell\n",
    "# This cell has hidden test cases that will run after submission."
   ]
  },
  {
   "cell_type": "markdown",
   "metadata": {
    "deletable": false,
    "editable": false,
    "nbgrader": {
     "cell_type": "markdown",
     "checksum": "ceca6f186fe284fe9de4f931d122c676",
     "grade": false,
     "grade_id": "cell-6fa13b45d86046f4",
     "locked": true,
     "schema_version": 3,
     "solution": false,
     "task": false
    }
   },
   "source": [
    "### 2. (c) Effective Degrees of Freedom\n",
    "\n",
    "Let's take a look at our continuous predictors and see if they appear linearly in our GAM model. There are two ways of doing this:\n",
    "\n",
    "* Use the `plot.gam()` function to plot the curves of your continuous predictors.\n",
    "* Look at the Effective Degrees of Freedom for the continuous variables.\n",
    "\n",
    "After conducting these analysis, determine whether each continuous predictor is linear or not. Remember, in statistical terms, a \"smooth term\" is linear if you can draw a line through the 95% confidence band.\n",
    "\n",
    "Save your answer as `TRUE` if it is linear and `FALSE` if it is not. Use `age.is.linear` for `Age` and `Fare.is.linear` for `Fare`. "
   ]
  },
  {
   "cell_type": "code",
   "execution_count": 14,
   "metadata": {
    "deletable": false,
    "nbgrader": {
     "cell_type": "code",
     "checksum": "7e5469d82fe39c3517ed67e242864122",
     "grade": false,
     "grade_id": "cell-ad296a07e9a7c139",
     "locked": false,
     "schema_version": 3,
     "solution": true,
     "task": false
    }
   },
   "outputs": [
    {
     "data": {
      "image/png": "[encoded data removed]",
      "text/plain": [
       "plot without title"
      ]
     },
     "metadata": {
      "image/png": {
       "height": 420,
       "width": 420
      },
      "text/plain": {
       "height": 420,
       "width": 420
      }
     },
     "output_type": "display_data"
    },
    {
     "data": {
      "text/plain": [
       "\n",
       "Family: binomial \n",
       "Link function: logit \n",
       "\n",
       "Formula:\n",
       "Survived ~ Pclass + Sex + s(Age) + s(Fare)\n",
       "\n",
       "Parametric coefficients:\n",
       "            Estimate Std. Error z value Pr(>|z|)    \n",
       "(Intercept)   2.6562     0.3394   7.826 5.03e-15 ***\n",
       "Pclass2      -1.4661     0.3756  -3.904 9.47e-05 ***\n",
       "Pclass3      -2.4575     0.4024  -6.107 1.01e-09 ***\n",
       "Sexmale      -2.4886     0.2315 -10.752  < 2e-16 ***\n",
       "---\n",
       "Signif. codes:  0 ‘***’ 0.001 ‘**’ 0.01 ‘*’ 0.05 ‘.’ 0.1 ‘ ’ 1\n",
       "\n",
       "Approximate significance of smooth terms:\n",
       "          edf Ref.df Chi.sq p-value   \n",
       "s(Age)  3.995  4.959  19.28 0.00154 **\n",
       "s(Fare) 2.024  2.524   1.26 0.52078   \n",
       "---\n",
       "Signif. codes:  0 ‘***’ 0.001 ‘**’ 0.01 ‘*’ 0.05 ‘.’ 0.1 ‘ ’ 1\n",
       "\n",
       "R-sq.(adj) =  0.387   Deviance explained = 31.8%\n",
       "UBRE = -0.043402  Scale est. = 1         n = 572"
      ]
     },
     "metadata": {},
     "output_type": "display_data"
    },
    {
     "data": {
      "image/png": "[encoded data removed]",
      "text/plain": [
       "plot without title"
      ]
     },
     "metadata": {
      "image/png": {
       "height": 420,
       "width": 420
      },
      "text/plain": {
       "height": 420,
       "width": 420
      }
     },
     "output_type": "display_data"
    }
   ],
   "source": [
    "age.is.linear = NA\n",
    "fare.is.linear = NA\n",
    "\n",
    "# your code here\n",
    "plot.gam(titanic.gam)\n",
    "summary(titanic.gam)\n",
    "\n",
    "age.is.linear = FALSE\n",
    "fare.is.linear = TRUE"
   ]
  },
  {
   "cell_type": "code",
   "execution_count": 15,
   "metadata": {
    "deletable": false,
    "editable": false,
    "nbgrader": {
     "cell_type": "code",
     "checksum": "77044feb1b8b81d26a098a41759bf759",
     "grade": true,
     "grade_id": "cell-2d8cefb023268758",
     "locked": true,
     "points": 3,
     "schema_version": 3,
     "solution": false,
     "task": false
    }
   },
   "outputs": [],
   "source": [
    "# Test Cell\n",
    "# This cell has hidden test cases that will run after submission."
   ]
  },
  {
   "cell_type": "code",
   "execution_count": 16,
   "metadata": {
    "deletable": false,
    "editable": false,
    "nbgrader": {
     "cell_type": "code",
     "checksum": "d9abc6a46ebcde22abce01b9a5eb3bc1",
     "grade": true,
     "grade_id": "cell-6dfd2a151bcce57a",
     "locked": true,
     "points": 3,
     "schema_version": 3,
     "solution": false,
     "task": false
    }
   },
   "outputs": [],
   "source": [
    "# Test Cell\n",
    "# This cell has hidden test cases that will run after submission."
   ]
  },
  {
   "cell_type": "markdown",
   "metadata": {
    "deletable": false,
    "editable": false,
    "nbgrader": {
     "cell_type": "markdown",
     "checksum": "3c11cd84720e69a49c7a48d63c5d34dd",
     "grade": false,
     "grade_id": "cell-d3e559f5807c8de2",
     "locked": true,
     "schema_version": 3,
     "solution": false,
     "task": false
    }
   },
   "source": [
    "### 2. (d) Predicting with GAMs\n",
    "\n",
    "Let's use our Test set to determine how well our model performs on new data. Predict the `Survived` values for the data in your test set and compute the accuracy, precision, recall and F1 score. Save these values as `gam.acc`, `gam.prec`, `gam.rec` and `gam.f1`.\n",
    "\n",
    "How well did the model do?"
   ]
  },
  {
   "cell_type": "code",
   "execution_count": 17,
   "metadata": {
    "deletable": false,
    "nbgrader": {
     "cell_type": "code",
     "checksum": "28f0034efbd77b89ba33328ea3cf00f8",
     "grade": false,
     "grade_id": "cell-997873099acf9b7e",
     "locked": false,
     "schema_version": 3,
     "solution": true,
     "task": false
    }
   },
   "outputs": [],
   "source": [
    "gam.acc = NA\n",
    "gam.prec = NA\n",
    "gam.rec = NA\n",
    "gam.f1 = NA\n",
    "\n",
    "# your code here\n",
    "\n",
    "titanic.predict = predict.gam(titanic.gam, type = \"response\", titanic.test, na.rm = TRUE)\n",
    "titanic.class = ifelse(titanic.predict > 0.5, 1, 0)\n",
    "\n",
    "tp = sum(titanic.class == 1 & titanic.test$Survived == 1);\n",
    "tn = sum(titanic.class == 0 & titanic.test$Survived == 0);\n",
    "fp = sum(titanic.class == 1 & titanic.test$Survived == 0);\n",
    "fn = sum(titanic.class == 0 & titanic.test$Survived == 1);\n",
    "\n",
    "gam.acc = (tp+tn)/(tp+tn+fp+fn);\n",
    "gam.prec = tp/(tp+fp)\n",
    "gam.rec = (tp)/(tp+fn)\n",
    "gam.f1 = (2*tp)/(2*tp+fp+fn)"
   ]
  },
  {
   "cell_type": "code",
   "execution_count": 18,
   "metadata": {
    "deletable": false,
    "editable": false,
    "nbgrader": {
     "cell_type": "code",
     "checksum": "763f31f801fafd4372f365de403227c7",
     "grade": true,
     "grade_id": "cell-b22f0c2d971e8484",
     "locked": true,
     "points": 12,
     "schema_version": 3,
     "solution": false,
     "task": false
    }
   },
   "outputs": [],
   "source": [
    "# Test Cell\n",
    "# This cell has hidden test cases that will run after submission."
   ]
  }
 ],
 "metadata": {
  "kernelspec": {
   "display_name": "R",
   "language": "R",
   "name": "ir"
  },
  "language_info": {
   "codemirror_mode": "r",
   "file_extension": ".r",
   "mimetype": "text/x-r-source",
   "name": "R",
   "pygments_lexer": "r",
   "version": "3.6.3"
  }
 },
 "nbformat": 4,
 "nbformat_minor": 4
}
